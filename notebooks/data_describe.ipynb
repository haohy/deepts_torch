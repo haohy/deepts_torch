{
 "cells": [
  {
   "cell_type": "code",
   "execution_count": 1,
   "metadata": {},
   "outputs": [
    {
     "ename": "ModuleNotFoundError",
     "evalue": "No module named 'matplotlib'",
     "output_type": "error",
     "traceback": [
      "\u001b[0;31m---------------------------------------------------------------------------\u001b[0m",
      "\u001b[0;31mModuleNotFoundError\u001b[0m                       Traceback (most recent call last)",
      "\u001b[0;32m<ipython-input-1-b48ac434ffae>\u001b[0m in \u001b[0;36m<module>\u001b[0;34m\u001b[0m\n\u001b[1;32m      2\u001b[0m \u001b[0;32mimport\u001b[0m \u001b[0mnumpy\u001b[0m \u001b[0;32mas\u001b[0m \u001b[0mnp\u001b[0m\u001b[0;34m\u001b[0m\u001b[0;34m\u001b[0m\u001b[0m\n\u001b[1;32m      3\u001b[0m \u001b[0;32mimport\u001b[0m \u001b[0mpandas\u001b[0m \u001b[0;32mas\u001b[0m \u001b[0mpd\u001b[0m\u001b[0;34m\u001b[0m\u001b[0;34m\u001b[0m\u001b[0m\n\u001b[0;32m----> 4\u001b[0;31m \u001b[0;32mimport\u001b[0m \u001b[0mmatplotlib\u001b[0m\u001b[0;34m.\u001b[0m\u001b[0mpyplot\u001b[0m \u001b[0;32mas\u001b[0m \u001b[0mplt\u001b[0m\u001b[0;34m\u001b[0m\u001b[0;34m\u001b[0m\u001b[0m\n\u001b[0m\u001b[1;32m      5\u001b[0m \u001b[0;32mfrom\u001b[0m \u001b[0mpylab\u001b[0m \u001b[0;32mimport\u001b[0m \u001b[0mmpl\u001b[0m\u001b[0;34m\u001b[0m\u001b[0;34m\u001b[0m\u001b[0m\n\u001b[1;32m      6\u001b[0m \u001b[0mmpl\u001b[0m\u001b[0;34m.\u001b[0m\u001b[0mrcParams\u001b[0m\u001b[0;34m[\u001b[0m\u001b[0;34m'font.sans-serif'\u001b[0m\u001b[0;34m]\u001b[0m \u001b[0;34m=\u001b[0m \u001b[0;34m[\u001b[0m\u001b[0;34m'SimHei'\u001b[0m\u001b[0;34m]\u001b[0m\u001b[0;34m\u001b[0m\u001b[0;34m\u001b[0m\u001b[0m\n",
      "\u001b[0;31mModuleNotFoundError\u001b[0m: No module named 'matplotlib'"
     ]
    }
   ],
   "source": [
    "import os\n",
    "import numpy as np\n",
    "import pandas as pd\n",
    "import matplotlib.pyplot as plt\n",
    "from pylab import mpl\n",
    "mpl.rcParams['font.sans-serif'] = ['SimHei']\n",
    "import tensorflow as tf\n",
    "import holidays"
   ]
  },
  {
   "cell_type": "code",
   "execution_count": 3,
   "metadata": {
    "scrolled": false
   },
   "outputs": [
    {
     "ename": "ModuleNotFoundError",
     "evalue": "No module named 'matplotlib'",
     "output_type": "error",
     "traceback": [
      "\u001b[0;31m---------------------------------------------------------------------------\u001b[0m",
      "\u001b[0;31mModuleNotFoundError\u001b[0m                       Traceback (most recent call last)",
      "\u001b[0;32m<ipython-input-3-0484cd13f94d>\u001b[0m in \u001b[0;36m<module>\u001b[0;34m\u001b[0m\n\u001b[0;32m----> 1\u001b[0;31m \u001b[0;32mimport\u001b[0m \u001b[0mmatplotlib\u001b[0m\u001b[0;34m\u001b[0m\u001b[0;34m\u001b[0m\u001b[0m\n\u001b[0m",
      "\u001b[0;31mModuleNotFoundError\u001b[0m: No module named 'matplotlib'"
     ]
    }
   ],
   "source": [
    "import matplotlib"
   ]
  },
  {
   "cell_type": "code",
   "execution_count": 2,
   "metadata": {},
   "outputs": [],
   "source": [
    "sale_path = \"/home/haohy/TSF/project/repertory/repertory-rest/forecasting_algorithm/data/sales_train_v2.csv\""
   ]
  },
  {
   "cell_type": "code",
   "execution_count": 3,
   "metadata": {},
   "outputs": [
    {
     "ename": "NameError",
     "evalue": "name 'pd' is not defined",
     "output_type": "error",
     "traceback": [
      "\u001b[0;31m---------------------------------------------------------------------------\u001b[0m",
      "\u001b[0;31mNameError\u001b[0m                                 Traceback (most recent call last)",
      "\u001b[0;32m<ipython-input-3-bf21dd2c0cc9>\u001b[0m in \u001b[0;36m<module>\u001b[0;34m\u001b[0m\n\u001b[0;32m----> 1\u001b[0;31m \u001b[0msale_df\u001b[0m \u001b[0;34m=\u001b[0m \u001b[0mpd\u001b[0m\u001b[0;34m.\u001b[0m\u001b[0mread_csv\u001b[0m\u001b[0;34m(\u001b[0m\u001b[0msale_path\u001b[0m\u001b[0;34m)\u001b[0m\u001b[0;34m\u001b[0m\u001b[0;34m\u001b[0m\u001b[0m\n\u001b[0m",
      "\u001b[0;31mNameError\u001b[0m: name 'pd' is not defined"
     ]
    }
   ],
   "source": [
    "sale_df = pd.read_csv(sale_path)"
   ]
  },
  {
   "cell_type": "code",
   "execution_count": null,
   "metadata": {},
   "outputs": [],
   "source": []
  },
  {
   "cell_type": "code",
   "execution_count": 22,
   "metadata": {},
   "outputs": [],
   "source": [
    "def ts_1dim(series, idx_start, idx_end, n_after, title, fname=False):\n",
    "    \n",
    "    fig, ax = plt.subplots()\n",
    "    ls = len(series[idx_start:idx_end])\n",
    "    ax.plot(list(range(1, ls+1)), series[idx_start:idx_end].values, 'b-')\n",
    "    ax.plot(list(range(ls, ls+n_after+1)), series[idx_end-1: idx_end+n_after], 'r:')\n",
    "#     ax.scatter(list(range(ls+1, ls+n_after+1)), series[idx_end: idx_end+n_after], color='red')\n",
    "#     ax.set_xticks(list(range(1, ls+2)))\n",
    "    ax.set_title(title)\n",
    "    if fname:\n",
    "        fig.savefig('./save/'+title+'.pdf', format='pdf')\n",
    "    plt.savefig(title+'.png')\n",
    "    plt.close()\n",
    "    return fig"
   ]
  },
  {
   "cell_type": "code",
   "execution_count": 147,
   "metadata": {},
   "outputs": [],
   "source": [
    "def get_date_feature(df, date_col):\n",
    "    df['month'] = df[date_col].apply(lambda x: x.month)\n",
    "    df['day'] = df[date_col].apply(lambda x: x.day)\n",
    "    df['dayofweek'] = df[date_col].apply(lambda x: x.dayofweek)\n",
    "    df['daysinmonth'] = df[date_col].apply(lambda x: x.daysinmonth)\n",
    "    df['hour'] = df[date_col].apply(lambda x: x.hour)\n",
    "    df['minute'] = df[date_col].apply(lambda x: x.minute)    \n",
    "    df['holiday'] = df[date_col].apply(lambda x: 1 if (x in us_holidays) else 0)\n",
    "    return df"
   ]
  },
  {
   "cell_type": "markdown",
   "metadata": {},
   "source": [
    "## TAS2016"
   ]
  },
  {
   "cell_type": "code",
   "execution_count": 153,
   "metadata": {},
   "outputs": [],
   "source": [
    "dateparser = lambda x: pd.to_datetime(x)\n",
    "tas = pd.read_csv(\"../examples/data/TAS2016.csv\", parse_dates=['SETTLEMENTDATE'], date_parser=dateparser)"
   ]
  },
  {
   "cell_type": "code",
   "execution_count": 159,
   "metadata": {},
   "outputs": [],
   "source": [
    "tas_new = get_date_feature(tas, 'SETTLEMENTDATE')"
   ]
  },
  {
   "cell_type": "code",
   "execution_count": 160,
   "metadata": {},
   "outputs": [
    {
     "data": {
      "text/html": [
       "<div>\n",
       "<style scoped>\n",
       "    .dataframe tbody tr th:only-of-type {\n",
       "        vertical-align: middle;\n",
       "    }\n",
       "\n",
       "    .dataframe tbody tr th {\n",
       "        vertical-align: top;\n",
       "    }\n",
       "\n",
       "    .dataframe thead th {\n",
       "        text-align: right;\n",
       "    }\n",
       "</style>\n",
       "<table border=\"1\" class=\"dataframe\">\n",
       "  <thead>\n",
       "    <tr style=\"text-align: right;\">\n",
       "      <th></th>\n",
       "      <th>REGION</th>\n",
       "      <th>SETTLEMENTDATE</th>\n",
       "      <th>TOTALDEMAND</th>\n",
       "      <th>RRP</th>\n",
       "      <th>PERIODTYPE</th>\n",
       "      <th>month</th>\n",
       "      <th>day</th>\n",
       "      <th>dayofweek</th>\n",
       "      <th>daysinmonth</th>\n",
       "      <th>hour</th>\n",
       "      <th>minute</th>\n",
       "      <th>holiday</th>\n",
       "    </tr>\n",
       "  </thead>\n",
       "  <tbody>\n",
       "    <tr>\n",
       "      <th>0</th>\n",
       "      <td>TAS1</td>\n",
       "      <td>2016-01-01 00:30:00</td>\n",
       "      <td>1034.88</td>\n",
       "      <td>98.52</td>\n",
       "      <td>TRADE</td>\n",
       "      <td>1</td>\n",
       "      <td>1</td>\n",
       "      <td>4</td>\n",
       "      <td>31</td>\n",
       "      <td>0</td>\n",
       "      <td>30</td>\n",
       "      <td>1</td>\n",
       "    </tr>\n",
       "    <tr>\n",
       "      <th>1</th>\n",
       "      <td>TAS1</td>\n",
       "      <td>2016-01-01 01:00:00</td>\n",
       "      <td>1035.77</td>\n",
       "      <td>99.25</td>\n",
       "      <td>TRADE</td>\n",
       "      <td>1</td>\n",
       "      <td>1</td>\n",
       "      <td>4</td>\n",
       "      <td>31</td>\n",
       "      <td>1</td>\n",
       "      <td>0</td>\n",
       "      <td>1</td>\n",
       "    </tr>\n",
       "    <tr>\n",
       "      <th>2</th>\n",
       "      <td>TAS1</td>\n",
       "      <td>2016-01-01 01:30:00</td>\n",
       "      <td>998.99</td>\n",
       "      <td>96.90</td>\n",
       "      <td>TRADE</td>\n",
       "      <td>1</td>\n",
       "      <td>1</td>\n",
       "      <td>4</td>\n",
       "      <td>31</td>\n",
       "      <td>1</td>\n",
       "      <td>30</td>\n",
       "      <td>1</td>\n",
       "    </tr>\n",
       "    <tr>\n",
       "      <th>3</th>\n",
       "      <td>TAS1</td>\n",
       "      <td>2016-01-01 02:00:00</td>\n",
       "      <td>974.48</td>\n",
       "      <td>99.37</td>\n",
       "      <td>TRADE</td>\n",
       "      <td>1</td>\n",
       "      <td>1</td>\n",
       "      <td>4</td>\n",
       "      <td>31</td>\n",
       "      <td>2</td>\n",
       "      <td>0</td>\n",
       "      <td>1</td>\n",
       "    </tr>\n",
       "    <tr>\n",
       "      <th>4</th>\n",
       "      <td>TAS1</td>\n",
       "      <td>2016-01-01 02:30:00</td>\n",
       "      <td>995.02</td>\n",
       "      <td>100.34</td>\n",
       "      <td>TRADE</td>\n",
       "      <td>1</td>\n",
       "      <td>1</td>\n",
       "      <td>4</td>\n",
       "      <td>31</td>\n",
       "      <td>2</td>\n",
       "      <td>30</td>\n",
       "      <td>1</td>\n",
       "    </tr>\n",
       "    <tr>\n",
       "      <th>...</th>\n",
       "      <td>...</td>\n",
       "      <td>...</td>\n",
       "      <td>...</td>\n",
       "      <td>...</td>\n",
       "      <td>...</td>\n",
       "      <td>...</td>\n",
       "      <td>...</td>\n",
       "      <td>...</td>\n",
       "      <td>...</td>\n",
       "      <td>...</td>\n",
       "      <td>...</td>\n",
       "      <td>...</td>\n",
       "    </tr>\n",
       "    <tr>\n",
       "      <th>17563</th>\n",
       "      <td>TAS1</td>\n",
       "      <td>2016-12-31 22:00:00</td>\n",
       "      <td>961.66</td>\n",
       "      <td>43.15</td>\n",
       "      <td>TRADE</td>\n",
       "      <td>12</td>\n",
       "      <td>31</td>\n",
       "      <td>5</td>\n",
       "      <td>31</td>\n",
       "      <td>22</td>\n",
       "      <td>0</td>\n",
       "      <td>0</td>\n",
       "    </tr>\n",
       "    <tr>\n",
       "      <th>17564</th>\n",
       "      <td>TAS1</td>\n",
       "      <td>2016-12-31 22:30:00</td>\n",
       "      <td>926.43</td>\n",
       "      <td>25.98</td>\n",
       "      <td>TRADE</td>\n",
       "      <td>12</td>\n",
       "      <td>31</td>\n",
       "      <td>5</td>\n",
       "      <td>31</td>\n",
       "      <td>22</td>\n",
       "      <td>30</td>\n",
       "      <td>0</td>\n",
       "    </tr>\n",
       "    <tr>\n",
       "      <th>17565</th>\n",
       "      <td>TAS1</td>\n",
       "      <td>2016-12-31 23:00:00</td>\n",
       "      <td>913.44</td>\n",
       "      <td>23.43</td>\n",
       "      <td>TRADE</td>\n",
       "      <td>12</td>\n",
       "      <td>31</td>\n",
       "      <td>5</td>\n",
       "      <td>31</td>\n",
       "      <td>23</td>\n",
       "      <td>0</td>\n",
       "      <td>0</td>\n",
       "    </tr>\n",
       "    <tr>\n",
       "      <th>17566</th>\n",
       "      <td>TAS1</td>\n",
       "      <td>2016-12-31 23:30:00</td>\n",
       "      <td>910.63</td>\n",
       "      <td>28.13</td>\n",
       "      <td>TRADE</td>\n",
       "      <td>12</td>\n",
       "      <td>31</td>\n",
       "      <td>5</td>\n",
       "      <td>31</td>\n",
       "      <td>23</td>\n",
       "      <td>30</td>\n",
       "      <td>0</td>\n",
       "    </tr>\n",
       "    <tr>\n",
       "      <th>17567</th>\n",
       "      <td>TAS1</td>\n",
       "      <td>2017-01-01 00:00:00</td>\n",
       "      <td>894.11</td>\n",
       "      <td>34.43</td>\n",
       "      <td>TRADE</td>\n",
       "      <td>1</td>\n",
       "      <td>1</td>\n",
       "      <td>6</td>\n",
       "      <td>31</td>\n",
       "      <td>0</td>\n",
       "      <td>0</td>\n",
       "      <td>1</td>\n",
       "    </tr>\n",
       "  </tbody>\n",
       "</table>\n",
       "<p>17568 rows × 12 columns</p>\n",
       "</div>"
      ],
      "text/plain": [
       "      REGION      SETTLEMENTDATE  TOTALDEMAND     RRP PERIODTYPE  month  day  \\\n",
       "0       TAS1 2016-01-01 00:30:00      1034.88   98.52      TRADE      1    1   \n",
       "1       TAS1 2016-01-01 01:00:00      1035.77   99.25      TRADE      1    1   \n",
       "2       TAS1 2016-01-01 01:30:00       998.99   96.90      TRADE      1    1   \n",
       "3       TAS1 2016-01-01 02:00:00       974.48   99.37      TRADE      1    1   \n",
       "4       TAS1 2016-01-01 02:30:00       995.02  100.34      TRADE      1    1   \n",
       "...      ...                 ...          ...     ...        ...    ...  ...   \n",
       "17563   TAS1 2016-12-31 22:00:00       961.66   43.15      TRADE     12   31   \n",
       "17564   TAS1 2016-12-31 22:30:00       926.43   25.98      TRADE     12   31   \n",
       "17565   TAS1 2016-12-31 23:00:00       913.44   23.43      TRADE     12   31   \n",
       "17566   TAS1 2016-12-31 23:30:00       910.63   28.13      TRADE     12   31   \n",
       "17567   TAS1 2017-01-01 00:00:00       894.11   34.43      TRADE      1    1   \n",
       "\n",
       "       dayofweek  daysinmonth  hour  minute  holiday  \n",
       "0              4           31     0      30        1  \n",
       "1              4           31     1       0        1  \n",
       "2              4           31     1      30        1  \n",
       "3              4           31     2       0        1  \n",
       "4              4           31     2      30        1  \n",
       "...          ...          ...   ...     ...      ...  \n",
       "17563          5           31    22       0        0  \n",
       "17564          5           31    22      30        0  \n",
       "17565          5           31    23       0        0  \n",
       "17566          5           31    23      30        0  \n",
       "17567          6           31     0       0        1  \n",
       "\n",
       "[17568 rows x 12 columns]"
      ]
     },
     "execution_count": 160,
     "metadata": {},
     "output_type": "execute_result"
    }
   ],
   "source": [
    "tas_new"
   ]
  },
  {
   "cell_type": "code",
   "execution_count": 161,
   "metadata": {},
   "outputs": [],
   "source": [
    "tas_new.to_csv('../examples/data/TAS2016.csv', index=False)"
   ]
  },
  {
   "cell_type": "code",
   "execution_count": null,
   "metadata": {},
   "outputs": [],
   "source": []
  },
  {
   "cell_type": "code",
   "execution_count": null,
   "metadata": {},
   "outputs": [],
   "source": []
  },
  {
   "cell_type": "code",
   "execution_count": null,
   "metadata": {},
   "outputs": [],
   "source": []
  },
  {
   "cell_type": "markdown",
   "metadata": {},
   "source": [
    "## NSW2013"
   ]
  },
  {
   "cell_type": "code",
   "execution_count": 162,
   "metadata": {},
   "outputs": [],
   "source": [
    "dateparser = lambda x: pd.to_datetime(x)\n",
    "nsw = pd.read_csv(\"../examples/data/NSW2013.csv\", parse_dates=['SETTLEMENTDATE'], date_parser=dateparser)"
   ]
  },
  {
   "cell_type": "code",
   "execution_count": 163,
   "metadata": {},
   "outputs": [],
   "source": [
    "nsw_new = get_date_feature(nsw, 'SETTLEMENTDATE')"
   ]
  },
  {
   "cell_type": "code",
   "execution_count": 164,
   "metadata": {},
   "outputs": [
    {
     "data": {
      "text/html": [
       "<div>\n",
       "<style scoped>\n",
       "    .dataframe tbody tr th:only-of-type {\n",
       "        vertical-align: middle;\n",
       "    }\n",
       "\n",
       "    .dataframe tbody tr th {\n",
       "        vertical-align: top;\n",
       "    }\n",
       "\n",
       "    .dataframe thead th {\n",
       "        text-align: right;\n",
       "    }\n",
       "</style>\n",
       "<table border=\"1\" class=\"dataframe\">\n",
       "  <thead>\n",
       "    <tr style=\"text-align: right;\">\n",
       "      <th></th>\n",
       "      <th>REGION</th>\n",
       "      <th>SETTLEMENTDATE</th>\n",
       "      <th>TOTALDEMAND</th>\n",
       "      <th>RRP</th>\n",
       "      <th>PERIODTYPE</th>\n",
       "      <th>month</th>\n",
       "      <th>day</th>\n",
       "      <th>hour</th>\n",
       "      <th>minute</th>\n",
       "      <th>holiday</th>\n",
       "      <th>dayofweek</th>\n",
       "      <th>daysinmonth</th>\n",
       "    </tr>\n",
       "  </thead>\n",
       "  <tbody>\n",
       "    <tr>\n",
       "      <th>0</th>\n",
       "      <td>NSW1</td>\n",
       "      <td>2013-01-01 00:30:00</td>\n",
       "      <td>7166.97</td>\n",
       "      <td>46.61</td>\n",
       "      <td>TRADE</td>\n",
       "      <td>1</td>\n",
       "      <td>1</td>\n",
       "      <td>0</td>\n",
       "      <td>30</td>\n",
       "      <td>1</td>\n",
       "      <td>1</td>\n",
       "      <td>31</td>\n",
       "    </tr>\n",
       "    <tr>\n",
       "      <th>1</th>\n",
       "      <td>NSW1</td>\n",
       "      <td>2013-01-01 01:00:00</td>\n",
       "      <td>6928.11</td>\n",
       "      <td>46.32</td>\n",
       "      <td>TRADE</td>\n",
       "      <td>1</td>\n",
       "      <td>1</td>\n",
       "      <td>1</td>\n",
       "      <td>0</td>\n",
       "      <td>1</td>\n",
       "      <td>1</td>\n",
       "      <td>31</td>\n",
       "    </tr>\n",
       "    <tr>\n",
       "      <th>2</th>\n",
       "      <td>NSW1</td>\n",
       "      <td>2013-01-01 01:30:00</td>\n",
       "      <td>6541.21</td>\n",
       "      <td>44.76</td>\n",
       "      <td>TRADE</td>\n",
       "      <td>1</td>\n",
       "      <td>1</td>\n",
       "      <td>1</td>\n",
       "      <td>30</td>\n",
       "      <td>1</td>\n",
       "      <td>1</td>\n",
       "      <td>31</td>\n",
       "    </tr>\n",
       "    <tr>\n",
       "      <th>3</th>\n",
       "      <td>NSW1</td>\n",
       "      <td>2013-01-01 02:00:00</td>\n",
       "      <td>6253.60</td>\n",
       "      <td>42.86</td>\n",
       "      <td>TRADE</td>\n",
       "      <td>1</td>\n",
       "      <td>1</td>\n",
       "      <td>2</td>\n",
       "      <td>0</td>\n",
       "      <td>1</td>\n",
       "      <td>1</td>\n",
       "      <td>31</td>\n",
       "    </tr>\n",
       "    <tr>\n",
       "      <th>4</th>\n",
       "      <td>NSW1</td>\n",
       "      <td>2013-01-01 02:30:00</td>\n",
       "      <td>6003.44</td>\n",
       "      <td>42.86</td>\n",
       "      <td>TRADE</td>\n",
       "      <td>1</td>\n",
       "      <td>1</td>\n",
       "      <td>2</td>\n",
       "      <td>30</td>\n",
       "      <td>1</td>\n",
       "      <td>1</td>\n",
       "      <td>31</td>\n",
       "    </tr>\n",
       "    <tr>\n",
       "      <th>...</th>\n",
       "      <td>...</td>\n",
       "      <td>...</td>\n",
       "      <td>...</td>\n",
       "      <td>...</td>\n",
       "      <td>...</td>\n",
       "      <td>...</td>\n",
       "      <td>...</td>\n",
       "      <td>...</td>\n",
       "      <td>...</td>\n",
       "      <td>...</td>\n",
       "      <td>...</td>\n",
       "      <td>...</td>\n",
       "    </tr>\n",
       "    <tr>\n",
       "      <th>17515</th>\n",
       "      <td>NSW1</td>\n",
       "      <td>2013-12-31 22:00:00</td>\n",
       "      <td>7136.00</td>\n",
       "      <td>49.45</td>\n",
       "      <td>TRADE</td>\n",
       "      <td>12</td>\n",
       "      <td>31</td>\n",
       "      <td>22</td>\n",
       "      <td>0</td>\n",
       "      <td>0</td>\n",
       "      <td>1</td>\n",
       "      <td>31</td>\n",
       "    </tr>\n",
       "    <tr>\n",
       "      <th>17516</th>\n",
       "      <td>NSW1</td>\n",
       "      <td>2013-12-31 22:30:00</td>\n",
       "      <td>7223.13</td>\n",
       "      <td>49.65</td>\n",
       "      <td>TRADE</td>\n",
       "      <td>12</td>\n",
       "      <td>31</td>\n",
       "      <td>22</td>\n",
       "      <td>30</td>\n",
       "      <td>0</td>\n",
       "      <td>1</td>\n",
       "      <td>31</td>\n",
       "    </tr>\n",
       "    <tr>\n",
       "      <th>17517</th>\n",
       "      <td>NSW1</td>\n",
       "      <td>2013-12-31 23:00:00</td>\n",
       "      <td>7236.37</td>\n",
       "      <td>49.63</td>\n",
       "      <td>TRADE</td>\n",
       "      <td>12</td>\n",
       "      <td>31</td>\n",
       "      <td>23</td>\n",
       "      <td>0</td>\n",
       "      <td>0</td>\n",
       "      <td>1</td>\n",
       "      <td>31</td>\n",
       "    </tr>\n",
       "    <tr>\n",
       "      <th>17518</th>\n",
       "      <td>NSW1</td>\n",
       "      <td>2013-12-31 23:30:00</td>\n",
       "      <td>7051.46</td>\n",
       "      <td>49.66</td>\n",
       "      <td>TRADE</td>\n",
       "      <td>12</td>\n",
       "      <td>31</td>\n",
       "      <td>23</td>\n",
       "      <td>30</td>\n",
       "      <td>0</td>\n",
       "      <td>1</td>\n",
       "      <td>31</td>\n",
       "    </tr>\n",
       "    <tr>\n",
       "      <th>17519</th>\n",
       "      <td>NSW1</td>\n",
       "      <td>2014-01-01 00:00:00</td>\n",
       "      <td>7009.91</td>\n",
       "      <td>49.70</td>\n",
       "      <td>TRADE</td>\n",
       "      <td>1</td>\n",
       "      <td>1</td>\n",
       "      <td>0</td>\n",
       "      <td>0</td>\n",
       "      <td>1</td>\n",
       "      <td>2</td>\n",
       "      <td>31</td>\n",
       "    </tr>\n",
       "  </tbody>\n",
       "</table>\n",
       "<p>17520 rows × 12 columns</p>\n",
       "</div>"
      ],
      "text/plain": [
       "      REGION      SETTLEMENTDATE  TOTALDEMAND    RRP PERIODTYPE  month  day  \\\n",
       "0       NSW1 2013-01-01 00:30:00      7166.97  46.61      TRADE      1    1   \n",
       "1       NSW1 2013-01-01 01:00:00      6928.11  46.32      TRADE      1    1   \n",
       "2       NSW1 2013-01-01 01:30:00      6541.21  44.76      TRADE      1    1   \n",
       "3       NSW1 2013-01-01 02:00:00      6253.60  42.86      TRADE      1    1   \n",
       "4       NSW1 2013-01-01 02:30:00      6003.44  42.86      TRADE      1    1   \n",
       "...      ...                 ...          ...    ...        ...    ...  ...   \n",
       "17515   NSW1 2013-12-31 22:00:00      7136.00  49.45      TRADE     12   31   \n",
       "17516   NSW1 2013-12-31 22:30:00      7223.13  49.65      TRADE     12   31   \n",
       "17517   NSW1 2013-12-31 23:00:00      7236.37  49.63      TRADE     12   31   \n",
       "17518   NSW1 2013-12-31 23:30:00      7051.46  49.66      TRADE     12   31   \n",
       "17519   NSW1 2014-01-01 00:00:00      7009.91  49.70      TRADE      1    1   \n",
       "\n",
       "       hour  minute  holiday  dayofweek  daysinmonth  \n",
       "0         0      30        1          1           31  \n",
       "1         1       0        1          1           31  \n",
       "2         1      30        1          1           31  \n",
       "3         2       0        1          1           31  \n",
       "4         2      30        1          1           31  \n",
       "...     ...     ...      ...        ...          ...  \n",
       "17515    22       0        0          1           31  \n",
       "17516    22      30        0          1           31  \n",
       "17517    23       0        0          1           31  \n",
       "17518    23      30        0          1           31  \n",
       "17519     0       0        1          2           31  \n",
       "\n",
       "[17520 rows x 12 columns]"
      ]
     },
     "execution_count": 164,
     "metadata": {},
     "output_type": "execute_result"
    }
   ],
   "source": [
    "nsw_new"
   ]
  },
  {
   "cell_type": "code",
   "execution_count": 165,
   "metadata": {},
   "outputs": [],
   "source": [
    "nsw_new.to_csv('../examples/data/NSW2013.csv', index=False)"
   ]
  },
  {
   "cell_type": "code",
   "execution_count": null,
   "metadata": {},
   "outputs": [],
   "source": []
  },
  {
   "cell_type": "markdown",
   "metadata": {},
   "source": [
    "## Count number of parameters"
   ]
  },
  {
   "cell_type": "code",
   "execution_count": 189,
   "metadata": {},
   "outputs": [],
   "source": [
    "import os, sys\n",
    "import torch\n",
    "import torch.nn as nn"
   ]
  },
  {
   "cell_type": "code",
   "execution_count": 175,
   "metadata": {},
   "outputs": [],
   "source": [
    "sys.path += [os.path.abspath('..')]"
   ]
  },
  {
   "cell_type": "code",
   "execution_count": 176,
   "metadata": {},
   "outputs": [
    {
     "data": {
      "text/plain": [
       "['/home/haohy/anaconda3/envs/dnn/lib/python36.zip',\n",
       " '/home/haohy/anaconda3/envs/dnn/lib/python3.6',\n",
       " '/home/haohy/anaconda3/envs/dnn/lib/python3.6/lib-dynload',\n",
       " '',\n",
       " '/home/haohy/.local/lib/python3.6/site-packages',\n",
       " '/home/haohy/anaconda3/envs/dnn/lib/python3.6/site-packages',\n",
       " '/home/haohy/anaconda3/envs/dnn/lib/python3.6/site-packages/pyecharts-1.9.0-py3.6.egg',\n",
       " '/home/haohy/anaconda3/envs/dnn/lib/python3.6/site-packages/IPython/extensions',\n",
       " '/home/haohy/.ipython',\n",
       " 'os.getcwd()',\n",
       " '/home/haohy/TSF/deepts_torch/notebooks',\n",
       " '/home/haohy/TSF/deepts_torch']"
      ]
     },
     "execution_count": 176,
     "metadata": {},
     "output_type": "execute_result"
    }
   ],
   "source": [
    "sys.path"
   ]
  },
  {
   "cell_type": "code",
   "execution_count": 211,
   "metadata": {},
   "outputs": [],
   "source": [
    "from importlib import reload\n",
    "import deepts\n",
    "reload(deepts.models)\n",
    "from deepts.models import DeepTCN3"
   ]
  },
  {
   "cell_type": "code",
   "execution_count": 212,
   "metadata": {},
   "outputs": [],
   "source": [
    "model = DeepTCN3(48, 24, [1,2,4,8], 12, 32, 2, 3, \n",
    "                    2, 2, 1, 1, 20)"
   ]
  },
  {
   "cell_type": "code",
   "execution_count": 213,
   "metadata": {},
   "outputs": [
    {
     "data": {
      "text/plain": [
       "DeepTCN3(\n",
       "  (tcn_layer): DeepTCN3Layer(\n",
       "    (upsample): Linear(in_features=1, out_features=12, bias=True)\n",
       "    (simple_resnet): Linear(in_features=216, out_features=32, bias=True)\n",
       "    (decoder_cov): futureResidual(\n",
       "      (fc1): Linear(in_features=20, out_features=64, bias=True)\n",
       "      (bn1): BatchNorm1d(24, eps=1e-05, momentum=0.1, affine=True, track_running_stats=True)\n",
       "      (fc2): Linear(in_features=64, out_features=32, bias=True)\n",
       "      (bn2): BatchNorm1d(24, eps=1e-05, momentum=0.1, affine=True, track_running_stats=True)\n",
       "    )\n",
       "    (decoder_predict): Decoder(\n",
       "      (fc1): Linear(in_features=32, out_features=32, bias=True)\n",
       "      (bn): BatchNorm1d(24, eps=1e-05, momentum=0.1, affine=True, track_running_stats=True)\n",
       "      (relu1): ReLU()\n",
       "      (dropout): Dropout(p=0.2, inplace=False)\n",
       "      (fc2): Linear(in_features=32, out_features=1, bias=True)\n",
       "    )\n",
       "  )\n",
       ")"
      ]
     },
     "execution_count": 213,
     "metadata": {},
     "output_type": "execute_result"
    }
   ],
   "source": [
    "model"
   ]
  },
  {
   "cell_type": "code",
   "execution_count": 204,
   "metadata": {
    "scrolled": true
   },
   "outputs": [
    {
     "name": "stdout",
     "output_type": "stream",
     "text": [
      "layer_list.0.weight\n",
      "layer_list.0.bias\n",
      "layer_list.1.weight\n",
      "layer_list.1.bias\n",
      "layer_list.2.weight\n",
      "layer_list.2.bias\n"
     ]
    }
   ],
   "source": [
    "for name, params in model.named_parameters():\n",
    "    print(name)"
   ]
  },
  {
   "cell_type": "code",
   "execution_count": 184,
   "metadata": {},
   "outputs": [
    {
     "data": {
      "text/plain": [
       "[LSTM(12, 12), LSTM(12, 12), LSTM(12, 12), LSTM(12, 12)]"
      ]
     },
     "execution_count": 184,
     "metadata": {},
     "output_type": "execute_result"
    }
   ],
   "source": [
    "model.tcn_layer.multi_blocks"
   ]
  },
  {
   "cell_type": "code",
   "execution_count": 200,
   "metadata": {},
   "outputs": [],
   "source": [
    "class CusModel(nn.Module):\n",
    "    def __init__(self):\n",
    "        super(CusModel, self).__init__()\n",
    "        self.layer_list = nn.ModuleList()\n",
    "        for i in range(3):\n",
    "            self.layer_list.append(nn.Linear(10, 20))\n",
    "#         self.layer2 = nn.Linear(10, 20)        \n",
    "#         self.layer3 = nn.Linear(10, 20)        \n",
    "    def forward(self, input1):\n",
    "        out = input1\n",
    "        for i in range(3):\n",
    "            out = self.layer_list[i](out)\n",
    "        return out"
   ]
  },
  {
   "cell_type": "code",
   "execution_count": 201,
   "metadata": {},
   "outputs": [],
   "source": [
    "model = CusModel()"
   ]
  },
  {
   "cell_type": "code",
   "execution_count": 202,
   "metadata": {},
   "outputs": [],
   "source": [
    "num_parameters_train = sum(p.numel() for p in model.parameters() if p.requires_grad)"
   ]
  },
  {
   "cell_type": "code",
   "execution_count": 203,
   "metadata": {},
   "outputs": [
    {
     "data": {
      "text/plain": [
       "660"
      ]
     },
     "execution_count": 203,
     "metadata": {},
     "output_type": "execute_result"
    }
   ],
   "source": [
    "num_parameters_train"
   ]
  },
  {
   "cell_type": "code",
   "execution_count": 181,
   "metadata": {},
   "outputs": [],
   "source": [
    "from ptflops import get_model_complexity_info"
   ]
  },
  {
   "cell_type": "code",
   "execution_count": null,
   "metadata": {},
   "outputs": [],
   "source": [
    "flops, params = get_model_complexity_info(\n",
    "    model, [(16, 48, 1), (), (16, 10)], as_strings=True, print_per_layer_stat=False)"
   ]
  },
  {
   "cell_type": "code",
   "execution_count": null,
   "metadata": {},
   "outputs": [],
   "source": []
  },
  {
   "cell_type": "markdown",
   "metadata": {},
   "source": [
    "## check result's pkl"
   ]
  },
  {
   "cell_type": "code",
   "execution_count": 216,
   "metadata": {},
   "outputs": [],
   "source": [
    "import pickle"
   ]
  },
  {
   "cell_type": "code",
   "execution_count": 217,
   "metadata": {},
   "outputs": [],
   "source": [
    "res_pkl = \"/home/haohy/TSF/deepts_torch/examples/results/DeepTCN3_TAS2016_2021_03_12_09_59_40.pkl\""
   ]
  },
  {
   "cell_type": "code",
   "execution_count": 218,
   "metadata": {},
   "outputs": [],
   "source": [
    "with open(res_pkl, 'rb') as f:\n",
    "    res = pickle.load(f)"
   ]
  },
  {
   "cell_type": "code",
   "execution_count": 220,
   "metadata": {},
   "outputs": [
    {
     "ename": "AttributeError",
     "evalue": "'dict' object has no attribute 'scaler'",
     "output_type": "error",
     "traceback": [
      "\u001b[0;31m---------------------------------------------------------------------------\u001b[0m",
      "\u001b[0;31mAttributeError\u001b[0m                            Traceback (most recent call last)",
      "\u001b[0;32m<ipython-input-220-627293065ff6>\u001b[0m in \u001b[0;36m<module>\u001b[0;34m\u001b[0m\n\u001b[0;32m----> 1\u001b[0;31m \u001b[0mres\u001b[0m\u001b[0;34m.\u001b[0m\u001b[0mscaler\u001b[0m\u001b[0;34m\u001b[0m\u001b[0;34m\u001b[0m\u001b[0m\n\u001b[0m",
      "\u001b[0;31mAttributeError\u001b[0m: 'dict' object has no attribute 'scaler'"
     ]
    }
   ],
   "source": [
    "res.scaler"
   ]
  },
  {
   "cell_type": "code",
   "execution_count": null,
   "metadata": {},
   "outputs": [],
   "source": []
  },
  {
   "cell_type": "code",
   "execution_count": null,
   "metadata": {},
   "outputs": [],
   "source": []
  },
  {
   "cell_type": "code",
   "execution_count": null,
   "metadata": {},
   "outputs": [],
   "source": []
  },
  {
   "cell_type": "code",
   "execution_count": 138,
   "metadata": {},
   "outputs": [],
   "source": [
    "beijing_pm = '../data/beijing_pm25.csv'\n",
    "bike_hour = '../data/bike_hour.csv'\n",
    "solar_energy = '../data/solar_energy_1.csv'\n",
    "nsw2013 = '../data/NSW2013.csv'\n",
    "nsw2016 = '../data/NSW2016.csv'\n"
   ]
  },
  {
   "cell_type": "code",
   "execution_count": 140,
   "metadata": {},
   "outputs": [],
   "source": [
    "file_paths = os.listdir('../examples/data')"
   ]
  },
  {
   "cell_type": "code",
   "execution_count": 141,
   "metadata": {},
   "outputs": [
    {
     "data": {
      "text/plain": [
       "['TAS2016.csv',\n",
       " 'bike_hour.csv',\n",
       " 'pollution.csv',\n",
       " 'NSW2016.csv',\n",
       " 'NSW2013.csv',\n",
       " 'solar_energy_1.csv',\n",
       " 'AirPassengers.csv',\n",
       " 'beijing_pm25.csv',\n",
       " 'traffic_data_in_bits.csv']"
      ]
     },
     "execution_count": 141,
     "metadata": {},
     "output_type": "execute_result"
    }
   ],
   "source": [
    "file_paths"
   ]
  },
  {
   "cell_type": "code",
   "execution_count": 4,
   "metadata": {},
   "outputs": [],
   "source": [
    "prsa_df = pd.read_csv('../examples/data/PRSA_Data_Wanliu.csv')"
   ]
  },
  {
   "cell_type": "code",
   "execution_count": 147,
   "metadata": {},
   "outputs": [],
   "source": [
    "df_list = [pd.read_csv('../examples/data/'+file_path) for file_path in file_paths]"
   ]
  },
  {
   "cell_type": "code",
   "execution_count": 151,
   "metadata": {},
   "outputs": [],
   "source": [
    "df_TAS2016, df_bike_hour, df_pollution, df_NSW2016, df_NSW2013, df_solar_energy, df_airpassengers, df_beijingpm, df_traffic = df_list"
   ]
  },
  {
   "cell_type": "code",
   "execution_count": 7,
   "metadata": {},
   "outputs": [
    {
     "data": {
      "text/html": [
       "<div>\n",
       "<style scoped>\n",
       "    .dataframe tbody tr th:only-of-type {\n",
       "        vertical-align: middle;\n",
       "    }\n",
       "\n",
       "    .dataframe tbody tr th {\n",
       "        vertical-align: top;\n",
       "    }\n",
       "\n",
       "    .dataframe thead th {\n",
       "        text-align: right;\n",
       "    }\n",
       "</style>\n",
       "<table border=\"1\" class=\"dataframe\">\n",
       "  <thead>\n",
       "    <tr style=\"text-align: right;\">\n",
       "      <th></th>\n",
       "      <th>No</th>\n",
       "      <th>year</th>\n",
       "      <th>month</th>\n",
       "      <th>day</th>\n",
       "      <th>hour</th>\n",
       "      <th>PM2.5</th>\n",
       "      <th>PM10</th>\n",
       "      <th>SO2</th>\n",
       "      <th>NO2</th>\n",
       "      <th>CO</th>\n",
       "      <th>O3</th>\n",
       "      <th>TEMP</th>\n",
       "      <th>PRES</th>\n",
       "      <th>DEWP</th>\n",
       "      <th>RAIN</th>\n",
       "      <th>wd</th>\n",
       "      <th>WSPM</th>\n",
       "      <th>station</th>\n",
       "    </tr>\n",
       "  </thead>\n",
       "  <tbody>\n",
       "    <tr>\n",
       "      <th>0</th>\n",
       "      <td>1</td>\n",
       "      <td>2013</td>\n",
       "      <td>3</td>\n",
       "      <td>1</td>\n",
       "      <td>0</td>\n",
       "      <td>8.0</td>\n",
       "      <td>8.0</td>\n",
       "      <td>6.000000</td>\n",
       "      <td>28.000000</td>\n",
       "      <td>400.000000</td>\n",
       "      <td>52.000000</td>\n",
       "      <td>-0.7</td>\n",
       "      <td>1023.0</td>\n",
       "      <td>-18.8</td>\n",
       "      <td>0.0</td>\n",
       "      <td>NNW</td>\n",
       "      <td>4.4</td>\n",
       "      <td>Wanliu</td>\n",
       "    </tr>\n",
       "    <tr>\n",
       "      <th>1</th>\n",
       "      <td>2</td>\n",
       "      <td>2013</td>\n",
       "      <td>3</td>\n",
       "      <td>1</td>\n",
       "      <td>1</td>\n",
       "      <td>9.0</td>\n",
       "      <td>9.0</td>\n",
       "      <td>6.000000</td>\n",
       "      <td>28.000000</td>\n",
       "      <td>400.000000</td>\n",
       "      <td>50.000000</td>\n",
       "      <td>-1.1</td>\n",
       "      <td>1023.2</td>\n",
       "      <td>-18.2</td>\n",
       "      <td>0.0</td>\n",
       "      <td>N</td>\n",
       "      <td>4.7</td>\n",
       "      <td>Wanliu</td>\n",
       "    </tr>\n",
       "    <tr>\n",
       "      <th>2</th>\n",
       "      <td>3</td>\n",
       "      <td>2013</td>\n",
       "      <td>3</td>\n",
       "      <td>1</td>\n",
       "      <td>2</td>\n",
       "      <td>3.0</td>\n",
       "      <td>6.0</td>\n",
       "      <td>6.911717</td>\n",
       "      <td>19.000000</td>\n",
       "      <td>400.000000</td>\n",
       "      <td>55.000000</td>\n",
       "      <td>-1.1</td>\n",
       "      <td>1023.5</td>\n",
       "      <td>-18.2</td>\n",
       "      <td>0.0</td>\n",
       "      <td>NNW</td>\n",
       "      <td>5.6</td>\n",
       "      <td>Wanliu</td>\n",
       "    </tr>\n",
       "    <tr>\n",
       "      <th>3</th>\n",
       "      <td>4</td>\n",
       "      <td>2013</td>\n",
       "      <td>3</td>\n",
       "      <td>1</td>\n",
       "      <td>3</td>\n",
       "      <td>11.0</td>\n",
       "      <td>30.0</td>\n",
       "      <td>8.000000</td>\n",
       "      <td>14.000000</td>\n",
       "      <td>350.672519</td>\n",
       "      <td>54.062852</td>\n",
       "      <td>-1.4</td>\n",
       "      <td>1024.5</td>\n",
       "      <td>-19.4</td>\n",
       "      <td>0.0</td>\n",
       "      <td>NW</td>\n",
       "      <td>3.1</td>\n",
       "      <td>Wanliu</td>\n",
       "    </tr>\n",
       "    <tr>\n",
       "      <th>4</th>\n",
       "      <td>5</td>\n",
       "      <td>2013</td>\n",
       "      <td>3</td>\n",
       "      <td>1</td>\n",
       "      <td>4</td>\n",
       "      <td>3.0</td>\n",
       "      <td>13.0</td>\n",
       "      <td>9.000000</td>\n",
       "      <td>13.152519</td>\n",
       "      <td>300.000000</td>\n",
       "      <td>54.000000</td>\n",
       "      <td>-2.0</td>\n",
       "      <td>1025.2</td>\n",
       "      <td>-19.5</td>\n",
       "      <td>0.0</td>\n",
       "      <td>N</td>\n",
       "      <td>2.0</td>\n",
       "      <td>Wanliu</td>\n",
       "    </tr>\n",
       "    <tr>\n",
       "      <th>...</th>\n",
       "      <td>...</td>\n",
       "      <td>...</td>\n",
       "      <td>...</td>\n",
       "      <td>...</td>\n",
       "      <td>...</td>\n",
       "      <td>...</td>\n",
       "      <td>...</td>\n",
       "      <td>...</td>\n",
       "      <td>...</td>\n",
       "      <td>...</td>\n",
       "      <td>...</td>\n",
       "      <td>...</td>\n",
       "      <td>...</td>\n",
       "      <td>...</td>\n",
       "      <td>...</td>\n",
       "      <td>...</td>\n",
       "      <td>...</td>\n",
       "      <td>...</td>\n",
       "    </tr>\n",
       "    <tr>\n",
       "      <th>35059</th>\n",
       "      <td>35060</td>\n",
       "      <td>2017</td>\n",
       "      <td>2</td>\n",
       "      <td>28</td>\n",
       "      <td>19</td>\n",
       "      <td>11.0</td>\n",
       "      <td>27.0</td>\n",
       "      <td>4.000000</td>\n",
       "      <td>20.000000</td>\n",
       "      <td>300.000000</td>\n",
       "      <td>81.000000</td>\n",
       "      <td>12.6</td>\n",
       "      <td>1011.9</td>\n",
       "      <td>-14.3</td>\n",
       "      <td>0.0</td>\n",
       "      <td>N</td>\n",
       "      <td>2.0</td>\n",
       "      <td>Wanliu</td>\n",
       "    </tr>\n",
       "    <tr>\n",
       "      <th>35060</th>\n",
       "      <td>35061</td>\n",
       "      <td>2017</td>\n",
       "      <td>2</td>\n",
       "      <td>28</td>\n",
       "      <td>20</td>\n",
       "      <td>15.0</td>\n",
       "      <td>43.0</td>\n",
       "      <td>6.000000</td>\n",
       "      <td>55.000000</td>\n",
       "      <td>500.000000</td>\n",
       "      <td>45.000000</td>\n",
       "      <td>9.4</td>\n",
       "      <td>1012.3</td>\n",
       "      <td>-11.9</td>\n",
       "      <td>0.0</td>\n",
       "      <td>WSW</td>\n",
       "      <td>1.0</td>\n",
       "      <td>Wanliu</td>\n",
       "    </tr>\n",
       "    <tr>\n",
       "      <th>35061</th>\n",
       "      <td>35062</td>\n",
       "      <td>2017</td>\n",
       "      <td>2</td>\n",
       "      <td>28</td>\n",
       "      <td>21</td>\n",
       "      <td>13.0</td>\n",
       "      <td>35.0</td>\n",
       "      <td>7.000000</td>\n",
       "      <td>48.000000</td>\n",
       "      <td>500.000000</td>\n",
       "      <td>48.000000</td>\n",
       "      <td>8.7</td>\n",
       "      <td>1012.8</td>\n",
       "      <td>-13.7</td>\n",
       "      <td>0.0</td>\n",
       "      <td>N</td>\n",
       "      <td>1.1</td>\n",
       "      <td>Wanliu</td>\n",
       "    </tr>\n",
       "    <tr>\n",
       "      <th>35062</th>\n",
       "      <td>35063</td>\n",
       "      <td>2017</td>\n",
       "      <td>2</td>\n",
       "      <td>28</td>\n",
       "      <td>22</td>\n",
       "      <td>12.0</td>\n",
       "      <td>31.0</td>\n",
       "      <td>5.000000</td>\n",
       "      <td>47.000000</td>\n",
       "      <td>500.000000</td>\n",
       "      <td>50.000000</td>\n",
       "      <td>7.8</td>\n",
       "      <td>1012.9</td>\n",
       "      <td>-12.6</td>\n",
       "      <td>0.0</td>\n",
       "      <td>NNE</td>\n",
       "      <td>1.0</td>\n",
       "      <td>Wanliu</td>\n",
       "    </tr>\n",
       "    <tr>\n",
       "      <th>35063</th>\n",
       "      <td>35064</td>\n",
       "      <td>2017</td>\n",
       "      <td>2</td>\n",
       "      <td>28</td>\n",
       "      <td>23</td>\n",
       "      <td>7.0</td>\n",
       "      <td>25.0</td>\n",
       "      <td>6.000000</td>\n",
       "      <td>86.000000</td>\n",
       "      <td>700.000000</td>\n",
       "      <td>11.000000</td>\n",
       "      <td>7.0</td>\n",
       "      <td>1012.6</td>\n",
       "      <td>-11.2</td>\n",
       "      <td>0.0</td>\n",
       "      <td>NE</td>\n",
       "      <td>1.1</td>\n",
       "      <td>Wanliu</td>\n",
       "    </tr>\n",
       "  </tbody>\n",
       "</table>\n",
       "<p>35064 rows × 18 columns</p>\n",
       "</div>"
      ],
      "text/plain": [
       "          No  year  month  day  hour  PM2.5  PM10       SO2        NO2  \\\n",
       "0          1  2013      3    1     0    8.0   8.0  6.000000  28.000000   \n",
       "1          2  2013      3    1     1    9.0   9.0  6.000000  28.000000   \n",
       "2          3  2013      3    1     2    3.0   6.0  6.911717  19.000000   \n",
       "3          4  2013      3    1     3   11.0  30.0  8.000000  14.000000   \n",
       "4          5  2013      3    1     4    3.0  13.0  9.000000  13.152519   \n",
       "...      ...   ...    ...  ...   ...    ...   ...       ...        ...   \n",
       "35059  35060  2017      2   28    19   11.0  27.0  4.000000  20.000000   \n",
       "35060  35061  2017      2   28    20   15.0  43.0  6.000000  55.000000   \n",
       "35061  35062  2017      2   28    21   13.0  35.0  7.000000  48.000000   \n",
       "35062  35063  2017      2   28    22   12.0  31.0  5.000000  47.000000   \n",
       "35063  35064  2017      2   28    23    7.0  25.0  6.000000  86.000000   \n",
       "\n",
       "               CO         O3  TEMP    PRES  DEWP  RAIN   wd  WSPM station  \n",
       "0      400.000000  52.000000  -0.7  1023.0 -18.8   0.0  NNW   4.4  Wanliu  \n",
       "1      400.000000  50.000000  -1.1  1023.2 -18.2   0.0    N   4.7  Wanliu  \n",
       "2      400.000000  55.000000  -1.1  1023.5 -18.2   0.0  NNW   5.6  Wanliu  \n",
       "3      350.672519  54.062852  -1.4  1024.5 -19.4   0.0   NW   3.1  Wanliu  \n",
       "4      300.000000  54.000000  -2.0  1025.2 -19.5   0.0    N   2.0  Wanliu  \n",
       "...           ...        ...   ...     ...   ...   ...  ...   ...     ...  \n",
       "35059  300.000000  81.000000  12.6  1011.9 -14.3   0.0    N   2.0  Wanliu  \n",
       "35060  500.000000  45.000000   9.4  1012.3 -11.9   0.0  WSW   1.0  Wanliu  \n",
       "35061  500.000000  48.000000   8.7  1012.8 -13.7   0.0    N   1.1  Wanliu  \n",
       "35062  500.000000  50.000000   7.8  1012.9 -12.6   0.0  NNE   1.0  Wanliu  \n",
       "35063  700.000000  11.000000   7.0  1012.6 -11.2   0.0   NE   1.1  Wanliu  \n",
       "\n",
       "[35064 rows x 18 columns]"
      ]
     },
     "execution_count": 7,
     "metadata": {},
     "output_type": "execute_result"
    }
   ],
   "source": [
    "prsa_df"
   ]
  },
  {
   "cell_type": "code",
   "execution_count": 23,
   "metadata": {},
   "outputs": [],
   "source": [
    "for i in range(1, 1+5):\n",
    "    ts_1dim(prsa_df['PM2.5'], 48*i, 48*i+96 , 24, \"PRSA_\"+str(i))"
   ]
  },
  {
   "cell_type": "code",
   "execution_count": 45,
   "metadata": {},
   "outputs": [
    {
     "data": {
      "image/png": "[encoded data removed]",
      "text/plain": [
       "<Figure size 432x288 with 1 Axes>"
      ]
     },
     "execution_count": 45,
     "metadata": {},
     "output_type": "execute_result"
    }
   ],
   "source": [
    "i = 18\n",
    "ts_1dim(prsa_df['PM2.5'], 24*30*i, 24*30*i+2*24*30 , 24*30, \"PRSA_\"+str(i))"
   ]
  },
  {
   "cell_type": "code",
   "execution_count": null,
   "metadata": {},
   "outputs": [],
   "source": []
  },
  {
   "cell_type": "code",
   "execution_count": 71,
   "metadata": {},
   "outputs": [],
   "source": [
    "time_parser = lambda x: pd.to_datetime(x)\n",
    "nsw_df = pd.read_csv('../examples/data/NSW2013.csv', parse_dates=['SETTLEMENTDATE'], date_parser=time_parser)"
   ]
  },
  {
   "cell_type": "code",
   "execution_count": null,
   "metadata": {},
   "outputs": [],
   "source": []
  },
  {
   "cell_type": "code",
   "execution_count": 148,
   "metadata": {},
   "outputs": [],
   "source": [
    "dateparser = lambda x: pd.to_datetime(x)\n",
    "traffic_df = pd.read_csv('../examples/data/traffic_data_in_bits.csv', date_parser=dateparser, parse_dates=['datetime'])"
   ]
  },
  {
   "cell_type": "code",
   "execution_count": 149,
   "metadata": {},
   "outputs": [],
   "source": [
    "traffic_df = get_date_feature(traffic_df, 'datetime')"
   ]
  },
  {
   "cell_type": "code",
   "execution_count": 152,
   "metadata": {
    "scrolled": false
   },
   "outputs": [
    {
     "data": {
      "text/html": [
       "<div>\n",
       "<style scoped>\n",
       "    .dataframe tbody tr th:only-of-type {\n",
       "        vertical-align: middle;\n",
       "    }\n",
       "\n",
       "    .dataframe tbody tr th {\n",
       "        vertical-align: top;\n",
       "    }\n",
       "\n",
       "    .dataframe thead th {\n",
       "        text-align: right;\n",
       "    }\n",
       "</style>\n",
       "<table border=\"1\" class=\"dataframe\">\n",
       "  <thead>\n",
       "    <tr style=\"text-align: right;\">\n",
       "      <th></th>\n",
       "      <th>datetime</th>\n",
       "      <th>value</th>\n",
       "      <th>month</th>\n",
       "      <th>day</th>\n",
       "      <th>dayofweek</th>\n",
       "      <th>daysinmonth</th>\n",
       "      <th>hour</th>\n",
       "      <th>minute</th>\n",
       "      <th>holiday</th>\n",
       "    </tr>\n",
       "  </thead>\n",
       "  <tbody>\n",
       "    <tr>\n",
       "      <th>0</th>\n",
       "      <td>2005-06-07 07:00:00</td>\n",
       "      <td>3562279127</td>\n",
       "      <td>6</td>\n",
       "      <td>7</td>\n",
       "      <td>1</td>\n",
       "      <td>30</td>\n",
       "      <td>7</td>\n",
       "      <td>0</td>\n",
       "      <td>0</td>\n",
       "    </tr>\n",
       "    <tr>\n",
       "      <th>1</th>\n",
       "      <td>2005-06-07 07:05:00</td>\n",
       "      <td>3710215571</td>\n",
       "      <td>6</td>\n",
       "      <td>7</td>\n",
       "      <td>1</td>\n",
       "      <td>30</td>\n",
       "      <td>7</td>\n",
       "      <td>5</td>\n",
       "      <td>0</td>\n",
       "    </tr>\n",
       "    <tr>\n",
       "      <th>2</th>\n",
       "      <td>2005-06-07 07:10:00</td>\n",
       "      <td>3877469703</td>\n",
       "      <td>6</td>\n",
       "      <td>7</td>\n",
       "      <td>1</td>\n",
       "      <td>30</td>\n",
       "      <td>7</td>\n",
       "      <td>10</td>\n",
       "      <td>0</td>\n",
       "    </tr>\n",
       "    <tr>\n",
       "      <th>3</th>\n",
       "      <td>2005-06-07 07:15:00</td>\n",
       "      <td>3876354871</td>\n",
       "      <td>6</td>\n",
       "      <td>7</td>\n",
       "      <td>1</td>\n",
       "      <td>30</td>\n",
       "      <td>7</td>\n",
       "      <td>15</td>\n",
       "      <td>0</td>\n",
       "    </tr>\n",
       "    <tr>\n",
       "      <th>4</th>\n",
       "      <td>2005-06-07 07:20:00</td>\n",
       "      <td>4582542581</td>\n",
       "      <td>6</td>\n",
       "      <td>7</td>\n",
       "      <td>1</td>\n",
       "      <td>30</td>\n",
       "      <td>7</td>\n",
       "      <td>20</td>\n",
       "      <td>0</td>\n",
       "    </tr>\n",
       "    <tr>\n",
       "      <th>...</th>\n",
       "      <td>...</td>\n",
       "      <td>...</td>\n",
       "      <td>...</td>\n",
       "      <td>...</td>\n",
       "      <td>...</td>\n",
       "      <td>...</td>\n",
       "      <td>...</td>\n",
       "      <td>...</td>\n",
       "      <td>...</td>\n",
       "    </tr>\n",
       "    <tr>\n",
       "      <th>14767</th>\n",
       "      <td>2005-07-28 13:35:00</td>\n",
       "      <td>6694253099</td>\n",
       "      <td>7</td>\n",
       "      <td>28</td>\n",
       "      <td>3</td>\n",
       "      <td>31</td>\n",
       "      <td>13</td>\n",
       "      <td>35</td>\n",
       "      <td>0</td>\n",
       "    </tr>\n",
       "    <tr>\n",
       "      <th>14768</th>\n",
       "      <td>2005-07-28 13:40:00</td>\n",
       "      <td>6795832158</td>\n",
       "      <td>7</td>\n",
       "      <td>28</td>\n",
       "      <td>3</td>\n",
       "      <td>31</td>\n",
       "      <td>13</td>\n",
       "      <td>40</td>\n",
       "      <td>0</td>\n",
       "    </tr>\n",
       "    <tr>\n",
       "      <th>14769</th>\n",
       "      <td>2005-07-28 13:45:00</td>\n",
       "      <td>6729727208</td>\n",
       "      <td>7</td>\n",
       "      <td>28</td>\n",
       "      <td>3</td>\n",
       "      <td>31</td>\n",
       "      <td>13</td>\n",
       "      <td>45</td>\n",
       "      <td>0</td>\n",
       "    </tr>\n",
       "    <tr>\n",
       "      <th>14770</th>\n",
       "      <td>2005-07-28 13:50:00</td>\n",
       "      <td>6741435273</td>\n",
       "      <td>7</td>\n",
       "      <td>28</td>\n",
       "      <td>3</td>\n",
       "      <td>31</td>\n",
       "      <td>13</td>\n",
       "      <td>50</td>\n",
       "      <td>0</td>\n",
       "    </tr>\n",
       "    <tr>\n",
       "      <th>14771</th>\n",
       "      <td>2005-07-28 13:55:00</td>\n",
       "      <td>6608828359</td>\n",
       "      <td>7</td>\n",
       "      <td>28</td>\n",
       "      <td>3</td>\n",
       "      <td>31</td>\n",
       "      <td>13</td>\n",
       "      <td>55</td>\n",
       "      <td>0</td>\n",
       "    </tr>\n",
       "  </tbody>\n",
       "</table>\n",
       "<p>14772 rows × 9 columns</p>\n",
       "</div>"
      ],
      "text/plain": [
       "                 datetime       value  month  day  dayofweek  daysinmonth  \\\n",
       "0     2005-06-07 07:00:00  3562279127      6    7          1           30   \n",
       "1     2005-06-07 07:05:00  3710215571      6    7          1           30   \n",
       "2     2005-06-07 07:10:00  3877469703      6    7          1           30   \n",
       "3     2005-06-07 07:15:00  3876354871      6    7          1           30   \n",
       "4     2005-06-07 07:20:00  4582542581      6    7          1           30   \n",
       "...                   ...         ...    ...  ...        ...          ...   \n",
       "14767 2005-07-28 13:35:00  6694253099      7   28          3           31   \n",
       "14768 2005-07-28 13:40:00  6795832158      7   28          3           31   \n",
       "14769 2005-07-28 13:45:00  6729727208      7   28          3           31   \n",
       "14770 2005-07-28 13:50:00  6741435273      7   28          3           31   \n",
       "14771 2005-07-28 13:55:00  6608828359      7   28          3           31   \n",
       "\n",
       "       hour  minute  holiday  \n",
       "0         7       0        0  \n",
       "1         7       5        0  \n",
       "2         7      10        0  \n",
       "3         7      15        0  \n",
       "4         7      20        0  \n",
       "...     ...     ...      ...  \n",
       "14767    13      35        0  \n",
       "14768    13      40        0  \n",
       "14769    13      45        0  \n",
       "14770    13      50        0  \n",
       "14771    13      55        0  \n",
       "\n",
       "[14772 rows x 9 columns]"
      ]
     },
     "execution_count": 152,
     "metadata": {},
     "output_type": "execute_result"
    }
   ],
   "source": [
    "traffic_df"
   ]
  },
  {
   "cell_type": "code",
   "execution_count": 151,
   "metadata": {},
   "outputs": [],
   "source": [
    "traffic_df.to_csv('../examples/data/traffic_data_in_bits.csv', index=False)"
   ]
  },
  {
   "cell_type": "code",
   "execution_count": null,
   "metadata": {},
   "outputs": [],
   "source": [
    "traffic_df.to"
   ]
  },
  {
   "cell_type": "code",
   "execution_count": 143,
   "metadata": {},
   "outputs": [
    {
     "data": {
      "image/png": "[encoded data removed]",
      "text/plain": [
       "<Figure size 432x288 with 1 Axes>"
      ]
     },
     "execution_count": 143,
     "metadata": {},
     "output_type": "execute_result"
    }
   ],
   "source": [
    "i = 22\n",
    "ts_1dim(traffic_df.value, 12*2*i, 12*2*i+12*2, 12, 'traffic')"
   ]
  },
  {
   "cell_type": "code",
   "execution_count": 78,
   "metadata": {},
   "outputs": [],
   "source": [
    "date = pd.to_datetime('2013-01-01 00:30:00')"
   ]
  },
  {
   "cell_type": "code",
   "execution_count": 74,
   "metadata": {},
   "outputs": [],
   "source": [
    "nsw_df['month'] = nsw_df.SETTLEMENTDATE.apply(lambda x: x.month)"
   ]
  },
  {
   "cell_type": "code",
   "execution_count": 101,
   "metadata": {},
   "outputs": [],
   "source": [
    "us_holidays = holidays.UnitedStates()"
   ]
  },
  {
   "cell_type": "code",
   "execution_count": 102,
   "metadata": {},
   "outputs": [],
   "source": [
    "nsw_df['holiday'] = nsw_df.SETTLEMENTDATE.apply(lambda x: 1 if (x in us_holidays) else 0)"
   ]
  },
  {
   "cell_type": "code",
   "execution_count": 93,
   "metadata": {
    "scrolled": true
   },
   "outputs": [
    {
     "data": {
      "image/png": "[encoded data removed]",
      "text/plain": [
       "<Figure size 432x288 with 1 Axes>"
      ]
     },
     "execution_count": 93,
     "metadata": {},
     "output_type": "execute_result"
    }
   ],
   "source": [
    "i = 40\n",
    "ts_1dim(nsw_df['TOTALDEMAND'], 48*i, 48*i+96 , 48, \"NSW\")"
   ]
  },
  {
   "cell_type": "code",
   "execution_count": 85,
   "metadata": {},
   "outputs": [],
   "source": [
    "nsw_df.drop(columns=['daysinmonth'], inplace=True)"
   ]
  },
  {
   "cell_type": "code",
   "execution_count": 104,
   "metadata": {},
   "outputs": [],
   "source": [
    "nsw_df.to_csv('../examples/data/NSW2013.csv', index=False)"
   ]
  },
  {
   "cell_type": "code",
   "execution_count": 94,
   "metadata": {},
   "outputs": [
    {
     "data": {
      "text/html": [
       "<div>\n",
       "<style scoped>\n",
       "    .dataframe tbody tr th:only-of-type {\n",
       "        vertical-align: middle;\n",
       "    }\n",
       "\n",
       "    .dataframe tbody tr th {\n",
       "        vertical-align: top;\n",
       "    }\n",
       "\n",
       "    .dataframe thead th {\n",
       "        text-align: right;\n",
       "    }\n",
       "</style>\n",
       "<table border=\"1\" class=\"dataframe\">\n",
       "  <thead>\n",
       "    <tr style=\"text-align: right;\">\n",
       "      <th></th>\n",
       "      <th>REGION</th>\n",
       "      <th>SETTLEMENTDATE</th>\n",
       "      <th>TOTALDEMAND</th>\n",
       "      <th>RRP</th>\n",
       "      <th>PERIODTYPE</th>\n",
       "      <th>month</th>\n",
       "      <th>day</th>\n",
       "      <th>hour</th>\n",
       "      <th>minute</th>\n",
       "    </tr>\n",
       "  </thead>\n",
       "  <tbody>\n",
       "    <tr>\n",
       "      <th>0</th>\n",
       "      <td>NSW1</td>\n",
       "      <td>2013-01-01 00:30:00</td>\n",
       "      <td>7166.97</td>\n",
       "      <td>46.61</td>\n",
       "      <td>TRADE</td>\n",
       "      <td>1</td>\n",
       "      <td>1</td>\n",
       "      <td>0</td>\n",
       "      <td>30</td>\n",
       "    </tr>\n",
       "    <tr>\n",
       "      <th>1</th>\n",
       "      <td>NSW1</td>\n",
       "      <td>2013-01-01 01:00:00</td>\n",
       "      <td>6928.11</td>\n",
       "      <td>46.32</td>\n",
       "      <td>TRADE</td>\n",
       "      <td>1</td>\n",
       "      <td>1</td>\n",
       "      <td>1</td>\n",
       "      <td>0</td>\n",
       "    </tr>\n",
       "    <tr>\n",
       "      <th>2</th>\n",
       "      <td>NSW1</td>\n",
       "      <td>2013-01-01 01:30:00</td>\n",
       "      <td>6541.21</td>\n",
       "      <td>44.76</td>\n",
       "      <td>TRADE</td>\n",
       "      <td>1</td>\n",
       "      <td>1</td>\n",
       "      <td>1</td>\n",
       "      <td>30</td>\n",
       "    </tr>\n",
       "    <tr>\n",
       "      <th>3</th>\n",
       "      <td>NSW1</td>\n",
       "      <td>2013-01-01 02:00:00</td>\n",
       "      <td>6253.60</td>\n",
       "      <td>42.86</td>\n",
       "      <td>TRADE</td>\n",
       "      <td>1</td>\n",
       "      <td>1</td>\n",
       "      <td>2</td>\n",
       "      <td>0</td>\n",
       "    </tr>\n",
       "    <tr>\n",
       "      <th>4</th>\n",
       "      <td>NSW1</td>\n",
       "      <td>2013-01-01 02:30:00</td>\n",
       "      <td>6003.44</td>\n",
       "      <td>42.86</td>\n",
       "      <td>TRADE</td>\n",
       "      <td>1</td>\n",
       "      <td>1</td>\n",
       "      <td>2</td>\n",
       "      <td>30</td>\n",
       "    </tr>\n",
       "    <tr>\n",
       "      <th>...</th>\n",
       "      <td>...</td>\n",
       "      <td>...</td>\n",
       "      <td>...</td>\n",
       "      <td>...</td>\n",
       "      <td>...</td>\n",
       "      <td>...</td>\n",
       "      <td>...</td>\n",
       "      <td>...</td>\n",
       "      <td>...</td>\n",
       "    </tr>\n",
       "    <tr>\n",
       "      <th>17515</th>\n",
       "      <td>NSW1</td>\n",
       "      <td>2013-12-31 22:00:00</td>\n",
       "      <td>7136.00</td>\n",
       "      <td>49.45</td>\n",
       "      <td>TRADE</td>\n",
       "      <td>12</td>\n",
       "      <td>31</td>\n",
       "      <td>22</td>\n",
       "      <td>0</td>\n",
       "    </tr>\n",
       "    <tr>\n",
       "      <th>17516</th>\n",
       "      <td>NSW1</td>\n",
       "      <td>2013-12-31 22:30:00</td>\n",
       "      <td>7223.13</td>\n",
       "      <td>49.65</td>\n",
       "      <td>TRADE</td>\n",
       "      <td>12</td>\n",
       "      <td>31</td>\n",
       "      <td>22</td>\n",
       "      <td>30</td>\n",
       "    </tr>\n",
       "    <tr>\n",
       "      <th>17517</th>\n",
       "      <td>NSW1</td>\n",
       "      <td>2013-12-31 23:00:00</td>\n",
       "      <td>7236.37</td>\n",
       "      <td>49.63</td>\n",
       "      <td>TRADE</td>\n",
       "      <td>12</td>\n",
       "      <td>31</td>\n",
       "      <td>23</td>\n",
       "      <td>0</td>\n",
       "    </tr>\n",
       "    <tr>\n",
       "      <th>17518</th>\n",
       "      <td>NSW1</td>\n",
       "      <td>2013-12-31 23:30:00</td>\n",
       "      <td>7051.46</td>\n",
       "      <td>49.66</td>\n",
       "      <td>TRADE</td>\n",
       "      <td>12</td>\n",
       "      <td>31</td>\n",
       "      <td>23</td>\n",
       "      <td>30</td>\n",
       "    </tr>\n",
       "    <tr>\n",
       "      <th>17519</th>\n",
       "      <td>NSW1</td>\n",
       "      <td>2014-01-01 00:00:00</td>\n",
       "      <td>7009.91</td>\n",
       "      <td>49.70</td>\n",
       "      <td>TRADE</td>\n",
       "      <td>1</td>\n",
       "      <td>1</td>\n",
       "      <td>0</td>\n",
       "      <td>0</td>\n",
       "    </tr>\n",
       "  </tbody>\n",
       "</table>\n",
       "<p>17520 rows × 9 columns</p>\n",
       "</div>"
      ],
      "text/plain": [
       "      REGION      SETTLEMENTDATE  TOTALDEMAND    RRP PERIODTYPE  month  day  \\\n",
       "0       NSW1 2013-01-01 00:30:00      7166.97  46.61      TRADE      1    1   \n",
       "1       NSW1 2013-01-01 01:00:00      6928.11  46.32      TRADE      1    1   \n",
       "2       NSW1 2013-01-01 01:30:00      6541.21  44.76      TRADE      1    1   \n",
       "3       NSW1 2013-01-01 02:00:00      6253.60  42.86      TRADE      1    1   \n",
       "4       NSW1 2013-01-01 02:30:00      6003.44  42.86      TRADE      1    1   \n",
       "...      ...                 ...          ...    ...        ...    ...  ...   \n",
       "17515   NSW1 2013-12-31 22:00:00      7136.00  49.45      TRADE     12   31   \n",
       "17516   NSW1 2013-12-31 22:30:00      7223.13  49.65      TRADE     12   31   \n",
       "17517   NSW1 2013-12-31 23:00:00      7236.37  49.63      TRADE     12   31   \n",
       "17518   NSW1 2013-12-31 23:30:00      7051.46  49.66      TRADE     12   31   \n",
       "17519   NSW1 2014-01-01 00:00:00      7009.91  49.70      TRADE      1    1   \n",
       "\n",
       "       hour  minute  \n",
       "0         0      30  \n",
       "1         1       0  \n",
       "2         1      30  \n",
       "3         2       0  \n",
       "4         2      30  \n",
       "...     ...     ...  \n",
       "17515    22       0  \n",
       "17516    22      30  \n",
       "17517    23       0  \n",
       "17518    23      30  \n",
       "17519     0       0  \n",
       "\n",
       "[17520 rows x 9 columns]"
      ]
     },
     "execution_count": 94,
     "metadata": {},
     "output_type": "execute_result"
    }
   ],
   "source": [
    "nsw_df"
   ]
  },
  {
   "cell_type": "code",
   "execution_count": null,
   "metadata": {},
   "outputs": [],
   "source": []
  },
  {
   "cell_type": "code",
   "execution_count": 106,
   "metadata": {},
   "outputs": [],
   "source": [
    "prsa_df['date'] = prsa_df['year']+prsa_df['month']+prsa_df['day']"
   ]
  },
  {
   "cell_type": "code",
   "execution_count": 107,
   "metadata": {},
   "outputs": [
    {
     "data": {
      "text/html": [
       "<div>\n",
       "<style scoped>\n",
       "    .dataframe tbody tr th:only-of-type {\n",
       "        vertical-align: middle;\n",
       "    }\n",
       "\n",
       "    .dataframe tbody tr th {\n",
       "        vertical-align: top;\n",
       "    }\n",
       "\n",
       "    .dataframe thead th {\n",
       "        text-align: right;\n",
       "    }\n",
       "</style>\n",
       "<table border=\"1\" class=\"dataframe\">\n",
       "  <thead>\n",
       "    <tr style=\"text-align: right;\">\n",
       "      <th></th>\n",
       "      <th>No</th>\n",
       "      <th>year</th>\n",
       "      <th>month</th>\n",
       "      <th>day</th>\n",
       "      <th>hour</th>\n",
       "      <th>PM2.5</th>\n",
       "      <th>PM10</th>\n",
       "      <th>SO2</th>\n",
       "      <th>NO2</th>\n",
       "      <th>CO</th>\n",
       "      <th>O3</th>\n",
       "      <th>TEMP</th>\n",
       "      <th>PRES</th>\n",
       "      <th>DEWP</th>\n",
       "      <th>RAIN</th>\n",
       "      <th>wd</th>\n",
       "      <th>WSPM</th>\n",
       "      <th>station</th>\n",
       "      <th>date</th>\n",
       "    </tr>\n",
       "  </thead>\n",
       "  <tbody>\n",
       "    <tr>\n",
       "      <th>0</th>\n",
       "      <td>1</td>\n",
       "      <td>2013</td>\n",
       "      <td>3</td>\n",
       "      <td>1</td>\n",
       "      <td>0</td>\n",
       "      <td>8.0</td>\n",
       "      <td>8.0</td>\n",
       "      <td>6.000000</td>\n",
       "      <td>28.000000</td>\n",
       "      <td>400.000000</td>\n",
       "      <td>52.000000</td>\n",
       "      <td>-0.7</td>\n",
       "      <td>1023.0</td>\n",
       "      <td>-18.8</td>\n",
       "      <td>0.0</td>\n",
       "      <td>NNW</td>\n",
       "      <td>4.4</td>\n",
       "      <td>Wanliu</td>\n",
       "      <td>2017</td>\n",
       "    </tr>\n",
       "    <tr>\n",
       "      <th>1</th>\n",
       "      <td>2</td>\n",
       "      <td>2013</td>\n",
       "      <td>3</td>\n",
       "      <td>1</td>\n",
       "      <td>1</td>\n",
       "      <td>9.0</td>\n",
       "      <td>9.0</td>\n",
       "      <td>6.000000</td>\n",
       "      <td>28.000000</td>\n",
       "      <td>400.000000</td>\n",
       "      <td>50.000000</td>\n",
       "      <td>-1.1</td>\n",
       "      <td>1023.2</td>\n",
       "      <td>-18.2</td>\n",
       "      <td>0.0</td>\n",
       "      <td>N</td>\n",
       "      <td>4.7</td>\n",
       "      <td>Wanliu</td>\n",
       "      <td>2017</td>\n",
       "    </tr>\n",
       "    <tr>\n",
       "      <th>2</th>\n",
       "      <td>3</td>\n",
       "      <td>2013</td>\n",
       "      <td>3</td>\n",
       "      <td>1</td>\n",
       "      <td>2</td>\n",
       "      <td>3.0</td>\n",
       "      <td>6.0</td>\n",
       "      <td>6.911717</td>\n",
       "      <td>19.000000</td>\n",
       "      <td>400.000000</td>\n",
       "      <td>55.000000</td>\n",
       "      <td>-1.1</td>\n",
       "      <td>1023.5</td>\n",
       "      <td>-18.2</td>\n",
       "      <td>0.0</td>\n",
       "      <td>NNW</td>\n",
       "      <td>5.6</td>\n",
       "      <td>Wanliu</td>\n",
       "      <td>2017</td>\n",
       "    </tr>\n",
       "    <tr>\n",
       "      <th>3</th>\n",
       "      <td>4</td>\n",
       "      <td>2013</td>\n",
       "      <td>3</td>\n",
       "      <td>1</td>\n",
       "      <td>3</td>\n",
       "      <td>11.0</td>\n",
       "      <td>30.0</td>\n",
       "      <td>8.000000</td>\n",
       "      <td>14.000000</td>\n",
       "      <td>350.672519</td>\n",
       "      <td>54.062852</td>\n",
       "      <td>-1.4</td>\n",
       "      <td>1024.5</td>\n",
       "      <td>-19.4</td>\n",
       "      <td>0.0</td>\n",
       "      <td>NW</td>\n",
       "      <td>3.1</td>\n",
       "      <td>Wanliu</td>\n",
       "      <td>2017</td>\n",
       "    </tr>\n",
       "    <tr>\n",
       "      <th>4</th>\n",
       "      <td>5</td>\n",
       "      <td>2013</td>\n",
       "      <td>3</td>\n",
       "      <td>1</td>\n",
       "      <td>4</td>\n",
       "      <td>3.0</td>\n",
       "      <td>13.0</td>\n",
       "      <td>9.000000</td>\n",
       "      <td>13.152519</td>\n",
       "      <td>300.000000</td>\n",
       "      <td>54.000000</td>\n",
       "      <td>-2.0</td>\n",
       "      <td>1025.2</td>\n",
       "      <td>-19.5</td>\n",
       "      <td>0.0</td>\n",
       "      <td>N</td>\n",
       "      <td>2.0</td>\n",
       "      <td>Wanliu</td>\n",
       "      <td>2017</td>\n",
       "    </tr>\n",
       "    <tr>\n",
       "      <th>...</th>\n",
       "      <td>...</td>\n",
       "      <td>...</td>\n",
       "      <td>...</td>\n",
       "      <td>...</td>\n",
       "      <td>...</td>\n",
       "      <td>...</td>\n",
       "      <td>...</td>\n",
       "      <td>...</td>\n",
       "      <td>...</td>\n",
       "      <td>...</td>\n",
       "      <td>...</td>\n",
       "      <td>...</td>\n",
       "      <td>...</td>\n",
       "      <td>...</td>\n",
       "      <td>...</td>\n",
       "      <td>...</td>\n",
       "      <td>...</td>\n",
       "      <td>...</td>\n",
       "      <td>...</td>\n",
       "    </tr>\n",
       "    <tr>\n",
       "      <th>35059</th>\n",
       "      <td>35060</td>\n",
       "      <td>2017</td>\n",
       "      <td>2</td>\n",
       "      <td>28</td>\n",
       "      <td>19</td>\n",
       "      <td>11.0</td>\n",
       "      <td>27.0</td>\n",
       "      <td>4.000000</td>\n",
       "      <td>20.000000</td>\n",
       "      <td>300.000000</td>\n",
       "      <td>81.000000</td>\n",
       "      <td>12.6</td>\n",
       "      <td>1011.9</td>\n",
       "      <td>-14.3</td>\n",
       "      <td>0.0</td>\n",
       "      <td>N</td>\n",
       "      <td>2.0</td>\n",
       "      <td>Wanliu</td>\n",
       "      <td>2047</td>\n",
       "    </tr>\n",
       "    <tr>\n",
       "      <th>35060</th>\n",
       "      <td>35061</td>\n",
       "      <td>2017</td>\n",
       "      <td>2</td>\n",
       "      <td>28</td>\n",
       "      <td>20</td>\n",
       "      <td>15.0</td>\n",
       "      <td>43.0</td>\n",
       "      <td>6.000000</td>\n",
       "      <td>55.000000</td>\n",
       "      <td>500.000000</td>\n",
       "      <td>45.000000</td>\n",
       "      <td>9.4</td>\n",
       "      <td>1012.3</td>\n",
       "      <td>-11.9</td>\n",
       "      <td>0.0</td>\n",
       "      <td>WSW</td>\n",
       "      <td>1.0</td>\n",
       "      <td>Wanliu</td>\n",
       "      <td>2047</td>\n",
       "    </tr>\n",
       "    <tr>\n",
       "      <th>35061</th>\n",
       "      <td>35062</td>\n",
       "      <td>2017</td>\n",
       "      <td>2</td>\n",
       "      <td>28</td>\n",
       "      <td>21</td>\n",
       "      <td>13.0</td>\n",
       "      <td>35.0</td>\n",
       "      <td>7.000000</td>\n",
       "      <td>48.000000</td>\n",
       "      <td>500.000000</td>\n",
       "      <td>48.000000</td>\n",
       "      <td>8.7</td>\n",
       "      <td>1012.8</td>\n",
       "      <td>-13.7</td>\n",
       "      <td>0.0</td>\n",
       "      <td>N</td>\n",
       "      <td>1.1</td>\n",
       "      <td>Wanliu</td>\n",
       "      <td>2047</td>\n",
       "    </tr>\n",
       "    <tr>\n",
       "      <th>35062</th>\n",
       "      <td>35063</td>\n",
       "      <td>2017</td>\n",
       "      <td>2</td>\n",
       "      <td>28</td>\n",
       "      <td>22</td>\n",
       "      <td>12.0</td>\n",
       "      <td>31.0</td>\n",
       "      <td>5.000000</td>\n",
       "      <td>47.000000</td>\n",
       "      <td>500.000000</td>\n",
       "      <td>50.000000</td>\n",
       "      <td>7.8</td>\n",
       "      <td>1012.9</td>\n",
       "      <td>-12.6</td>\n",
       "      <td>0.0</td>\n",
       "      <td>NNE</td>\n",
       "      <td>1.0</td>\n",
       "      <td>Wanliu</td>\n",
       "      <td>2047</td>\n",
       "    </tr>\n",
       "    <tr>\n",
       "      <th>35063</th>\n",
       "      <td>35064</td>\n",
       "      <td>2017</td>\n",
       "      <td>2</td>\n",
       "      <td>28</td>\n",
       "      <td>23</td>\n",
       "      <td>7.0</td>\n",
       "      <td>25.0</td>\n",
       "      <td>6.000000</td>\n",
       "      <td>86.000000</td>\n",
       "      <td>700.000000</td>\n",
       "      <td>11.000000</td>\n",
       "      <td>7.0</td>\n",
       "      <td>1012.6</td>\n",
       "      <td>-11.2</td>\n",
       "      <td>0.0</td>\n",
       "      <td>NE</td>\n",
       "      <td>1.1</td>\n",
       "      <td>Wanliu</td>\n",
       "      <td>2047</td>\n",
       "    </tr>\n",
       "  </tbody>\n",
       "</table>\n",
       "<p>35064 rows × 19 columns</p>\n",
       "</div>"
      ],
      "text/plain": [
       "          No  year  month  day  hour  PM2.5  PM10       SO2        NO2  \\\n",
       "0          1  2013      3    1     0    8.0   8.0  6.000000  28.000000   \n",
       "1          2  2013      3    1     1    9.0   9.0  6.000000  28.000000   \n",
       "2          3  2013      3    1     2    3.0   6.0  6.911717  19.000000   \n",
       "3          4  2013      3    1     3   11.0  30.0  8.000000  14.000000   \n",
       "4          5  2013      3    1     4    3.0  13.0  9.000000  13.152519   \n",
       "...      ...   ...    ...  ...   ...    ...   ...       ...        ...   \n",
       "35059  35060  2017      2   28    19   11.0  27.0  4.000000  20.000000   \n",
       "35060  35061  2017      2   28    20   15.0  43.0  6.000000  55.000000   \n",
       "35061  35062  2017      2   28    21   13.0  35.0  7.000000  48.000000   \n",
       "35062  35063  2017      2   28    22   12.0  31.0  5.000000  47.000000   \n",
       "35063  35064  2017      2   28    23    7.0  25.0  6.000000  86.000000   \n",
       "\n",
       "               CO         O3  TEMP    PRES  DEWP  RAIN   wd  WSPM station  \\\n",
       "0      400.000000  52.000000  -0.7  1023.0 -18.8   0.0  NNW   4.4  Wanliu   \n",
       "1      400.000000  50.000000  -1.1  1023.2 -18.2   0.0    N   4.7  Wanliu   \n",
       "2      400.000000  55.000000  -1.1  1023.5 -18.2   0.0  NNW   5.6  Wanliu   \n",
       "3      350.672519  54.062852  -1.4  1024.5 -19.4   0.0   NW   3.1  Wanliu   \n",
       "4      300.000000  54.000000  -2.0  1025.2 -19.5   0.0    N   2.0  Wanliu   \n",
       "...           ...        ...   ...     ...   ...   ...  ...   ...     ...   \n",
       "35059  300.000000  81.000000  12.6  1011.9 -14.3   0.0    N   2.0  Wanliu   \n",
       "35060  500.000000  45.000000   9.4  1012.3 -11.9   0.0  WSW   1.0  Wanliu   \n",
       "35061  500.000000  48.000000   8.7  1012.8 -13.7   0.0    N   1.1  Wanliu   \n",
       "35062  500.000000  50.000000   7.8  1012.9 -12.6   0.0  NNE   1.0  Wanliu   \n",
       "35063  700.000000  11.000000   7.0  1012.6 -11.2   0.0   NE   1.1  Wanliu   \n",
       "\n",
       "       date  \n",
       "0      2017  \n",
       "1      2017  \n",
       "2      2017  \n",
       "3      2017  \n",
       "4      2017  \n",
       "...     ...  \n",
       "35059  2047  \n",
       "35060  2047  \n",
       "35061  2047  \n",
       "35062  2047  \n",
       "35063  2047  \n",
       "\n",
       "[35064 rows x 19 columns]"
      ]
     },
     "execution_count": 107,
     "metadata": {},
     "output_type": "execute_result"
    }
   ],
   "source": [
    "prsa_df"
   ]
  },
  {
   "cell_type": "code",
   "execution_count": 108,
   "metadata": {},
   "outputs": [
    {
     "ename": "NameError",
     "evalue": "name 'torch' is not defined",
     "output_type": "error",
     "traceback": [
      "\u001b[0;31m---------------------------------------------------------------------------\u001b[0m",
      "\u001b[0;31mNameError\u001b[0m                                 Traceback (most recent call last)",
      "\u001b[0;32m<ipython-input-108-3ed4971aff15>\u001b[0m in \u001b[0;36m<module>\u001b[0;34m\u001b[0m\n\u001b[0;32m----> 1\u001b[0;31m \u001b[0mfeat_cat\u001b[0m \u001b[0;34m=\u001b[0m \u001b[0mtorch\u001b[0m\u001b[0;34m.\u001b[0m\u001b[0mLongTensor\u001b[0m\u001b[0;34m(\u001b[0m\u001b[0;34m[\u001b[0m\u001b[0;34m[\u001b[0m\u001b[0;36m30\u001b[0m\u001b[0;34m,\u001b[0m \u001b[0;36m60\u001b[0m\u001b[0;34m,\u001b[0m \u001b[0;36m30\u001b[0m\u001b[0;34m]\u001b[0m\u001b[0;34m,\u001b[0m \u001b[0;34m[\u001b[0m\u001b[0;36m60\u001b[0m\u001b[0;34m,\u001b[0m \u001b[0;36m60\u001b[0m\u001b[0;34m,\u001b[0m \u001b[0;36m30\u001b[0m\u001b[0;34m]\u001b[0m\u001b[0;34m]\u001b[0m\u001b[0;34m)\u001b[0m\u001b[0;34m\u001b[0m\u001b[0;34m\u001b[0m\u001b[0m\n\u001b[0m",
      "\u001b[0;31mNameError\u001b[0m: name 'torch' is not defined"
     ]
    }
   ],
   "source": []
  },
  {
   "cell_type": "code",
   "execution_count": null,
   "metadata": {},
   "outputs": [],
   "source": []
  },
  {
   "cell_type": "code",
   "execution_count": null,
   "metadata": {},
   "outputs": [],
   "source": []
  },
  {
   "cell_type": "code",
   "execution_count": 153,
   "metadata": {
    "scrolled": false
   },
   "outputs": [
    {
     "name": "stdout",
     "output_type": "stream",
     "text": [
      "TAS2016.csv\n",
      "REGION             object\n",
      "SETTLEMENTDATE     object\n",
      "TOTALDEMAND       float64\n",
      "RRP               float64\n",
      "PERIODTYPE         object\n",
      "dtype: object\n",
      "  REGION SETTLEMENTDATE  TOTALDEMAND     RRP PERIODTYPE\n",
      "0   TAS1  2016/1/1 0:30      1034.88   98.52      TRADE\n",
      "1   TAS1  2016/1/1 1:00      1035.77   99.25      TRADE\n",
      "2   TAS1  2016/1/1 1:30       998.99   96.90      TRADE\n",
      "3   TAS1  2016/1/1 2:00       974.48   99.37      TRADE\n",
      "4   TAS1  2016/1/1 2:30       995.02  100.34      TRADE\n",
      "\n",
      "bike_hour.csv\n",
      "instant         int64\n",
      "dteday         object\n",
      "season          int64\n",
      "yr              int64\n",
      "mnth            int64\n",
      "hr              int64\n",
      "holiday         int64\n",
      "weekday         int64\n",
      "workingday      int64\n",
      "weathersit      int64\n",
      "temp          float64\n",
      "atemp         float64\n",
      "hum           float64\n",
      "windspeed     float64\n",
      "casual          int64\n",
      "registered      int64\n",
      "cnt             int64\n",
      "dtype: object\n",
      "   instant      dteday  season  yr  mnth  hr  holiday  weekday  workingday  \\\n",
      "0        1  2011-01-01       1   0     1   0        0        6           0   \n",
      "1        2  2011-01-01       1   0     1   1        0        6           0   \n",
      "2        3  2011-01-01       1   0     1   2        0        6           0   \n",
      "3        4  2011-01-01       1   0     1   3        0        6           0   \n",
      "4        5  2011-01-01       1   0     1   4        0        6           0   \n",
      "\n",
      "   weathersit  temp   atemp   hum  windspeed  casual  registered  cnt  \n",
      "0           1  0.24  0.2879  0.81        0.0       3          13   16  \n",
      "1           1  0.22  0.2727  0.80        0.0       8          32   40  \n",
      "2           1  0.22  0.2727  0.80        0.0       5          27   32  \n",
      "3           1  0.24  0.2879  0.75        0.0       3          10   13  \n",
      "4           1  0.24  0.2879  0.75        0.0       0           1    1  \n",
      "\n",
      "pollution.csv\n",
      "Date               object\n",
      "Benzene           float64\n",
      "CS2               float64\n",
      "Ozone             float64\n",
      "SO2               float64\n",
      "Toluene           float64\n",
      "Xylene            float64\n",
      "Wind Direction    float64\n",
      "Wind Speed        float64\n",
      "Wind Origin        object\n",
      "dtype: object\n",
      "          Date  Benzene  CS2  Ozone  SO2  Toluene  Xylene  Wind Direction  \\\n",
      "0  8/1/15 0:00      2.5  2.5  16.35  2.5      2.5     2.5           206.0   \n",
      "1  8/1/15 0:05      2.5  2.5  19.00  2.5      2.5     2.5           206.0   \n",
      "2  8/1/15 0:10      2.5  2.5  20.69  2.5      2.5     2.5           214.0   \n",
      "3  8/1/15 0:15      2.5  2.5  20.13  2.5      2.5     2.5           219.0   \n",
      "4  8/1/15 0:20      2.5  2.5  20.22  2.5      2.5     2.5           219.0   \n",
      "\n",
      "   Wind Speed Wind Origin  \n",
      "0         8.0         SSW  \n",
      "1         8.0         SSW  \n",
      "2         8.0         SSW  \n",
      "3         9.0          SW  \n",
      "4        11.0          SW  \n",
      "\n",
      "NSW2016.csv\n",
      "REGION             object\n",
      "SETTLEMENTDATE     object\n",
      "TOTALDEMAND       float64\n",
      "RRP               float64\n",
      "PERIODTYPE         object\n",
      "dtype: object\n",
      "  REGION SETTLEMENTDATE  TOTALDEMAND    RRP PERIODTYPE\n",
      "0   NSW1  2016/1/1 0:30      6976.20  36.82      TRADE\n",
      "1   NSW1  2016/1/1 1:00      6751.26  39.67      TRADE\n",
      "2   NSW1  2016/1/1 1:30      6421.49  38.41      TRADE\n",
      "3   NSW1  2016/1/1 2:00      6125.98  39.41      TRADE\n",
      "4   NSW1  2016/1/1 2:30      5939.91  44.34      TRADE\n",
      "\n",
      "NSW2013.csv\n",
      "REGION             object\n",
      "SETTLEMENTDATE     object\n",
      "TOTALDEMAND       float64\n",
      "RRP               float64\n",
      "PERIODTYPE         object\n",
      "dtype: object\n",
      "  REGION SETTLEMENTDATE  TOTALDEMAND    RRP PERIODTYPE\n",
      "0   NSW1  2013/1/1 0:30      7166.97  46.61      TRADE\n",
      "1   NSW1  2013/1/1 1:00      6928.11  46.32      TRADE\n",
      "2   NSW1  2013/1/1 1:30      6541.21  44.76      TRADE\n",
      "3   NSW1  2013/1/1 2:00      6253.60  42.86      TRADE\n",
      "4   NSW1  2013/1/1 2:30      6003.44  42.86      TRADE\n",
      "\n",
      "solar_energy_1.csv\n",
      "LocalTime     object\n",
      "Power(MW)    float64\n",
      "dtype: object\n",
      "        LocalTime  Power(MW)\n",
      "0  01/01/06 00:00        0.0\n",
      "1  01/01/06 00:05        0.0\n",
      "2  01/01/06 00:10        0.0\n",
      "3  01/01/06 00:15        0.0\n",
      "4  01/01/06 00:20        0.0\n",
      "\n",
      "AirPassengers.csv\n",
      "Month          object\n",
      "#Passengers     int64\n",
      "dtype: object\n",
      "     Month  #Passengers\n",
      "0  1949-01          112\n",
      "1  1949-02          118\n",
      "2  1949-03          132\n",
      "3  1949-04          129\n",
      "4  1949-05          121\n",
      "\n",
      "beijing_pm25.csv\n",
      "No         int64\n",
      "year       int64\n",
      "month      int64\n",
      "day        int64\n",
      "hour       int64\n",
      "pm2.5    float64\n",
      "DEWP       int64\n",
      "TEMP     float64\n",
      "PRES     float64\n",
      "cbwd      object\n",
      "Iws      float64\n",
      "Is         int64\n",
      "Ir         int64\n",
      "dtype: object\n",
      "   No  year  month  day  hour  pm2.5  DEWP  TEMP    PRES cbwd    Iws  Is  Ir\n",
      "0   1  2010      1    1     0    NaN   -21 -11.0  1021.0   NW   1.79   0   0\n",
      "1   2  2010      1    1     1    NaN   -21 -12.0  1020.0   NW   4.92   0   0\n",
      "2   3  2010      1    1     2    NaN   -21 -11.0  1019.0   NW   6.71   0   0\n",
      "3   4  2010      1    1     3    NaN   -21 -14.0  1019.0   NW   9.84   0   0\n",
      "4   5  2010      1    1     4    NaN   -20 -12.0  1018.0   NW  12.97   0   0\n",
      "\n",
      "traffic_data_in_bits.csv\n",
      "datetime    object\n",
      "value        int64\n",
      "dtype: object\n",
      "              datetime       value\n",
      "0  2005-06-07 07:00:00  3562279127\n",
      "1  2005-06-07 07:05:00  3710215571\n",
      "2  2005-06-07 07:10:00  3877469703\n",
      "3  2005-06-07 07:15:00  3876354871\n",
      "4  2005-06-07 07:20:00  4582542581\n",
      "\n"
     ]
    }
   ],
   "source": [
    "for file, df in zip(file_paths, df_list):\n",
    "    print(file)\n",
    "    print(df.dtypes)\n",
    "    print(df.head())\n",
    "    print()"
   ]
  },
  {
   "cell_type": "code",
   "execution_count": 154,
   "metadata": {
    "scrolled": true
   },
   "outputs": [
    {
     "data": {
      "text/plain": [
       "<AxesSubplot:>"
      ]
     },
     "execution_count": 154,
     "metadata": {},
     "output_type": "execute_result"
    },
    {
     "data": {
      "image/png": "[encoded data removed]",
      "text/plain": [
       "<Figure size 432x288 with 1 Axes>"
      ]
     },
     "metadata": {
      "needs_background": "light"
     },
     "output_type": "display_data"
    }
   ],
   "source": [
    "df_bike_hour.cnt.plot()"
   ]
  },
  {
   "cell_type": "code",
   "execution_count": 437,
   "metadata": {},
   "outputs": [],
   "source": [
    "tf.expand_dims?"
   ]
  },
  {
   "cell_type": "code",
   "execution_count": 420,
   "metadata": {},
   "outputs": [],
   "source": [
    "a = tf.random.normal((10, 1, 2))"
   ]
  },
  {
   "cell_type": "code",
   "execution_count": 438,
   "metadata": {},
   "outputs": [],
   "source": [
    "output = tf.random.normal((32, 24, 22))\n",
    "embed_concat = tf.random.normal((32, 24, 26))"
   ]
  },
  {
   "cell_type": "code",
   "execution_count": 439,
   "metadata": {},
   "outputs": [
    {
     "ename": "InvalidArgumentError",
     "evalue": "Incompatible shapes: [32,24,22] vs. [32,24,26] [Op:AddV2]",
     "output_type": "error",
     "traceback": [
      "\u001b[0;31m---------------------------------------------------------------------------\u001b[0m",
      "\u001b[0;31mInvalidArgumentError\u001b[0m                      Traceback (most recent call last)",
      "\u001b[0;32m<ipython-input-439-4ef42550a75a>\u001b[0m in \u001b[0;36m<module>\u001b[0;34m\u001b[0m\n\u001b[0;32m----> 1\u001b[0;31m \u001b[0moutput_sum\u001b[0m \u001b[0;34m=\u001b[0m \u001b[0moutput\u001b[0m \u001b[0;34m+\u001b[0m \u001b[0membed_concat\u001b[0m\u001b[0;34m\u001b[0m\u001b[0;34m\u001b[0m\u001b[0m\n\u001b[0m",
      "\u001b[0;32m~/anaconda3/envs/dnn/lib/python3.6/site-packages/tensorflow/python/ops/math_ops.py\u001b[0m in \u001b[0;36mbinary_op_wrapper\u001b[0;34m(x, y)\u001b[0m\n\u001b[1;32m   1123\u001b[0m     \u001b[0;32mwith\u001b[0m \u001b[0mops\u001b[0m\u001b[0;34m.\u001b[0m\u001b[0mname_scope\u001b[0m\u001b[0;34m(\u001b[0m\u001b[0;32mNone\u001b[0m\u001b[0;34m,\u001b[0m \u001b[0mop_name\u001b[0m\u001b[0;34m,\u001b[0m \u001b[0;34m[\u001b[0m\u001b[0mx\u001b[0m\u001b[0;34m,\u001b[0m \u001b[0my\u001b[0m\u001b[0;34m]\u001b[0m\u001b[0;34m)\u001b[0m \u001b[0;32mas\u001b[0m \u001b[0mname\u001b[0m\u001b[0;34m:\u001b[0m\u001b[0;34m\u001b[0m\u001b[0;34m\u001b[0m\u001b[0m\n\u001b[1;32m   1124\u001b[0m       \u001b[0;32mtry\u001b[0m\u001b[0;34m:\u001b[0m\u001b[0;34m\u001b[0m\u001b[0;34m\u001b[0m\u001b[0m\n\u001b[0;32m-> 1125\u001b[0;31m         \u001b[0;32mreturn\u001b[0m \u001b[0mfunc\u001b[0m\u001b[0;34m(\u001b[0m\u001b[0mx\u001b[0m\u001b[0;34m,\u001b[0m \u001b[0my\u001b[0m\u001b[0;34m,\u001b[0m \u001b[0mname\u001b[0m\u001b[0;34m=\u001b[0m\u001b[0mname\u001b[0m\u001b[0;34m)\u001b[0m\u001b[0;34m\u001b[0m\u001b[0;34m\u001b[0m\u001b[0m\n\u001b[0m\u001b[1;32m   1126\u001b[0m       \u001b[0;32mexcept\u001b[0m \u001b[0;34m(\u001b[0m\u001b[0mTypeError\u001b[0m\u001b[0;34m,\u001b[0m \u001b[0mValueError\u001b[0m\u001b[0;34m)\u001b[0m \u001b[0;32mas\u001b[0m \u001b[0me\u001b[0m\u001b[0;34m:\u001b[0m\u001b[0;34m\u001b[0m\u001b[0;34m\u001b[0m\u001b[0m\n\u001b[1;32m   1127\u001b[0m         \u001b[0;31m# Even if dispatching the op failed, the RHS may be a tensor aware\u001b[0m\u001b[0;34m\u001b[0m\u001b[0;34m\u001b[0m\u001b[0;34m\u001b[0m\u001b[0m\n",
      "\u001b[0;32m~/anaconda3/envs/dnn/lib/python3.6/site-packages/tensorflow/python/util/dispatch.py\u001b[0m in \u001b[0;36mwrapper\u001b[0;34m(*args, **kwargs)\u001b[0m\n\u001b[1;32m    199\u001b[0m     \u001b[0;34m\"\"\"Call target, and fall back on dispatchers if there is a TypeError.\"\"\"\u001b[0m\u001b[0;34m\u001b[0m\u001b[0;34m\u001b[0m\u001b[0m\n\u001b[1;32m    200\u001b[0m     \u001b[0;32mtry\u001b[0m\u001b[0;34m:\u001b[0m\u001b[0;34m\u001b[0m\u001b[0;34m\u001b[0m\u001b[0m\n\u001b[0;32m--> 201\u001b[0;31m       \u001b[0;32mreturn\u001b[0m \u001b[0mtarget\u001b[0m\u001b[0;34m(\u001b[0m\u001b[0;34m*\u001b[0m\u001b[0margs\u001b[0m\u001b[0;34m,\u001b[0m \u001b[0;34m**\u001b[0m\u001b[0mkwargs\u001b[0m\u001b[0;34m)\u001b[0m\u001b[0;34m\u001b[0m\u001b[0;34m\u001b[0m\u001b[0m\n\u001b[0m\u001b[1;32m    202\u001b[0m     \u001b[0;32mexcept\u001b[0m \u001b[0;34m(\u001b[0m\u001b[0mTypeError\u001b[0m\u001b[0;34m,\u001b[0m \u001b[0mValueError\u001b[0m\u001b[0;34m)\u001b[0m\u001b[0;34m:\u001b[0m\u001b[0;34m\u001b[0m\u001b[0;34m\u001b[0m\u001b[0m\n\u001b[1;32m    203\u001b[0m       \u001b[0;31m# Note: convert_to_eager_tensor currently raises a ValueError, not a\u001b[0m\u001b[0;34m\u001b[0m\u001b[0;34m\u001b[0m\u001b[0;34m\u001b[0m\u001b[0m\n",
      "\u001b[0;32m~/anaconda3/envs/dnn/lib/python3.6/site-packages/tensorflow/python/ops/math_ops.py\u001b[0m in \u001b[0;36m_add_dispatch\u001b[0;34m(x, y, name)\u001b[0m\n\u001b[1;32m   1445\u001b[0m     \u001b[0;32mreturn\u001b[0m \u001b[0mgen_math_ops\u001b[0m\u001b[0;34m.\u001b[0m\u001b[0madd\u001b[0m\u001b[0;34m(\u001b[0m\u001b[0mx\u001b[0m\u001b[0;34m,\u001b[0m \u001b[0my\u001b[0m\u001b[0;34m,\u001b[0m \u001b[0mname\u001b[0m\u001b[0;34m=\u001b[0m\u001b[0mname\u001b[0m\u001b[0;34m)\u001b[0m\u001b[0;34m\u001b[0m\u001b[0;34m\u001b[0m\u001b[0m\n\u001b[1;32m   1446\u001b[0m   \u001b[0;32melse\u001b[0m\u001b[0;34m:\u001b[0m\u001b[0;34m\u001b[0m\u001b[0;34m\u001b[0m\u001b[0m\n\u001b[0;32m-> 1447\u001b[0;31m     \u001b[0;32mreturn\u001b[0m \u001b[0mgen_math_ops\u001b[0m\u001b[0;34m.\u001b[0m\u001b[0madd_v2\u001b[0m\u001b[0;34m(\u001b[0m\u001b[0mx\u001b[0m\u001b[0;34m,\u001b[0m \u001b[0my\u001b[0m\u001b[0;34m,\u001b[0m \u001b[0mname\u001b[0m\u001b[0;34m=\u001b[0m\u001b[0mname\u001b[0m\u001b[0;34m)\u001b[0m\u001b[0;34m\u001b[0m\u001b[0;34m\u001b[0m\u001b[0m\n\u001b[0m\u001b[1;32m   1448\u001b[0m \u001b[0;34m\u001b[0m\u001b[0m\n\u001b[1;32m   1449\u001b[0m \u001b[0;34m\u001b[0m\u001b[0m\n",
      "\u001b[0;32m~/anaconda3/envs/dnn/lib/python3.6/site-packages/tensorflow/python/ops/gen_math_ops.py\u001b[0m in \u001b[0;36madd_v2\u001b[0;34m(x, y, name)\u001b[0m\n\u001b[1;32m    484\u001b[0m       \u001b[0;32mreturn\u001b[0m \u001b[0m_result\u001b[0m\u001b[0;34m\u001b[0m\u001b[0;34m\u001b[0m\u001b[0m\n\u001b[1;32m    485\u001b[0m     \u001b[0;32mexcept\u001b[0m \u001b[0m_core\u001b[0m\u001b[0;34m.\u001b[0m\u001b[0m_NotOkStatusException\u001b[0m \u001b[0;32mas\u001b[0m \u001b[0me\u001b[0m\u001b[0;34m:\u001b[0m\u001b[0;34m\u001b[0m\u001b[0;34m\u001b[0m\u001b[0m\n\u001b[0;32m--> 486\u001b[0;31m       \u001b[0m_ops\u001b[0m\u001b[0;34m.\u001b[0m\u001b[0mraise_from_not_ok_status\u001b[0m\u001b[0;34m(\u001b[0m\u001b[0me\u001b[0m\u001b[0;34m,\u001b[0m \u001b[0mname\u001b[0m\u001b[0;34m)\u001b[0m\u001b[0;34m\u001b[0m\u001b[0;34m\u001b[0m\u001b[0m\n\u001b[0m\u001b[1;32m    487\u001b[0m     \u001b[0;32mexcept\u001b[0m \u001b[0m_core\u001b[0m\u001b[0;34m.\u001b[0m\u001b[0m_FallbackException\u001b[0m\u001b[0;34m:\u001b[0m\u001b[0;34m\u001b[0m\u001b[0;34m\u001b[0m\u001b[0m\n\u001b[1;32m    488\u001b[0m       \u001b[0;32mpass\u001b[0m\u001b[0;34m\u001b[0m\u001b[0;34m\u001b[0m\u001b[0m\n",
      "\u001b[0;32m~/anaconda3/envs/dnn/lib/python3.6/site-packages/tensorflow/python/framework/ops.py\u001b[0m in \u001b[0;36mraise_from_not_ok_status\u001b[0;34m(e, name)\u001b[0m\n\u001b[1;32m   6841\u001b[0m   \u001b[0mmessage\u001b[0m \u001b[0;34m=\u001b[0m \u001b[0me\u001b[0m\u001b[0;34m.\u001b[0m\u001b[0mmessage\u001b[0m \u001b[0;34m+\u001b[0m \u001b[0;34m(\u001b[0m\u001b[0;34m\" name: \"\u001b[0m \u001b[0;34m+\u001b[0m \u001b[0mname\u001b[0m \u001b[0;32mif\u001b[0m \u001b[0mname\u001b[0m \u001b[0;32mis\u001b[0m \u001b[0;32mnot\u001b[0m \u001b[0;32mNone\u001b[0m \u001b[0;32melse\u001b[0m \u001b[0;34m\"\"\u001b[0m\u001b[0;34m)\u001b[0m\u001b[0;34m\u001b[0m\u001b[0;34m\u001b[0m\u001b[0m\n\u001b[1;32m   6842\u001b[0m   \u001b[0;31m# pylint: disable=protected-access\u001b[0m\u001b[0;34m\u001b[0m\u001b[0;34m\u001b[0m\u001b[0;34m\u001b[0m\u001b[0m\n\u001b[0;32m-> 6843\u001b[0;31m   \u001b[0msix\u001b[0m\u001b[0;34m.\u001b[0m\u001b[0mraise_from\u001b[0m\u001b[0;34m(\u001b[0m\u001b[0mcore\u001b[0m\u001b[0;34m.\u001b[0m\u001b[0m_status_to_exception\u001b[0m\u001b[0;34m(\u001b[0m\u001b[0me\u001b[0m\u001b[0;34m.\u001b[0m\u001b[0mcode\u001b[0m\u001b[0;34m,\u001b[0m \u001b[0mmessage\u001b[0m\u001b[0;34m)\u001b[0m\u001b[0;34m,\u001b[0m \u001b[0;32mNone\u001b[0m\u001b[0;34m)\u001b[0m\u001b[0;34m\u001b[0m\u001b[0;34m\u001b[0m\u001b[0m\n\u001b[0m\u001b[1;32m   6844\u001b[0m   \u001b[0;31m# pylint: enable=protected-access\u001b[0m\u001b[0;34m\u001b[0m\u001b[0;34m\u001b[0m\u001b[0;34m\u001b[0m\u001b[0m\n\u001b[1;32m   6845\u001b[0m \u001b[0;34m\u001b[0m\u001b[0m\n",
      "\u001b[0;32m~/.local/lib/python3.6/site-packages/six.py\u001b[0m in \u001b[0;36mraise_from\u001b[0;34m(value, from_value)\u001b[0m\n",
      "\u001b[0;31mInvalidArgumentError\u001b[0m: Incompatible shapes: [32,24,22] vs. [32,24,26] [Op:AddV2]"
     ]
    }
   ],
   "source": []
  },
  {
   "cell_type": "code",
   "execution_count": 427,
   "metadata": {
    "scrolled": true
   },
   "outputs": [
    {
     "ename": "SyntaxError",
     "evalue": "invalid syntax (<ipython-input-427-38123b0044b5>, line 1)",
     "output_type": "error",
     "traceback": [
      "\u001b[0;36m  File \u001b[0;32m\"<ipython-input-427-38123b0044b5>\"\u001b[0;36m, line \u001b[0;32m1\u001b[0m\n\u001b[0;31m    tf.tile(a, [1, 10, :]).shape\u001b[0m\n\u001b[0m                       ^\u001b[0m\n\u001b[0;31mSyntaxError\u001b[0m\u001b[0;31m:\u001b[0m invalid syntax\n"
     ]
    }
   ],
   "source": [
    "tf.tile(a, [1, 10, :]).shape"
   ]
  },
  {
   "cell_type": "code",
   "execution_count": 434,
   "metadata": {},
   "outputs": [
    {
     "data": {
      "text/plain": [
       "<tf.Tensor: shape=(2, 3), dtype=int32, numpy=\n",
       "array([[0, 1, 5],\n",
       "       [6, 9, 1]], dtype=int32)>"
      ]
     },
     "execution_count": 434,
     "metadata": {},
     "output_type": "execute_result"
    }
   ],
   "source": [
    "tf.random.uniform((2, 3), minval=0, maxval=10, dtype=tf.int32)"
   ]
  },
  {
   "cell_type": "code",
   "execution_count": 412,
   "metadata": {},
   "outputs": [],
   "source": [
    "arr_1 = np.random.rand(10, 20)"
   ]
  },
  {
   "cell_type": "code",
   "execution_count": 414,
   "metadata": {},
   "outputs": [],
   "source": [
    "arr_2 = np.random.rand(20, 10)"
   ]
  },
  {
   "cell_type": "code",
   "execution_count": 417,
   "metadata": {},
   "outputs": [
    {
     "data": {
      "text/plain": [
       "(20, 10)"
      ]
     },
     "execution_count": 417,
     "metadata": {},
     "output_type": "execute_result"
    }
   ],
   "source": [
    "arr_1.reshape(arr_2.shape).shape"
   ]
  },
  {
   "cell_type": "code",
   "execution_count": 418,
   "metadata": {},
   "outputs": [
    {
     "data": {
      "text/plain": [
       "<tensorflow.python.keras.layers.normalization_v2.BatchNormalization at 0x7fbf678998d0>"
      ]
     },
     "execution_count": 418,
     "metadata": {},
     "output_type": "execute_result"
    }
   ],
   "source": [
    "layers.BatchNormalization()"
   ]
  },
  {
   "cell_type": "code",
   "execution_count": 419,
   "metadata": {},
   "outputs": [
    {
     "data": {
      "text/plain": [
       "<tf.Tensor: shape=(4,), dtype=float32, numpy=array([0. , 1. , 2.3, 0. ], dtype=float32)>"
      ]
     },
     "execution_count": 419,
     "metadata": {},
     "output_type": "execute_result"
    }
   ],
   "source": [
    "tf.nn.relu([-1., 1, 2.3, -4.3])"
   ]
  },
  {
   "cell_type": "code",
   "execution_count": 35,
   "metadata": {
    "scrolled": true
   },
   "outputs": [],
   "source": [
    "df_raw = pd.read_csv('../data/bike_hour.csv', index_col=0)"
   ]
  },
  {
   "cell_type": "code",
   "execution_count": 16,
   "metadata": {},
   "outputs": [
    {
     "data": {
      "image/png": "[encoded data removed]",
      "text/plain": [
       "<Figure size 432x288 with 1 Axes>"
      ]
     },
     "execution_count": 16,
     "metadata": {},
     "output_type": "execute_result"
    }
   ],
   "source": [
    "ts_1dim(df_TAS2016.RRP, 0, 1000, 10, 'TAS2016')"
   ]
  },
  {
   "cell_type": "code",
   "execution_count": 47,
   "metadata": {},
   "outputs": [
    {
     "data": {
      "text/plain": [
       "array([1, 2, 3, 4])"
      ]
     },
     "execution_count": 47,
     "metadata": {},
     "output_type": "execute_result"
    }
   ],
   "source": [
    "df_raw.weathersit.unique()"
   ]
  },
  {
   "cell_type": "code",
   "execution_count": 38,
   "metadata": {
    "scrolled": false
   },
   "outputs": [
    {
     "data": {
      "text/html": [
       "<div>\n",
       "<style scoped>\n",
       "    .dataframe tbody tr th:only-of-type {\n",
       "        vertical-align: middle;\n",
       "    }\n",
       "\n",
       "    .dataframe tbody tr th {\n",
       "        vertical-align: top;\n",
       "    }\n",
       "\n",
       "    .dataframe thead th {\n",
       "        text-align: right;\n",
       "    }\n",
       "</style>\n",
       "<table border=\"1\" class=\"dataframe\">\n",
       "  <thead>\n",
       "    <tr style=\"text-align: right;\">\n",
       "      <th></th>\n",
       "      <th>dteday</th>\n",
       "      <th>season</th>\n",
       "      <th>yr</th>\n",
       "      <th>mnth</th>\n",
       "      <th>hr</th>\n",
       "      <th>holiday</th>\n",
       "      <th>weekday</th>\n",
       "      <th>workingday</th>\n",
       "      <th>weathersit</th>\n",
       "      <th>temp</th>\n",
       "      <th>atemp</th>\n",
       "      <th>hum</th>\n",
       "      <th>windspeed</th>\n",
       "      <th>casual</th>\n",
       "      <th>registered</th>\n",
       "      <th>cnt</th>\n",
       "    </tr>\n",
       "    <tr>\n",
       "      <th>instant</th>\n",
       "      <th></th>\n",
       "      <th></th>\n",
       "      <th></th>\n",
       "      <th></th>\n",
       "      <th></th>\n",
       "      <th></th>\n",
       "      <th></th>\n",
       "      <th></th>\n",
       "      <th></th>\n",
       "      <th></th>\n",
       "      <th></th>\n",
       "      <th></th>\n",
       "      <th></th>\n",
       "      <th></th>\n",
       "      <th></th>\n",
       "      <th></th>\n",
       "    </tr>\n",
       "  </thead>\n",
       "  <tbody>\n",
       "    <tr>\n",
       "      <th>1</th>\n",
       "      <td>2011-01-01</td>\n",
       "      <td>1</td>\n",
       "      <td>0</td>\n",
       "      <td>1</td>\n",
       "      <td>0</td>\n",
       "      <td>0</td>\n",
       "      <td>6</td>\n",
       "      <td>0</td>\n",
       "      <td>1</td>\n",
       "      <td>0.24</td>\n",
       "      <td>0.2879</td>\n",
       "      <td>0.81</td>\n",
       "      <td>0.0000</td>\n",
       "      <td>3</td>\n",
       "      <td>13</td>\n",
       "      <td>16</td>\n",
       "    </tr>\n",
       "    <tr>\n",
       "      <th>2</th>\n",
       "      <td>2011-01-01</td>\n",
       "      <td>1</td>\n",
       "      <td>0</td>\n",
       "      <td>1</td>\n",
       "      <td>1</td>\n",
       "      <td>0</td>\n",
       "      <td>6</td>\n",
       "      <td>0</td>\n",
       "      <td>1</td>\n",
       "      <td>0.22</td>\n",
       "      <td>0.2727</td>\n",
       "      <td>0.80</td>\n",
       "      <td>0.0000</td>\n",
       "      <td>8</td>\n",
       "      <td>32</td>\n",
       "      <td>40</td>\n",
       "    </tr>\n",
       "    <tr>\n",
       "      <th>3</th>\n",
       "      <td>2011-01-01</td>\n",
       "      <td>1</td>\n",
       "      <td>0</td>\n",
       "      <td>1</td>\n",
       "      <td>2</td>\n",
       "      <td>0</td>\n",
       "      <td>6</td>\n",
       "      <td>0</td>\n",
       "      <td>1</td>\n",
       "      <td>0.22</td>\n",
       "      <td>0.2727</td>\n",
       "      <td>0.80</td>\n",
       "      <td>0.0000</td>\n",
       "      <td>5</td>\n",
       "      <td>27</td>\n",
       "      <td>32</td>\n",
       "    </tr>\n",
       "    <tr>\n",
       "      <th>4</th>\n",
       "      <td>2011-01-01</td>\n",
       "      <td>1</td>\n",
       "      <td>0</td>\n",
       "      <td>1</td>\n",
       "      <td>3</td>\n",
       "      <td>0</td>\n",
       "      <td>6</td>\n",
       "      <td>0</td>\n",
       "      <td>1</td>\n",
       "      <td>0.24</td>\n",
       "      <td>0.2879</td>\n",
       "      <td>0.75</td>\n",
       "      <td>0.0000</td>\n",
       "      <td>3</td>\n",
       "      <td>10</td>\n",
       "      <td>13</td>\n",
       "    </tr>\n",
       "    <tr>\n",
       "      <th>5</th>\n",
       "      <td>2011-01-01</td>\n",
       "      <td>1</td>\n",
       "      <td>0</td>\n",
       "      <td>1</td>\n",
       "      <td>4</td>\n",
       "      <td>0</td>\n",
       "      <td>6</td>\n",
       "      <td>0</td>\n",
       "      <td>1</td>\n",
       "      <td>0.24</td>\n",
       "      <td>0.2879</td>\n",
       "      <td>0.75</td>\n",
       "      <td>0.0000</td>\n",
       "      <td>0</td>\n",
       "      <td>1</td>\n",
       "      <td>1</td>\n",
       "    </tr>\n",
       "    <tr>\n",
       "      <th>...</th>\n",
       "      <td>...</td>\n",
       "      <td>...</td>\n",
       "      <td>...</td>\n",
       "      <td>...</td>\n",
       "      <td>...</td>\n",
       "      <td>...</td>\n",
       "      <td>...</td>\n",
       "      <td>...</td>\n",
       "      <td>...</td>\n",
       "      <td>...</td>\n",
       "      <td>...</td>\n",
       "      <td>...</td>\n",
       "      <td>...</td>\n",
       "      <td>...</td>\n",
       "      <td>...</td>\n",
       "      <td>...</td>\n",
       "    </tr>\n",
       "    <tr>\n",
       "      <th>17375</th>\n",
       "      <td>2012-12-31</td>\n",
       "      <td>1</td>\n",
       "      <td>1</td>\n",
       "      <td>12</td>\n",
       "      <td>19</td>\n",
       "      <td>0</td>\n",
       "      <td>1</td>\n",
       "      <td>1</td>\n",
       "      <td>2</td>\n",
       "      <td>0.26</td>\n",
       "      <td>0.2576</td>\n",
       "      <td>0.60</td>\n",
       "      <td>0.1642</td>\n",
       "      <td>11</td>\n",
       "      <td>108</td>\n",
       "      <td>119</td>\n",
       "    </tr>\n",
       "    <tr>\n",
       "      <th>17376</th>\n",
       "      <td>2012-12-31</td>\n",
       "      <td>1</td>\n",
       "      <td>1</td>\n",
       "      <td>12</td>\n",
       "      <td>20</td>\n",
       "      <td>0</td>\n",
       "      <td>1</td>\n",
       "      <td>1</td>\n",
       "      <td>2</td>\n",
       "      <td>0.26</td>\n",
       "      <td>0.2576</td>\n",
       "      <td>0.60</td>\n",
       "      <td>0.1642</td>\n",
       "      <td>8</td>\n",
       "      <td>81</td>\n",
       "      <td>89</td>\n",
       "    </tr>\n",
       "    <tr>\n",
       "      <th>17377</th>\n",
       "      <td>2012-12-31</td>\n",
       "      <td>1</td>\n",
       "      <td>1</td>\n",
       "      <td>12</td>\n",
       "      <td>21</td>\n",
       "      <td>0</td>\n",
       "      <td>1</td>\n",
       "      <td>1</td>\n",
       "      <td>1</td>\n",
       "      <td>0.26</td>\n",
       "      <td>0.2576</td>\n",
       "      <td>0.60</td>\n",
       "      <td>0.1642</td>\n",
       "      <td>7</td>\n",
       "      <td>83</td>\n",
       "      <td>90</td>\n",
       "    </tr>\n",
       "    <tr>\n",
       "      <th>17378</th>\n",
       "      <td>2012-12-31</td>\n",
       "      <td>1</td>\n",
       "      <td>1</td>\n",
       "      <td>12</td>\n",
       "      <td>22</td>\n",
       "      <td>0</td>\n",
       "      <td>1</td>\n",
       "      <td>1</td>\n",
       "      <td>1</td>\n",
       "      <td>0.26</td>\n",
       "      <td>0.2727</td>\n",
       "      <td>0.56</td>\n",
       "      <td>0.1343</td>\n",
       "      <td>13</td>\n",
       "      <td>48</td>\n",
       "      <td>61</td>\n",
       "    </tr>\n",
       "    <tr>\n",
       "      <th>17379</th>\n",
       "      <td>2012-12-31</td>\n",
       "      <td>1</td>\n",
       "      <td>1</td>\n",
       "      <td>12</td>\n",
       "      <td>23</td>\n",
       "      <td>0</td>\n",
       "      <td>1</td>\n",
       "      <td>1</td>\n",
       "      <td>1</td>\n",
       "      <td>0.26</td>\n",
       "      <td>0.2727</td>\n",
       "      <td>0.65</td>\n",
       "      <td>0.1343</td>\n",
       "      <td>12</td>\n",
       "      <td>37</td>\n",
       "      <td>49</td>\n",
       "    </tr>\n",
       "  </tbody>\n",
       "</table>\n",
       "<p>17379 rows × 16 columns</p>\n",
       "</div>"
      ],
      "text/plain": [
       "             dteday  season  yr  mnth  hr  holiday  weekday  workingday  \\\n",
       "instant                                                                   \n",
       "1        2011-01-01       1   0     1   0        0        6           0   \n",
       "2        2011-01-01       1   0     1   1        0        6           0   \n",
       "3        2011-01-01       1   0     1   2        0        6           0   \n",
       "4        2011-01-01       1   0     1   3        0        6           0   \n",
       "5        2011-01-01       1   0     1   4        0        6           0   \n",
       "...             ...     ...  ..   ...  ..      ...      ...         ...   \n",
       "17375    2012-12-31       1   1    12  19        0        1           1   \n",
       "17376    2012-12-31       1   1    12  20        0        1           1   \n",
       "17377    2012-12-31       1   1    12  21        0        1           1   \n",
       "17378    2012-12-31       1   1    12  22        0        1           1   \n",
       "17379    2012-12-31       1   1    12  23        0        1           1   \n",
       "\n",
       "         weathersit  temp   atemp   hum  windspeed  casual  registered  cnt  \n",
       "instant                                                                      \n",
       "1                 1  0.24  0.2879  0.81     0.0000       3          13   16  \n",
       "2                 1  0.22  0.2727  0.80     0.0000       8          32   40  \n",
       "3                 1  0.22  0.2727  0.80     0.0000       5          27   32  \n",
       "4                 1  0.24  0.2879  0.75     0.0000       3          10   13  \n",
       "5                 1  0.24  0.2879  0.75     0.0000       0           1    1  \n",
       "...             ...   ...     ...   ...        ...     ...         ...  ...  \n",
       "17375             2  0.26  0.2576  0.60     0.1642      11         108  119  \n",
       "17376             2  0.26  0.2576  0.60     0.1642       8          81   89  \n",
       "17377             1  0.26  0.2576  0.60     0.1642       7          83   90  \n",
       "17378             1  0.26  0.2727  0.56     0.1343      13          48   61  \n",
       "17379             1  0.26  0.2727  0.65     0.1343      12          37   49  \n",
       "\n",
       "[17379 rows x 16 columns]"
      ]
     },
     "execution_count": 38,
     "metadata": {},
     "output_type": "execute_result"
    }
   ],
   "source": [
    "df_raw"
   ]
  },
  {
   "cell_type": "code",
   "execution_count": 32,
   "metadata": {},
   "outputs": [
    {
     "data": {
      "text/plain": [
       "17379"
      ]
     },
     "execution_count": 32,
     "metadata": {},
     "output_type": "execute_result"
    }
   ],
   "source": [
    "df_bike_hour.hum.count()"
   ]
  },
  {
   "cell_type": "code",
   "execution_count": 31,
   "metadata": {
    "scrolled": true
   },
   "outputs": [
    {
     "data": {
      "image/png": "[encoded data removed]",
      "text/plain": [
       "<Figure size 432x288 with 1 Axes>"
      ]
     },
     "execution_count": 31,
     "metadata": {},
     "output_type": "execute_result"
    }
   ],
   "source": [
    "ts_1dim(df_bike_hour.windspeed, 0, 1000, 10, 'df_bike_hour')"
   ]
  },
  {
   "cell_type": "code",
   "execution_count": 33,
   "metadata": {},
   "outputs": [
    {
     "data": {
      "image/png": "[encoded data removed]",
      "text/plain": [
       "<Figure size 432x288 with 1 Axes>"
      ]
     },
     "execution_count": 33,
     "metadata": {},
     "output_type": "execute_result"
    }
   ],
   "source": [
    "ts_1dim(df_bike_hour.cnt, 0, 1000, 10, 'df_bike_hour')"
   ]
  },
  {
   "cell_type": "code",
   "execution_count": 72,
   "metadata": {},
   "outputs": [
    {
     "data": {
      "image/png": "[encoded data removed]",
      "text/plain": [
       "<Figure size 432x288 with 1 Axes>"
      ]
     },
     "execution_count": 72,
     "metadata": {},
     "output_type": "execute_result"
    }
   ],
   "source": [
    "ts_1dim(df_NSW2013.TOTALDEMAND, 0, 100, 5, 'NSW2013')"
   ]
  },
  {
   "cell_type": "code",
   "execution_count": 41,
   "metadata": {},
   "outputs": [
    {
     "data": {
      "image/png": "[encoded data removed]",
      "text/plain": [
       "<Figure size 432x288 with 1 Axes>"
      ]
     },
     "execution_count": 41,
     "metadata": {},
     "output_type": "execute_result"
    }
   ],
   "source": [
    "ts_1dim(df_solar_energy['Power(MW)'], 90, 200, 10, 'solar_energy')"
   ]
  },
  {
   "cell_type": "code",
   "execution_count": 172,
   "metadata": {},
   "outputs": [],
   "source": [
    "from datetime import datetime\n",
    "from statsmodels.tsa.seasonal import seasonal_decompose\n",
    "from statsmodels.tsa.seasonal import STL\n",
    "import statsmodels.api as sm"
   ]
  },
  {
   "cell_type": "code",
   "execution_count": 174,
   "metadata": {},
   "outputs": [],
   "source": [
    "sm.graphics.tsa.plot_acf?"
   ]
  },
  {
   "cell_type": "code",
   "execution_count": 159,
   "metadata": {},
   "outputs": [],
   "source": [
    "dateparse = lambda date: datetime.strptime(date, '%Y-%m')\n",
    "airpassenger_df = pd.read_csv('../examples/data/AirPassengers.csv', parse_dates=['Month'], index_col='Month', date_parser=dateparse)"
   ]
  },
  {
   "cell_type": "code",
   "execution_count": 160,
   "metadata": {},
   "outputs": [],
   "source": [
    "ts = airpassenger_df['#Passengers']"
   ]
  },
  {
   "cell_type": "code",
   "execution_count": 161,
   "metadata": {},
   "outputs": [],
   "source": [
    "# decomposition = seasonal_decompose(ts, model=\"additive\")\n",
    "decomposition = STL(ts).fit()\n",
    "# decomposition.plot()\n",
    "# plt.show()\n",
    "trend = decomposition.trend\n",
    "seasonal = decomposition.seasonal\n",
    "residual = decomposition.resid"
   ]
  },
  {
   "cell_type": "code",
   "execution_count": 181,
   "metadata": {},
   "outputs": [
    {
     "name": "stderr",
     "output_type": "stream",
     "text": [
      "/home/haohy/.local/lib/python3.6/site-packages/matplotlib/backends/backend_agg.py:238: RuntimeWarning: Glyph 8722 missing from current font.\n",
      "  font.set_text(s, 0.0, flags=flags)\n",
      "/home/haohy/.local/lib/python3.6/site-packages/matplotlib/backends/backend_agg.py:201: RuntimeWarning: Glyph 8722 missing from current font.\n",
      "  font.set_text(s, 0, flags=flags)\n"
     ]
    },
    {
     "data": {
      "image/png": "[encoded data removed]",
      "text/plain": [
       "<Figure size 720x576 with 2 Axes>"
      ]
     },
     "execution_count": 181,
     "metadata": {},
     "output_type": "execute_result"
    }
   ],
   "source": [
    "fig, axes = plt.subplots(2, 1, figsize=(10, 8))\n",
    "sm.graphics.tsa.plot_acf(ts.values, axes[0])\n",
    "sm.graphics.tsa.plot_pacf(ts.values, axes[1])\n",
    "plt.close()\n",
    "fig"
   ]
  },
  {
   "cell_type": "code",
   "execution_count": 180,
   "metadata": {},
   "outputs": [
    {
     "data": {
      "image/png": "[encoded data removed]",
      "text/plain": [
       "<Figure size 432x288 with 1 Axes>"
      ]
     },
     "execution_count": 180,
     "metadata": {},
     "output_type": "execute_result"
    }
   ],
   "source": [
    "ts_1dim(df_airpassengers['#Passengers'], 50, 100, 10, 'Passengers')"
   ]
  },
  {
   "cell_type": "code",
   "execution_count": null,
   "metadata": {},
   "outputs": [],
   "source": []
  },
  {
   "cell_type": "code",
   "execution_count": 223,
   "metadata": {},
   "outputs": [],
   "source": [
    "from sklearn.preprocessing import MinMaxScaler"
   ]
  },
  {
   "cell_type": "code",
   "execution_count": 243,
   "metadata": {},
   "outputs": [],
   "source": [
    "scaler = MinMaxScaler(feature_range=(0, 1))"
   ]
  },
  {
   "cell_type": "code",
   "execution_count": 338,
   "metadata": {},
   "outputs": [],
   "source": [
    "def load_predictions(filename):\n",
    "    with open(filename, 'rb') as f:\n",
    "        testset = pickle.load(f)\n",
    "    return testset\n",
    "\n",
    "def plot_predictions(filename, ts_index):\n",
    "#     logging = set_logging()\n",
    "    fig, axes= plt.subplots(len(ts_index), 1, figsize=(8, 2+2*len(ts_index)))\n",
    "    testset = load_predictions(filename)\n",
    "    n_back = len(testset['y_back'][0])\n",
    "    n_fore = len(testset['y_pred'][0])\n",
    "    x_back = list(range(n_back))\n",
    "    x_fore = list(range(n_back, n_back + n_fore))\n",
    "    for idx, ts_idx in enumerate(ts_index):\n",
    "        axes[idx].plot(x_back, testset['y_back'][ts_idx], label='back')\n",
    "        axes[idx].plot(x_fore, testset['y_pred'][ts_idx], label='pred')\n",
    "        axes[idx].plot(x_fore, testset['y_true'][ts_idx], label='true')\n",
    "        axes[idx].legend()\n",
    "        axes[idx].set_xticks(x_back + x_fore)\n",
    "#         axes[idx].set_ylim([min_val, max_val])\n",
    "#         axes[idx].set_yticks(np.arange(min_val, max_val, interval))\n",
    "    plt.savefig(filename+'.png', format='png')\n",
    "    plt.close()\n",
    "    return fig\n"
   ]
  },
  {
   "cell_type": "code",
   "execution_count": 339,
   "metadata": {},
   "outputs": [],
   "source": [
    "filename = \"../examples/results/2021_02_20_16_41_46.pkl\""
   ]
  },
  {
   "cell_type": "code",
   "execution_count": 340,
   "metadata": {},
   "outputs": [
    {
     "data": {
      "image/png": "[encoded data removed]",
      "text/plain": [
       "<Figure size 576x576 with 3 Axes>"
      ]
     },
     "execution_count": 340,
     "metadata": {},
     "output_type": "execute_result"
    }
   ],
   "source": [
    "plot_predictions(filename, [0, 10, -1])"
   ]
  },
  {
   "cell_type": "code",
   "execution_count": null,
   "metadata": {},
   "outputs": [],
   "source": []
  },
  {
   "cell_type": "code",
   "execution_count": null,
   "metadata": {},
   "outputs": [],
   "source": []
  },
  {
   "cell_type": "code",
   "execution_count": null,
   "metadata": {},
   "outputs": [],
   "source": []
  },
  {
   "cell_type": "code",
   "execution_count": 3,
   "metadata": {},
   "outputs": [],
   "source": [
    "data = pd.DataFrame()"
   ]
  },
  {
   "cell_type": "code",
   "execution_count": 80,
   "metadata": {},
   "outputs": [],
   "source": [
    "static = [0]*(168*10) + [1]*(168*10)"
   ]
  },
  {
   "cell_type": "code",
   "execution_count": 122,
   "metadata": {},
   "outputs": [],
   "source": [
    "year = np.concatenate([[2020] * (168*5) + [2021] * (168*5)]*2)"
   ]
  },
  {
   "cell_type": "code",
   "execution_count": 123,
   "metadata": {},
   "outputs": [],
   "source": [
    "month = [10]*9*24 + [11]*30*24 +[12]*31*24 + [10]*9*24 + [11]*30*24 +[12]*31*24"
   ]
  },
  {
   "cell_type": "code",
   "execution_count": 124,
   "metadata": {},
   "outputs": [],
   "source": [
    "day = np.concatenate([list(np.repeat(list(range(23, 32)), 24)) + list(np.repeat(list(range(1, 31)), 24)) + list(np.repeat(list(range(1, 32)), 24))]*2) "
   ]
  },
  {
   "cell_type": "code",
   "execution_count": 125,
   "metadata": {},
   "outputs": [],
   "source": [
    "target = np.sin(np.linspace(0, 7*20*np.pi, 168*20))"
   ]
  },
  {
   "cell_type": "code",
   "execution_count": 126,
   "metadata": {},
   "outputs": [],
   "source": [
    "dense = 3 * np.sin(np.linspace(0, 7*20*np.pi, 168*20))"
   ]
  },
  {
   "cell_type": "code",
   "execution_count": 127,
   "metadata": {},
   "outputs": [],
   "source": [
    "dense_2 = 2 * np.sin(np.linspace(0, 7*20*np.pi, 168*20))"
   ]
  },
  {
   "cell_type": "code",
   "execution_count": 128,
   "metadata": {},
   "outputs": [],
   "source": [
    "import holidays"
   ]
  },
  {
   "cell_type": "code",
   "execution_count": 129,
   "metadata": {},
   "outputs": [],
   "source": [
    "us_holiday = holidays.UnitedStates()"
   ]
  },
  {
   "cell_type": "code",
   "execution_count": 130,
   "metadata": {},
   "outputs": [
    {
     "data": {
      "text/plain": [
       "True"
      ]
     },
     "execution_count": 130,
     "metadata": {},
     "output_type": "execute_result"
    }
   ],
   "source": [
    "'2020-01-01' in us_holiday"
   ]
  },
  {
   "cell_type": "code",
   "execution_count": 131,
   "metadata": {},
   "outputs": [
    {
     "data": {
      "text/plain": [
       "[2, 1, 2]"
      ]
     },
     "execution_count": 131,
     "metadata": {},
     "output_type": "execute_result"
    }
   ],
   "source": [
    "[1  if i == 2 else 2 for i in [1,2,3]]"
   ]
  },
  {
   "cell_type": "code",
   "execution_count": 132,
   "metadata": {
    "scrolled": true
   },
   "outputs": [],
   "source": [
    "holiday = [1 if str(year)+'-'+str(month)+'-'+str(day) in us_holiday else 0 for year,month,day in zip(year, month, day)]"
   ]
  },
  {
   "cell_type": "code",
   "execution_count": 134,
   "metadata": {},
   "outputs": [
    {
     "data": {
      "text/plain": [
       "3360"
      ]
     },
     "execution_count": 134,
     "metadata": {},
     "output_type": "execute_result"
    }
   ],
   "source": [
    "len(holiday)"
   ]
  },
  {
   "cell_type": "code",
   "execution_count": 139,
   "metadata": {},
   "outputs": [],
   "source": [
    "data = pd.DataFrame({\n",
    "    'static': static,\n",
    "    'year': year,\n",
    "    'month': month,\n",
    "    'day': day,\n",
    "    'holiday': holiday,\n",
    "    'dense_1': dense,\n",
    "    'dense_2': dense_2,\n",
    "    'target': target\n",
    "})"
   ]
  },
  {
   "cell_type": "code",
   "execution_count": 140,
   "metadata": {},
   "outputs": [],
   "source": [
    "data.to_csv('demo.csv', index=False)"
   ]
  },
  {
   "cell_type": "code",
   "execution_count": null,
   "metadata": {},
   "outputs": [],
   "source": []
  },
  {
   "cell_type": "code",
   "execution_count": 158,
   "metadata": {},
   "outputs": [
    {
     "data": {
      "text/html": [
       "<div>\n",
       "<style scoped>\n",
       "    .dataframe tbody tr th:only-of-type {\n",
       "        vertical-align: middle;\n",
       "    }\n",
       "\n",
       "    .dataframe tbody tr th {\n",
       "        vertical-align: top;\n",
       "    }\n",
       "\n",
       "    .dataframe thead th {\n",
       "        text-align: right;\n",
       "    }\n",
       "</style>\n",
       "<table border=\"1\" class=\"dataframe\">\n",
       "  <thead>\n",
       "    <tr style=\"text-align: right;\">\n",
       "      <th></th>\n",
       "      <th>static</th>\n",
       "      <th>year</th>\n",
       "      <th>month</th>\n",
       "      <th>day</th>\n",
       "      <th>holiday</th>\n",
       "      <th>dense_1</th>\n",
       "      <th>dense_2</th>\n",
       "      <th>target</th>\n",
       "    </tr>\n",
       "  </thead>\n",
       "  <tbody>\n",
       "    <tr>\n",
       "      <th>0</th>\n",
       "      <td>0</td>\n",
       "      <td>2020</td>\n",
       "      <td>10</td>\n",
       "      <td>23</td>\n",
       "      <td>0</td>\n",
       "      <td>0.000000</td>\n",
       "      <td>0.000000</td>\n",
       "      <td>0.000000</td>\n",
       "    </tr>\n",
       "    <tr>\n",
       "      <th>1</th>\n",
       "      <td>0</td>\n",
       "      <td>2020</td>\n",
       "      <td>10</td>\n",
       "      <td>23</td>\n",
       "      <td>0</td>\n",
       "      <td>0.391694</td>\n",
       "      <td>0.261130</td>\n",
       "      <td>0.130565</td>\n",
       "    </tr>\n",
       "    <tr>\n",
       "      <th>2</th>\n",
       "      <td>0</td>\n",
       "      <td>2020</td>\n",
       "      <td>10</td>\n",
       "      <td>23</td>\n",
       "      <td>0</td>\n",
       "      <td>0.776683</td>\n",
       "      <td>0.517789</td>\n",
       "      <td>0.258894</td>\n",
       "    </tr>\n",
       "    <tr>\n",
       "      <th>3</th>\n",
       "      <td>0</td>\n",
       "      <td>2020</td>\n",
       "      <td>10</td>\n",
       "      <td>23</td>\n",
       "      <td>0</td>\n",
       "      <td>1.148374</td>\n",
       "      <td>0.765583</td>\n",
       "      <td>0.382791</td>\n",
       "    </tr>\n",
       "    <tr>\n",
       "      <th>4</th>\n",
       "      <td>0</td>\n",
       "      <td>2020</td>\n",
       "      <td>10</td>\n",
       "      <td>23</td>\n",
       "      <td>0</td>\n",
       "      <td>1.500405</td>\n",
       "      <td>1.000270</td>\n",
       "      <td>0.500135</td>\n",
       "    </tr>\n",
       "    <tr>\n",
       "      <th>5</th>\n",
       "      <td>0</td>\n",
       "      <td>2020</td>\n",
       "      <td>10</td>\n",
       "      <td>23</td>\n",
       "      <td>0</td>\n",
       "      <td>1.826748</td>\n",
       "      <td>1.217832</td>\n",
       "      <td>0.608916</td>\n",
       "    </tr>\n",
       "    <tr>\n",
       "      <th>6</th>\n",
       "      <td>0</td>\n",
       "      <td>2020</td>\n",
       "      <td>10</td>\n",
       "      <td>23</td>\n",
       "      <td>0</td>\n",
       "      <td>2.121816</td>\n",
       "      <td>1.414544</td>\n",
       "      <td>0.707272</td>\n",
       "    </tr>\n",
       "    <tr>\n",
       "      <th>7</th>\n",
       "      <td>0</td>\n",
       "      <td>2020</td>\n",
       "      <td>10</td>\n",
       "      <td>23</td>\n",
       "      <td>0</td>\n",
       "      <td>2.380558</td>\n",
       "      <td>1.587039</td>\n",
       "      <td>0.793519</td>\n",
       "    </tr>\n",
       "    <tr>\n",
       "      <th>8</th>\n",
       "      <td>0</td>\n",
       "      <td>2020</td>\n",
       "      <td>10</td>\n",
       "      <td>23</td>\n",
       "      <td>0</td>\n",
       "      <td>2.598544</td>\n",
       "      <td>1.732362</td>\n",
       "      <td>0.866181</td>\n",
       "    </tr>\n",
       "    <tr>\n",
       "      <th>9</th>\n",
       "      <td>0</td>\n",
       "      <td>2020</td>\n",
       "      <td>10</td>\n",
       "      <td>23</td>\n",
       "      <td>0</td>\n",
       "      <td>2.772041</td>\n",
       "      <td>1.848027</td>\n",
       "      <td>0.924014</td>\n",
       "    </tr>\n",
       "    <tr>\n",
       "      <th>1680</th>\n",
       "      <td>1</td>\n",
       "      <td>2020</td>\n",
       "      <td>10</td>\n",
       "      <td>23</td>\n",
       "      <td>0</td>\n",
       "      <td>0.196268</td>\n",
       "      <td>0.130845</td>\n",
       "      <td>0.065423</td>\n",
       "    </tr>\n",
       "    <tr>\n",
       "      <th>1681</th>\n",
       "      <td>1</td>\n",
       "      <td>2020</td>\n",
       "      <td>10</td>\n",
       "      <td>23</td>\n",
       "      <td>0</td>\n",
       "      <td>0.585443</td>\n",
       "      <td>0.390295</td>\n",
       "      <td>0.195148</td>\n",
       "    </tr>\n",
       "    <tr>\n",
       "      <th>1682</th>\n",
       "      <td>1</td>\n",
       "      <td>2020</td>\n",
       "      <td>10</td>\n",
       "      <td>23</td>\n",
       "      <td>0</td>\n",
       "      <td>0.964595</td>\n",
       "      <td>0.643063</td>\n",
       "      <td>0.321532</td>\n",
       "    </tr>\n",
       "    <tr>\n",
       "      <th>1683</th>\n",
       "      <td>1</td>\n",
       "      <td>2020</td>\n",
       "      <td>10</td>\n",
       "      <td>23</td>\n",
       "      <td>0</td>\n",
       "      <td>1.327233</td>\n",
       "      <td>0.884822</td>\n",
       "      <td>0.442411</td>\n",
       "    </tr>\n",
       "    <tr>\n",
       "      <th>1684</th>\n",
       "      <td>1</td>\n",
       "      <td>2020</td>\n",
       "      <td>10</td>\n",
       "      <td>23</td>\n",
       "      <td>0</td>\n",
       "      <td>1.667148</td>\n",
       "      <td>1.111432</td>\n",
       "      <td>0.555716</td>\n",
       "    </tr>\n",
       "    <tr>\n",
       "      <th>1685</th>\n",
       "      <td>1</td>\n",
       "      <td>2020</td>\n",
       "      <td>10</td>\n",
       "      <td>23</td>\n",
       "      <td>0</td>\n",
       "      <td>1.978521</td>\n",
       "      <td>1.319014</td>\n",
       "      <td>0.659507</td>\n",
       "    </tr>\n",
       "    <tr>\n",
       "      <th>1686</th>\n",
       "      <td>1</td>\n",
       "      <td>2020</td>\n",
       "      <td>10</td>\n",
       "      <td>23</td>\n",
       "      <td>0</td>\n",
       "      <td>2.256020</td>\n",
       "      <td>1.504014</td>\n",
       "      <td>0.752007</td>\n",
       "    </tr>\n",
       "    <tr>\n",
       "      <th>1687</th>\n",
       "      <td>1</td>\n",
       "      <td>2020</td>\n",
       "      <td>10</td>\n",
       "      <td>23</td>\n",
       "      <td>0</td>\n",
       "      <td>2.494896</td>\n",
       "      <td>1.663264</td>\n",
       "      <td>0.831632</td>\n",
       "    </tr>\n",
       "    <tr>\n",
       "      <th>1688</th>\n",
       "      <td>1</td>\n",
       "      <td>2020</td>\n",
       "      <td>10</td>\n",
       "      <td>23</td>\n",
       "      <td>0</td>\n",
       "      <td>2.691058</td>\n",
       "      <td>1.794038</td>\n",
       "      <td>0.897019</td>\n",
       "    </tr>\n",
       "    <tr>\n",
       "      <th>1689</th>\n",
       "      <td>1</td>\n",
       "      <td>2020</td>\n",
       "      <td>10</td>\n",
       "      <td>23</td>\n",
       "      <td>0</td>\n",
       "      <td>2.841147</td>\n",
       "      <td>1.894098</td>\n",
       "      <td>0.947049</td>\n",
       "    </tr>\n",
       "  </tbody>\n",
       "</table>\n",
       "</div>"
      ],
      "text/plain": [
       "      static  year  month  day  holiday   dense_1   dense_2    target\n",
       "0          0  2020     10   23        0  0.000000  0.000000  0.000000\n",
       "1          0  2020     10   23        0  0.391694  0.261130  0.130565\n",
       "2          0  2020     10   23        0  0.776683  0.517789  0.258894\n",
       "3          0  2020     10   23        0  1.148374  0.765583  0.382791\n",
       "4          0  2020     10   23        0  1.500405  1.000270  0.500135\n",
       "5          0  2020     10   23        0  1.826748  1.217832  0.608916\n",
       "6          0  2020     10   23        0  2.121816  1.414544  0.707272\n",
       "7          0  2020     10   23        0  2.380558  1.587039  0.793519\n",
       "8          0  2020     10   23        0  2.598544  1.732362  0.866181\n",
       "9          0  2020     10   23        0  2.772041  1.848027  0.924014\n",
       "1680       1  2020     10   23        0  0.196268  0.130845  0.065423\n",
       "1681       1  2020     10   23        0  0.585443  0.390295  0.195148\n",
       "1682       1  2020     10   23        0  0.964595  0.643063  0.321532\n",
       "1683       1  2020     10   23        0  1.327233  0.884822  0.442411\n",
       "1684       1  2020     10   23        0  1.667148  1.111432  0.555716\n",
       "1685       1  2020     10   23        0  1.978521  1.319014  0.659507\n",
       "1686       1  2020     10   23        0  2.256020  1.504014  0.752007\n",
       "1687       1  2020     10   23        0  2.494896  1.663264  0.831632\n",
       "1688       1  2020     10   23        0  2.691058  1.794038  0.897019\n",
       "1689       1  2020     10   23        0  2.841147  1.894098  0.947049"
      ]
     },
     "execution_count": 158,
     "metadata": {},
     "output_type": "execute_result"
    }
   ],
   "source": [
    "data.groupby('static').head(10)"
   ]
  },
  {
   "cell_type": "code",
   "execution_count": 160,
   "metadata": {},
   "outputs": [
    {
     "data": {
      "text/html": [
       "<div>\n",
       "<style scoped>\n",
       "    .dataframe tbody tr th:only-of-type {\n",
       "        vertical-align: middle;\n",
       "    }\n",
       "\n",
       "    .dataframe tbody tr th {\n",
       "        vertical-align: top;\n",
       "    }\n",
       "\n",
       "    .dataframe thead th {\n",
       "        text-align: right;\n",
       "    }\n",
       "</style>\n",
       "<table border=\"1\" class=\"dataframe\">\n",
       "  <thead>\n",
       "    <tr style=\"text-align: right;\">\n",
       "      <th></th>\n",
       "      <th>static</th>\n",
       "      <th>year</th>\n",
       "      <th>month</th>\n",
       "      <th>day</th>\n",
       "      <th>holiday</th>\n",
       "      <th>dense_1</th>\n",
       "      <th>dense_2</th>\n",
       "      <th>target</th>\n",
       "    </tr>\n",
       "  </thead>\n",
       "  <tbody>\n",
       "    <tr>\n",
       "      <th>0</th>\n",
       "      <td>0</td>\n",
       "      <td>2020</td>\n",
       "      <td>10</td>\n",
       "      <td>23</td>\n",
       "      <td>0</td>\n",
       "      <td>0.000000</td>\n",
       "      <td>0.000000</td>\n",
       "      <td>0.000000</td>\n",
       "    </tr>\n",
       "    <tr>\n",
       "      <th>1</th>\n",
       "      <td>0</td>\n",
       "      <td>2020</td>\n",
       "      <td>10</td>\n",
       "      <td>23</td>\n",
       "      <td>0</td>\n",
       "      <td>0.391694</td>\n",
       "      <td>0.261130</td>\n",
       "      <td>0.130565</td>\n",
       "    </tr>\n",
       "    <tr>\n",
       "      <th>2</th>\n",
       "      <td>0</td>\n",
       "      <td>2020</td>\n",
       "      <td>10</td>\n",
       "      <td>23</td>\n",
       "      <td>0</td>\n",
       "      <td>0.776683</td>\n",
       "      <td>0.517789</td>\n",
       "      <td>0.258894</td>\n",
       "    </tr>\n",
       "    <tr>\n",
       "      <th>3</th>\n",
       "      <td>0</td>\n",
       "      <td>2020</td>\n",
       "      <td>10</td>\n",
       "      <td>23</td>\n",
       "      <td>0</td>\n",
       "      <td>1.148374</td>\n",
       "      <td>0.765583</td>\n",
       "      <td>0.382791</td>\n",
       "    </tr>\n",
       "    <tr>\n",
       "      <th>4</th>\n",
       "      <td>0</td>\n",
       "      <td>2020</td>\n",
       "      <td>10</td>\n",
       "      <td>23</td>\n",
       "      <td>0</td>\n",
       "      <td>1.500405</td>\n",
       "      <td>1.000270</td>\n",
       "      <td>0.500135</td>\n",
       "    </tr>\n",
       "    <tr>\n",
       "      <th>...</th>\n",
       "      <td>...</td>\n",
       "      <td>...</td>\n",
       "      <td>...</td>\n",
       "      <td>...</td>\n",
       "      <td>...</td>\n",
       "      <td>...</td>\n",
       "      <td>...</td>\n",
       "      <td>...</td>\n",
       "    </tr>\n",
       "    <tr>\n",
       "      <th>1675</th>\n",
       "      <td>0</td>\n",
       "      <td>2021</td>\n",
       "      <td>12</td>\n",
       "      <td>31</td>\n",
       "      <td>1</td>\n",
       "      <td>-1.667148</td>\n",
       "      <td>-1.111432</td>\n",
       "      <td>-0.555716</td>\n",
       "    </tr>\n",
       "    <tr>\n",
       "      <th>1676</th>\n",
       "      <td>0</td>\n",
       "      <td>2021</td>\n",
       "      <td>12</td>\n",
       "      <td>31</td>\n",
       "      <td>1</td>\n",
       "      <td>-1.327233</td>\n",
       "      <td>-0.884822</td>\n",
       "      <td>-0.442411</td>\n",
       "    </tr>\n",
       "    <tr>\n",
       "      <th>1677</th>\n",
       "      <td>0</td>\n",
       "      <td>2021</td>\n",
       "      <td>12</td>\n",
       "      <td>31</td>\n",
       "      <td>1</td>\n",
       "      <td>-0.964595</td>\n",
       "      <td>-0.643063</td>\n",
       "      <td>-0.321532</td>\n",
       "    </tr>\n",
       "    <tr>\n",
       "      <th>1678</th>\n",
       "      <td>0</td>\n",
       "      <td>2021</td>\n",
       "      <td>12</td>\n",
       "      <td>31</td>\n",
       "      <td>1</td>\n",
       "      <td>-0.585443</td>\n",
       "      <td>-0.390295</td>\n",
       "      <td>-0.195148</td>\n",
       "    </tr>\n",
       "    <tr>\n",
       "      <th>1679</th>\n",
       "      <td>0</td>\n",
       "      <td>2021</td>\n",
       "      <td>12</td>\n",
       "      <td>31</td>\n",
       "      <td>1</td>\n",
       "      <td>-0.196268</td>\n",
       "      <td>-0.130845</td>\n",
       "      <td>-0.065423</td>\n",
       "    </tr>\n",
       "  </tbody>\n",
       "</table>\n",
       "<p>1680 rows × 8 columns</p>\n",
       "</div>"
      ],
      "text/plain": [
       "      static  year  month  day  holiday   dense_1   dense_2    target\n",
       "0          0  2020     10   23        0  0.000000  0.000000  0.000000\n",
       "1          0  2020     10   23        0  0.391694  0.261130  0.130565\n",
       "2          0  2020     10   23        0  0.776683  0.517789  0.258894\n",
       "3          0  2020     10   23        0  1.148374  0.765583  0.382791\n",
       "4          0  2020     10   23        0  1.500405  1.000270  0.500135\n",
       "...      ...   ...    ...  ...      ...       ...       ...       ...\n",
       "1675       0  2021     12   31        1 -1.667148 -1.111432 -0.555716\n",
       "1676       0  2021     12   31        1 -1.327233 -0.884822 -0.442411\n",
       "1677       0  2021     12   31        1 -0.964595 -0.643063 -0.321532\n",
       "1678       0  2021     12   31        1 -0.585443 -0.390295 -0.195148\n",
       "1679       0  2021     12   31        1 -0.196268 -0.130845 -0.065423\n",
       "\n",
       "[1680 rows x 8 columns]"
      ]
     },
     "execution_count": 160,
     "metadata": {},
     "output_type": "execute_result"
    }
   ],
   "source": [
    "data[data['static'] == 0]"
   ]
  },
  {
   "cell_type": "code",
   "execution_count": 179,
   "metadata": {},
   "outputs": [],
   "source": [
    "df = data"
   ]
  },
  {
   "cell_type": "code",
   "execution_count": 180,
   "metadata": {},
   "outputs": [
    {
     "data": {
      "text/plain": [
       "array([0, 1])"
      ]
     },
     "execution_count": 180,
     "metadata": {},
     "output_type": "execute_result"
    }
   ],
   "source": [
    "df['static'].unique()"
   ]
  },
  {
   "cell_type": "code",
   "execution_count": 190,
   "metadata": {},
   "outputs": [],
   "source": [
    "window_size = 144 + 24\n",
    "sliding_window_dis = 24"
   ]
  },
  {
   "cell_type": "code",
   "execution_count": 191,
   "metadata": {},
   "outputs": [
    {
     "data": {
      "text/plain": [
       "64"
      ]
     },
     "execution_count": 191,
     "metadata": {},
     "output_type": "execute_result"
    }
   ],
   "source": [
    "(df[df['static'] == 0].shape[0] - (window_size-sliding_window_dis)) // sliding_window_dis"
   ]
  },
  {
   "cell_type": "code",
   "execution_count": 196,
   "metadata": {},
   "outputs": [],
   "source": [
    "dynamic_feature = np.array([], dtype=np.float)"
   ]
  },
  {
   "cell_type": "code",
   "execution_count": 197,
   "metadata": {},
   "outputs": [
    {
     "data": {
      "text/plain": [
       "array([], dtype=float64)"
      ]
     },
     "execution_count": 197,
     "metadata": {},
     "output_type": "execute_result"
    }
   ],
   "source": [
    "dynamic_feature"
   ]
  },
  {
   "cell_type": "code",
   "execution_count": 202,
   "metadata": {},
   "outputs": [
    {
     "data": {
      "text/plain": [
       "(10, 8)"
      ]
     },
     "execution_count": 202,
     "metadata": {},
     "output_type": "execute_result"
    }
   ],
   "source": [
    "df.values[-10:, :].shape"
   ]
  },
  {
   "cell_type": "code",
   "execution_count": 203,
   "metadata": {},
   "outputs": [],
   "source": [
    "l = []\n",
    "for i in range(3):\n",
    "    l.append(np.random.rand(2, 3))"
   ]
  },
  {
   "cell_type": "code",
   "execution_count": 207,
   "metadata": {},
   "outputs": [
    {
     "data": {
      "text/plain": [
       "(3, 2, 3)"
      ]
     },
     "execution_count": 207,
     "metadata": {},
     "output_type": "execute_result"
    }
   ],
   "source": [
    "np.stack(l, axis=0).shape"
   ]
  },
  {
   "cell_type": "code",
   "execution_count": null,
   "metadata": {},
   "outputs": [],
   "source": []
  },
  {
   "cell_type": "code",
   "execution_count": 292,
   "metadata": {},
   "outputs": [],
   "source": [
    "class TSDataset:\n",
    "    def __init__(self, df, target, static_feat_col=None, dynamic_feat_cat_dict=None, \n",
    "                dynamic_feat_real_col=None, n_back=1, n_fore=1, lag=0, sliding_window_dis=1, \n",
    "                pkl_path=None):\n",
    "        self.df = df\n",
    "        self.target = target\n",
    "        self.static_feat_col = static_feat_col\n",
    "        self.dynamic_feat_cat_dict = dynamic_feat_cat_dict\n",
    "        self.dynamic_feat_real_col = dynamic_feat_real_col\n",
    "        self.n_back = n_back\n",
    "        self.n_fore = n_fore\n",
    "        self.lag = lag\n",
    "        self.sliding_window_dis = sliding_window_dis\n",
    "        self.pkl_path = pkl_path\n",
    "        self.check()\n",
    "\n",
    "        self.dynamic_feature_future = None\n",
    "        self.dynamic_feature_backward = None\n",
    "        self.static_feature = None\n",
    "        self.time_series = None\n",
    "\n",
    "    def check(self):\n",
    "        all_columns = [self.target] + [self.static_feat_col] \\\n",
    "            + list(self.dynamic_feat_cat_dict.keys())\\\n",
    "            + self.dynamic_feat_real_col\n",
    "        assert sum(self.df.columns.isin(all_columns)) == len(all_columns),\\\n",
    "            \"df.columns: {}, but input columns {}\".format(self.df.columns, all_columns)\n",
    "\n",
    "    def get_static_feat_num_dict(self):\n",
    "        self.static_feat_ori = self.df[self.static_feat_col]\n",
    "        window_size = self.n_back + self.n_fore\n",
    "        static_feat_num_dict = {}\n",
    "        for static_feat in self.static_feat_ori:\n",
    "            static_feat_num_dict[static_feat] = \\\n",
    "                [(self.df[self.df['static'] == static_feat].shape[0] \\\n",
    "                    - (window_size-self.sliding_window_dis)) // self.sliding_window_dis,\\\n",
    "                        self.df[self.df['static'] == static_feat].shape[0]]\n",
    "        return static_feat_num_dict\n",
    "\n",
    "    def get_dynamic_feature_cat(self, period='future'):\n",
    "        dynamic_feature_cat = []\n",
    "        static_feat_num_dict = self.get_static_feat_num_dict()\n",
    "        for static_feat, [num, tail_idx] in static_feat_num_dict.items():\n",
    "            static_feat_i = self.df[self.df[self.static_feat_col] == static_feat]\\\n",
    "                [list(self.dynamic_feat_cat_dict.keys())].values\n",
    "            for i in range(num):\n",
    "                if period == 'future':\n",
    "                    dynamic_feature_cat.append(\n",
    "                        static_feat_i[tail_idx-(i+1)*self.n_fore: tail_idx-i*self.n_fore, :]\n",
    "                    )\n",
    "                elif period == 'backward':\n",
    "                    dynamic_feature_cat.append(\n",
    "                        static_feat_i[tail_idx-self.n_back-(i+1)*self.n_fore: tail_idx-(i+1)*self.n_fore, :]\n",
    "                    )\n",
    "                elif period == 'all':\n",
    "                    dynamic_feature_cat.append(\n",
    "                        static_feat_i[tail_idx-self.n_back-self.n_fore-i*self.n_fore: tail_idx-i*self.n_fore, :]\n",
    "                    )\n",
    "        return np.stack(dynamic_feature_cat, axis=0)\n",
    "    \n",
    "    def get_time_series(self, period='future'):\n",
    "        time_series = []\n",
    "        static_feat_num_dict = self.get_static_feat_num_dict()\n",
    "        for static_feat, [num, tail_idx] in static_feat_num_dict.items():\n",
    "            static_feat_i = self.df[self.df[self.static_feat_col] == static_feat] \\\n",
    "                [self.target].values\n",
    "            for i in range(num):\n",
    "                if period == 'future':\n",
    "                    time_series.append(\n",
    "                        static_feat_i[tail_idx-(i+1)*self.n_fore: tail_idx-i*self.n_fore]\n",
    "                    )\n",
    "                elif period == 'backward':\n",
    "                    time_series.append(\n",
    "                        static_feat_i[tail_idx-self.n_back-(i+1)*self.n_fore: tail_idx-(i+1)*self.n_fore]\n",
    "                    )\n",
    "                elif period == 'all':\n",
    "                    time_series.append(\n",
    "                        static_feat_i[tail_idx-self.n_back-self.n_fore-i*self.n_fore: tail_idx-i*self.n_fore]\n",
    "                    )\n",
    "        return np.stack(time_series, axis=0)\n",
    "    \n",
    "    def get_dynamic_feature_real(self, period='future'):\n",
    "        dynamic_feature_real = []\n",
    "        static_feat_num_dict = self.get_static_feat_num_dict()\n",
    "        for static_feat, [num, tail_idx] in static_feat_num_dict.items():\n",
    "            static_feat_i_df = self.df[self.df[self.static_feat_col] == static_feat] \\\n",
    "                [self.dynamic_feat_real_col]\n",
    "            static_feat_i = pd.concat(\n",
    "                [static_feat_i_df, self.get_lag_features(self.df[self.target], self.lag)], axis=1).values\n",
    "            for i in range(num):\n",
    "                if period == 'future':\n",
    "                    dynamic_feature_real.append(\n",
    "                        static_feat_i[tail_idx-(i+1)*self.n_fore: tail_idx-i*self.n_fore, :]\n",
    "                    )\n",
    "                elif period == 'backward':\n",
    "                    dynamic_feature_real.append(\n",
    "                        static_feat_i[tail_idx-self.n_back-(i+1)*self.n_fore: tail_idx-(i+1)*self.n_fore, :]\n",
    "                    )\n",
    "                elif period == 'all':\n",
    "                    dynamic_feature_real.append(\n",
    "                        static_feat_i[tail_idx-self.n_back-self.n_fore-i*self.n_fore: tail_idx-i*self.n_fore, :]\n",
    "                    )\n",
    "        return np.stack(dynamic_feature_real, axis=0)\n",
    "    \n",
    "    def get_lag_features(self, ts, lag):\n",
    "        columns=['lag_'+str(i) for i in range(lag)]\n",
    "        sequence_feature = pd.DataFrame(columns=columns)\n",
    "        for i in range(lag):\n",
    "            sequence_feature['lag_'+str(i)] = ts.shift(i, fill_value=0.0)\n",
    "        sequence_feature.shift(1, fill_value=0.0)\n",
    "        return sequence_feature"
   ]
  },
  {
   "cell_type": "code",
   "execution_count": 418,
   "metadata": {},
   "outputs": [],
   "source": [
    "slice?"
   ]
  },
  {
   "cell_type": "code",
   "execution_count": 417,
   "metadata": {},
   "outputs": [],
   "source": [
    "sli_list = []"
   ]
  },
  {
   "cell_type": "code",
   "execution_count": null,
   "metadata": {},
   "outputs": [],
   "source": []
  },
  {
   "cell_type": "code",
   "execution_count": null,
   "metadata": {},
   "outputs": [],
   "source": []
  },
  {
   "cell_type": "code",
   "execution_count": 293,
   "metadata": {},
   "outputs": [],
   "source": [
    "tsdataset = TSDataset(data, \n",
    "                    target='target',\n",
    "                    static_feat_col='static',\n",
    "                    dynamic_feat_cat_dict={\n",
    "                        \"year\": [1, 1, 2],\n",
    "                        \"month\": [1, 1, 2],\n",
    "                        \"day\": [1, 1, 5],\n",
    "                        \"holiday\": [1, 0, 2]},\n",
    "                    dynamic_feat_real_col=['dense_1', 'dense_2'],\n",
    "                    n_back=72,\n",
    "                    n_fore=24,\n",
    "                    lag=2,\n",
    "                    sliding_window_dis=24\n",
    "                     )"
   ]
  },
  {
   "cell_type": "code",
   "execution_count": 372,
   "metadata": {},
   "outputs": [],
   "source": [
    "def dynamic_feature_cat_embedding(dynamic_feature_cat, dynamic_feat_cat_dict):\n",
    "    emb_layer_list = []\n",
    "    embedding_dim_all = sum([v[2] for k,v in dynamic_feat_cat_dict.items()])\n",
    "    feat_embedding = np.zeros([*dynamic_feature_cat.shape[:2], embedding_dim_all])\n",
    "    emb_dim_idx = 0\n",
    "    for i, (k, v) in enumerate(dynamic_feat_cat_dict.items()):\n",
    "        input_dim = len(np.unique(dynamic_feature_cat[:, :, i]))\n",
    "        emb_layer = layers.Embedding(input_dim, v[-1])\n",
    "        feat_cat = dynamic_feature_cat[:, :, i] - dynamic_feature_cat[:, :, i].min()\n",
    "        feat_embedding[:, :, emb_dim_idx:emb_dim_idx+v[-1]] = emb_layer(feat_cat)\n",
    "        emb_dim_idx += v[-1]\n",
    "        emb_layer_list.append(emb_layer)\n",
    "    return feat_embedding"
   ]
  },
  {
   "cell_type": "code",
   "execution_count": 373,
   "metadata": {},
   "outputs": [
    {
     "data": {
      "text/plain": [
       "2020"
      ]
     },
     "execution_count": 373,
     "metadata": {},
     "output_type": "execute_result"
    }
   ],
   "source": [
    "dynamic_feature_cat[:, :, 0].min()"
   ]
  },
  {
   "cell_type": "code",
   "execution_count": 404,
   "metadata": {},
   "outputs": [],
   "source": [
    "l = 168\n",
    "k = 2\n",
    "d = [1,2,4,8,16,20,32]"
   ]
  },
  {
   "cell_type": "code",
   "execution_count": 405,
   "metadata": {},
   "outputs": [],
   "source": [
    "\n",
    "for di in d:\n",
    "    l -= 2*(k-1)*di\n"
   ]
  },
  {
   "cell_type": "code",
   "execution_count": 410,
   "metadata": {},
   "outputs": [],
   "source": [
    "data['static'] = data['static'].values"
   ]
  },
  {
   "cell_type": "code",
   "execution_count": 414,
   "metadata": {},
   "outputs": [
    {
     "data": {
      "text/plain": [
       "<tf.Tensor: shape=(3360,), dtype=float64, numpy=\n",
       "array([ 0.00000000e+00,  1.30564829e-01,  2.58894328e-01, ...,\n",
       "       -2.58894328e-01, -1.30564829e-01, -3.13559099e-14])>"
      ]
     },
     "execution_count": 414,
     "metadata": {},
     "output_type": "execute_result"
    }
   ],
   "source": [
    "tf.convert_to_tensor(np.array(data['target']))"
   ]
  },
  {
   "cell_type": "code",
   "execution_count": 407,
   "metadata": {},
   "outputs": [],
   "source": [
    "layers.Conv1D?"
   ]
  },
  {
   "cell_type": "code",
   "execution_count": 396,
   "metadata": {},
   "outputs": [],
   "source": [
    "conv_list = []\n",
    "for di in d:\n",
    "    conv_list.append(layers.Conv1D(11, kernel_size=k, dilation_rate=di))\n",
    "    conv_list.append(layers.Conv1D(11, kernel_size=k, dilation_rate=di))"
   ]
  },
  {
   "cell_type": "code",
   "execution_count": 419,
   "metadata": {},
   "outputs": [],
   "source": [
    "bike_hour = pd.read_csv('../examples/data/bike_hour.csv')"
   ]
  },
  {
   "cell_type": "code",
   "execution_count": 421,
   "metadata": {},
   "outputs": [],
   "source": [
    "bike_hour['static'] = 0"
   ]
  },
  {
   "cell_type": "code",
   "execution_count": 425,
   "metadata": {},
   "outputs": [
    {
     "data": {
      "text/html": [
       "<div>\n",
       "<style scoped>\n",
       "    .dataframe tbody tr th:only-of-type {\n",
       "        vertical-align: middle;\n",
       "    }\n",
       "\n",
       "    .dataframe tbody tr th {\n",
       "        vertical-align: top;\n",
       "    }\n",
       "\n",
       "    .dataframe thead th {\n",
       "        text-align: right;\n",
       "    }\n",
       "</style>\n",
       "<table border=\"1\" class=\"dataframe\">\n",
       "  <thead>\n",
       "    <tr style=\"text-align: right;\">\n",
       "      <th></th>\n",
       "      <th>instant</th>\n",
       "      <th>dteday</th>\n",
       "      <th>season</th>\n",
       "      <th>yr</th>\n",
       "      <th>mnth</th>\n",
       "      <th>hr</th>\n",
       "      <th>holiday</th>\n",
       "      <th>weekday</th>\n",
       "      <th>workingday</th>\n",
       "      <th>weathersit</th>\n",
       "      <th>temp</th>\n",
       "      <th>atemp</th>\n",
       "      <th>hum</th>\n",
       "      <th>windspeed</th>\n",
       "      <th>casual</th>\n",
       "      <th>registered</th>\n",
       "      <th>cnt</th>\n",
       "      <th>static</th>\n",
       "    </tr>\n",
       "  </thead>\n",
       "  <tbody>\n",
       "    <tr>\n",
       "      <th>0</th>\n",
       "      <td>1</td>\n",
       "      <td>2011-01-01</td>\n",
       "      <td>1</td>\n",
       "      <td>0</td>\n",
       "      <td>1</td>\n",
       "      <td>0</td>\n",
       "      <td>0</td>\n",
       "      <td>6</td>\n",
       "      <td>0</td>\n",
       "      <td>1</td>\n",
       "      <td>0.24</td>\n",
       "      <td>0.2879</td>\n",
       "      <td>0.81</td>\n",
       "      <td>0.0</td>\n",
       "      <td>3</td>\n",
       "      <td>13</td>\n",
       "      <td>16</td>\n",
       "      <td>0</td>\n",
       "    </tr>\n",
       "    <tr>\n",
       "      <th>1</th>\n",
       "      <td>2</td>\n",
       "      <td>2011-01-01</td>\n",
       "      <td>1</td>\n",
       "      <td>0</td>\n",
       "      <td>1</td>\n",
       "      <td>1</td>\n",
       "      <td>0</td>\n",
       "      <td>6</td>\n",
       "      <td>0</td>\n",
       "      <td>1</td>\n",
       "      <td>0.22</td>\n",
       "      <td>0.2727</td>\n",
       "      <td>0.80</td>\n",
       "      <td>0.0</td>\n",
       "      <td>8</td>\n",
       "      <td>32</td>\n",
       "      <td>40</td>\n",
       "      <td>0</td>\n",
       "    </tr>\n",
       "    <tr>\n",
       "      <th>2</th>\n",
       "      <td>3</td>\n",
       "      <td>2011-01-01</td>\n",
       "      <td>1</td>\n",
       "      <td>0</td>\n",
       "      <td>1</td>\n",
       "      <td>2</td>\n",
       "      <td>0</td>\n",
       "      <td>6</td>\n",
       "      <td>0</td>\n",
       "      <td>1</td>\n",
       "      <td>0.22</td>\n",
       "      <td>0.2727</td>\n",
       "      <td>0.80</td>\n",
       "      <td>0.0</td>\n",
       "      <td>5</td>\n",
       "      <td>27</td>\n",
       "      <td>32</td>\n",
       "      <td>0</td>\n",
       "    </tr>\n",
       "    <tr>\n",
       "      <th>3</th>\n",
       "      <td>4</td>\n",
       "      <td>2011-01-01</td>\n",
       "      <td>1</td>\n",
       "      <td>0</td>\n",
       "      <td>1</td>\n",
       "      <td>3</td>\n",
       "      <td>0</td>\n",
       "      <td>6</td>\n",
       "      <td>0</td>\n",
       "      <td>1</td>\n",
       "      <td>0.24</td>\n",
       "      <td>0.2879</td>\n",
       "      <td>0.75</td>\n",
       "      <td>0.0</td>\n",
       "      <td>3</td>\n",
       "      <td>10</td>\n",
       "      <td>13</td>\n",
       "      <td>0</td>\n",
       "    </tr>\n",
       "    <tr>\n",
       "      <th>4</th>\n",
       "      <td>5</td>\n",
       "      <td>2011-01-01</td>\n",
       "      <td>1</td>\n",
       "      <td>0</td>\n",
       "      <td>1</td>\n",
       "      <td>4</td>\n",
       "      <td>0</td>\n",
       "      <td>6</td>\n",
       "      <td>0</td>\n",
       "      <td>1</td>\n",
       "      <td>0.24</td>\n",
       "      <td>0.2879</td>\n",
       "      <td>0.75</td>\n",
       "      <td>0.0</td>\n",
       "      <td>0</td>\n",
       "      <td>1</td>\n",
       "      <td>1</td>\n",
       "      <td>0</td>\n",
       "    </tr>\n",
       "  </tbody>\n",
       "</table>\n",
       "</div>"
      ],
      "text/plain": [
       "   instant      dteday  season  yr  mnth  hr  holiday  weekday  workingday  \\\n",
       "0        1  2011-01-01       1   0     1   0        0        6           0   \n",
       "1        2  2011-01-01       1   0     1   1        0        6           0   \n",
       "2        3  2011-01-01       1   0     1   2        0        6           0   \n",
       "3        4  2011-01-01       1   0     1   3        0        6           0   \n",
       "4        5  2011-01-01       1   0     1   4        0        6           0   \n",
       "\n",
       "   weathersit  temp   atemp   hum  windspeed  casual  registered  cnt  static  \n",
       "0           1  0.24  0.2879  0.81        0.0       3          13   16       0  \n",
       "1           1  0.22  0.2727  0.80        0.0       8          32   40       0  \n",
       "2           1  0.22  0.2727  0.80        0.0       5          27   32       0  \n",
       "3           1  0.24  0.2879  0.75        0.0       3          10   13       0  \n",
       "4           1  0.24  0.2879  0.75        0.0       0           1    1       0  "
      ]
     },
     "execution_count": 425,
     "metadata": {},
     "output_type": "execute_result"
    }
   ],
   "source": [
    "bike_hour.head()"
   ]
  },
  {
   "cell_type": "code",
   "execution_count": 423,
   "metadata": {},
   "outputs": [],
   "source": [
    "bike_hour.to_csv('../examples/data/bike_hour.csv', index=False)"
   ]
  },
  {
   "cell_type": "code",
   "execution_count": 397,
   "metadata": {},
   "outputs": [],
   "source": [
    "inputs = tf.random.normal((16, 168, 20))"
   ]
  },
  {
   "cell_type": "code",
   "execution_count": 415,
   "metadata": {},
   "outputs": [
    {
     "data": {
      "text/plain": [
       "<tf.Tensor: shape=(16, 2, 11), dtype=float32, numpy=\n",
       "array([[[ 1.63610861e-01, -1.31702468e-01,  3.93715888e-01,\n",
       "          2.71687329e-01, -4.97767597e-01, -6.56814992e-01,\n",
       "          3.19338925e-02,  6.65161788e-01,  3.22068155e-01,\n",
       "          1.38531947e+00,  2.76653737e-01],\n",
       "        [-7.81839967e-01,  1.01869321e+00, -9.82219577e-01,\n",
       "         -1.07312826e-02,  1.37491345e+00, -1.62808454e+00,\n",
       "          1.71578422e-01,  6.22877300e-01,  1.54000258e+00,\n",
       "          5.52258432e-01,  3.49820137e-01]],\n",
       "\n",
       "       [[-6.16577923e-01, -2.12903306e-01, -8.77231956e-01,\n",
       "         -2.00275987e-01,  7.28540048e-02, -1.83202195e+00,\n",
       "         -6.73825979e-01, -1.45013595e+00,  4.66665775e-02,\n",
       "         -2.25476488e-01,  7.12276697e-01],\n",
       "        [ 6.06826186e-01,  4.26290810e-01,  3.55545849e-01,\n",
       "         -3.94191533e-01,  3.99319977e-01, -1.60023427e+00,\n",
       "          2.74982750e-01, -6.64998293e-01, -8.10659453e-02,\n",
       "          1.82398510e+00,  1.10739291e+00]],\n",
       "\n",
       "       [[-8.08771700e-02,  1.15730095e+00, -7.16601610e-01,\n",
       "         -6.00112796e-01, -3.99697244e-01, -2.10956991e-01,\n",
       "         -2.80240804e-01, -7.38778114e-01,  1.16207981e+00,\n",
       "          9.34627727e-02,  2.13512182e+00],\n",
       "        [-1.92183053e+00,  8.64105344e-01, -2.93799996e-01,\n",
       "          1.05133355e+00, -7.16449380e-01,  1.54634261e+00,\n",
       "         -8.12774658e-01,  1.85933858e-01,  4.30112213e-01,\n",
       "         -1.48991394e+00, -1.21304119e+00]],\n",
       "\n",
       "       [[-6.48783922e-01, -2.45658588e+00, -1.64417386e+00,\n",
       "         -6.07805789e-01,  2.22987738e-02, -1.95606971e+00,\n",
       "          3.51000369e-01, -3.84108639e+00,  8.30286622e-01,\n",
       "          6.31095529e-01,  2.04672623e+00],\n",
       "        [-7.67908096e-02, -3.99305284e-01, -1.77821064e+00,\n",
       "          6.28425181e-02, -8.16257969e-02, -1.48260772e+00,\n",
       "          2.48091266e-01, -9.95066226e-01,  4.74050045e-01,\n",
       "         -9.71749723e-01,  1.85135674e+00]],\n",
       "\n",
       "       [[-1.17894816e+00,  1.65995371e+00,  9.72562909e-01,\n",
       "         -7.20145702e-01,  2.46968269e-01,  1.43312347e+00,\n",
       "         -1.37395207e-02,  1.20928049e+00, -1.94389552e-01,\n",
       "         -8.12758327e-01, -1.24550307e+00],\n",
       "        [-1.15071261e+00,  2.85928726e+00,  1.39445078e+00,\n",
       "         -3.68458867e-01, -2.09500324e-02,  1.80034065e+00,\n",
       "         -2.85389610e-02,  3.58571482e+00, -1.11901164e+00,\n",
       "         -7.55799353e-01, -2.12809372e+00]],\n",
       "\n",
       "       [[-1.29512739e+00,  1.35133159e+00,  1.33063793e+00,\n",
       "          2.69900501e-01, -2.53101319e-01,  2.54996681e+00,\n",
       "          2.09445313e-01,  1.82007992e+00,  1.06234825e+00,\n",
       "         -7.82828689e-01, -1.34342611e+00],\n",
       "        [-6.17254853e-01,  1.48364937e+00,  2.68570495e+00,\n",
       "         -1.06174298e-01,  2.36339480e-01,  1.52992293e-01,\n",
       "          1.06605756e+00,  2.21585941e+00, -4.42125112e-01,\n",
       "          5.71008563e-01, -1.86264026e+00]],\n",
       "\n",
       "       [[-1.55091465e+00,  4.81011569e-01,  2.63450384e-01,\n",
       "         -1.16178811e+00,  3.86455029e-01,  3.29388708e-01,\n",
       "          8.20718169e-01,  1.89010128e-01, -5.63660562e-01,\n",
       "          9.97463167e-01, -1.83235300e+00],\n",
       "        [ 2.81345010e-01,  1.38136357e-01, -1.07673168e+00,\n",
       "         -4.65495795e-01,  1.51443839e-01, -7.62413561e-01,\n",
       "         -1.35013446e-01, -7.15406775e-01, -5.20643473e-01,\n",
       "         -5.91630340e-02,  1.53652060e+00]],\n",
       "\n",
       "       [[-5.19133687e-01, -1.63816571e+00, -2.28306964e-01,\n",
       "          2.73370177e-01, -2.89849579e-01,  2.52683461e-01,\n",
       "          2.48503327e-01, -9.80610922e-02, -9.93121803e-01,\n",
       "         -1.14897251e-01, -1.69406390e+00],\n",
       "        [ 2.08380029e-01,  3.73840481e-02,  8.59884843e-02,\n",
       "          5.73560953e-01,  5.17943084e-01, -3.15608323e-01,\n",
       "         -7.58804440e-01, -7.29694486e-01,  7.62858629e-01,\n",
       "          4.84674871e-02,  1.05416763e+00]],\n",
       "\n",
       "       [[-1.65921521e+00,  3.37103724e+00, -2.12973285e+00,\n",
       "         -1.03375649e+00, -1.75054550e-01,  3.64832464e-03,\n",
       "         -1.21517694e+00,  6.92216726e-03,  1.48857379e+00,\n",
       "          6.63326621e-01,  1.58092463e+00],\n",
       "        [-1.04333842e+00, -9.03731525e-01,  1.12501693e+00,\n",
       "         -1.66578323e-01,  5.11902392e-01, -9.27180469e-01,\n",
       "          1.15454519e+00,  1.18647397e+00, -2.12080479e+00,\n",
       "         -5.69650829e-01, -2.82252073e+00]],\n",
       "\n",
       "       [[ 2.24377918e+00, -2.31775141e+00,  7.45057464e-01,\n",
       "         -3.70254636e-01,  9.18496177e-02, -1.98692012e+00,\n",
       "          2.21144700e+00, -1.67158234e+00,  8.68051469e-01,\n",
       "          2.61870742e+00,  1.12029576e+00],\n",
       "        [-6.29246891e-01,  2.25399518e+00, -6.35970175e-01,\n",
       "         -3.22958440e-01,  1.62316263e-01,  1.81711838e-01,\n",
       "         -8.42355490e-01,  9.82347906e-01,  3.19021523e-01,\n",
       "         -5.95052242e-02,  6.51657999e-01]],\n",
       "\n",
       "       [[ 1.06553590e+00,  3.37711453e-01,  1.63975930e+00,\n",
       "         -2.91213021e-02, -4.21240836e-01,  6.86766088e-01,\n",
       "          3.56868744e-01,  5.37014365e-01, -5.37822545e-01,\n",
       "          5.23269355e-01,  2.12845668e-01],\n",
       "        [-1.21742532e-01,  1.37910023e-01, -4.92306590e-01,\n",
       "          4.92248237e-01,  1.45272240e-01,  4.03204933e-02,\n",
       "         -7.28979945e-01,  3.40739578e-01, -8.80028903e-01,\n",
       "         -4.13744748e-01, -1.03006709e+00]],\n",
       "\n",
       "       [[ 1.50283709e-01,  2.19937086e+00, -9.75489974e-01,\n",
       "         -1.07973325e+00,  5.65163791e-01, -2.27439664e-02,\n",
       "         -4.55658853e-01,  2.56784588e-01,  4.03538734e-01,\n",
       "          1.86768568e+00, -2.68461928e-02],\n",
       "        [-1.69704831e+00,  1.35514390e+00, -7.62683749e-01,\n",
       "          1.49447739e-01, -1.38107017e-01,  1.06749022e+00,\n",
       "         -4.32778031e-01, -4.79255021e-01,  1.26733088e+00,\n",
       "         -4.12926108e-01,  4.31685418e-01]],\n",
       "\n",
       "       [[ 7.05661625e-02, -9.21046615e-01,  1.15912743e-01,\n",
       "         -3.68218154e-01, -1.07479310e+00, -4.60916102e-01,\n",
       "          1.00598228e+00, -2.03102016e+00,  7.05021024e-01,\n",
       "          1.42350599e-01,  1.45769584e+00],\n",
       "        [ 5.56744456e-01,  4.48712170e-01,  3.45710330e-02,\n",
       "         -8.15903768e-02,  1.55336842e-01,  1.01700914e+00,\n",
       "         -7.78858304e-01,  4.24734682e-01,  7.15784952e-02,\n",
       "         -5.54658830e-01, -2.99896777e-01]],\n",
       "\n",
       "       [[ 6.57945931e-01,  1.54032141e-01, -3.05165470e-01,\n",
       "         -3.35974187e-01,  3.75573218e-01, -9.62297201e-01,\n",
       "         -3.69750917e-01,  5.02733767e-01, -8.44227612e-01,\n",
       "         -1.33131862e-01,  4.86001670e-01],\n",
       "        [ 3.51916589e-02, -1.83187425e+00,  8.35737512e-02,\n",
       "          1.50188732e+00,  3.98816049e-01, -8.81136477e-01,\n",
       "         -8.56530964e-01, -9.28169787e-01,  2.92194486e-01,\n",
       "         -7.37836361e-01,  8.07551861e-01]],\n",
       "\n",
       "       [[ 7.42773414e-01,  4.61366773e-01,  4.74603921e-01,\n",
       "          1.24325705e+00, -5.50757468e-01,  1.08058131e+00,\n",
       "          1.96687326e-01,  7.08726704e-01,  5.78216732e-01,\n",
       "         -9.72179294e-01,  9.86416876e-01],\n",
       "        [-8.48120451e-01,  7.87579358e-01, -1.37244388e-01,\n",
       "          9.55744028e-01, -4.85518843e-01,  1.70857713e-01,\n",
       "         -4.40783173e-01,  2.84470618e-01,  8.13712299e-01,\n",
       "         -7.19934642e-01,  5.42529225e-01]],\n",
       "\n",
       "       [[-1.44801462e+00,  2.28412175e+00, -5.43997526e-01,\n",
       "         -3.12913060e-01,  4.21793401e-01,  1.21068716e+00,\n",
       "         -5.10583758e-01,  1.80073333e+00, -1.30833602e+00,\n",
       "          3.43622386e-01, -2.17674422e+00],\n",
       "        [ 8.56092513e-01,  2.25952387e-01,  1.25879073e+00,\n",
       "          2.89193451e-01, -1.84624985e-01, -1.22785434e-01,\n",
       "          2.35161688e-02,  1.30424488e+00, -2.37783149e-01,\n",
       "         -2.41424710e-01,  2.92375565e-01]]], dtype=float32)>"
      ]
     },
     "execution_count": 415,
     "metadata": {},
     "output_type": "execute_result"
    }
   ],
   "source": [
    "output"
   ]
  },
  {
   "cell_type": "code",
   "execution_count": 398,
   "metadata": {},
   "outputs": [],
   "source": [
    "output = inputs\n",
    "for conv in conv_list:\n",
    "    output = conv(output)"
   ]
  },
  {
   "cell_type": "code",
   "execution_count": 399,
   "metadata": {},
   "outputs": [
    {
     "data": {
      "text/plain": [
       "TensorShape([16, 2, 11])"
      ]
     },
     "execution_count": 399,
     "metadata": {},
     "output_type": "execute_result"
    }
   ],
   "source": [
    "output.shape"
   ]
  },
  {
   "cell_type": "code",
   "execution_count": null,
   "metadata": {},
   "outputs": [],
   "source": [
    "len - "
   ]
  },
  {
   "cell_type": "code",
   "execution_count": null,
   "metadata": {},
   "outputs": [],
   "source": [
    "k, d, len"
   ]
  },
  {
   "cell_type": "code",
   "execution_count": 374,
   "metadata": {},
   "outputs": [],
   "source": [
    "dynamic_feat_cat_dict={\"year\": [1, 1, 2],\n",
    "                        \"month\": [1, 1, 2],\n",
    "                        \"day\": [1, 1, 5],\n",
    "                        \"holiday\": [1, 0, 2]}"
   ]
  },
  {
   "cell_type": "code",
   "execution_count": 375,
   "metadata": {},
   "outputs": [],
   "source": [
    "feat_embedding = dynamic_feature_cat_embedding(dynamic_feature_cat, dynamic_feat_cat_dict)"
   ]
  },
  {
   "cell_type": "code",
   "execution_count": 378,
   "metadata": {},
   "outputs": [
    {
     "data": {
      "text/plain": [
       "array([ 0.02641724, -0.01459879, -0.03312048, -0.01512096, -0.01711601,\n",
       "        0.01550024, -0.04791094, -0.0231845 , -0.00017115, -0.02280356,\n",
       "       -0.04120269])"
      ]
     },
     "execution_count": 378,
     "metadata": {},
     "output_type": "execute_result"
    }
   ],
   "source": [
    "feat_embedding[0,0]"
   ]
  },
  {
   "cell_type": "code",
   "execution_count": 333,
   "metadata": {},
   "outputs": [],
   "source": [
    "def static_embedding(static_feat_num_dict, n_back, n_fore, period='backward', emb_dim=2):\n",
    "    total = sum([v[0] for k,v in static_feat_num_dict.items()])\n",
    "    if period == 'backward':\n",
    "        feat_raw = np.zeros((total, n_back))\n",
    "        v_idx = 0\n",
    "        for k, v in static_feat_num_dict.items():\n",
    "            feat_raw[v_idx: v_idx+v[0]] = np.tile([k], [v[0], n_back])\n",
    "            v_idx += v[0]\n",
    "    elif period == 'future':\n",
    "        feat_raw = np.zeros((total, n_fore))\n",
    "        v_idx = 0\n",
    "        for k, v in static_feat_num_dict.items():\n",
    "            feat_raw[v_idx: v_idx+v[0]] = np.tile([k], [v[0], n_fore])\n",
    "            v_idx += v[0]\n",
    "    elif period == 'all':\n",
    "        feat_raw = np.zeros((total, n_back + n_fore))\n",
    "        v_idx = 0\n",
    "        for k, v in static_feat_num_dict.items():\n",
    "            feat_raw[v_idx: v_idx+v[0]] = np.tile([k], [v[0], n_back + n_fore])\n",
    "            v_idx += v[0]\n",
    "    if emb_dim > 0:\n",
    "        emb_layer = layers.Embedding(len(static_feat_num_dict.keys()), emb_dim)\n",
    "        return emb_layer(feat_raw)\n",
    "    else:\n",
    "        return tf.one_hot(feat_raw, len(static_feat_num_dict.keys()))"
   ]
  },
  {
   "cell_type": "code",
   "execution_count": 340,
   "metadata": {},
   "outputs": [],
   "source": [
    "arr = [2,3,3]"
   ]
  },
  {
   "cell_type": "code",
   "execution_count": 344,
   "metadata": {
    "scrolled": true
   },
   "outputs": [
    {
     "data": {
      "text/plain": [
       "(2, 3, 4)"
      ]
     },
     "execution_count": 344,
     "metadata": {},
     "output_type": "execute_result"
    }
   ],
   "source": [
    "np.zeros([*arr[:2], 4]).shape"
   ]
  },
  {
   "cell_type": "code",
   "execution_count": 345,
   "metadata": {},
   "outputs": [],
   "source": [
    "layers.Embedding?"
   ]
  },
  {
   "cell_type": "code",
   "execution_count": 328,
   "metadata": {},
   "outputs": [],
   "source": [
    "import tensorflow as tf\n",
    "from tensorflow.keras import layers"
   ]
  },
  {
   "cell_type": "code",
   "execution_count": 322,
   "metadata": {
    "scrolled": true
   },
   "outputs": [],
   "source": [
    "static_feat_num_dict = tsdataset.get_static_feat_num_dict()"
   ]
  },
  {
   "cell_type": "code",
   "execution_count": 337,
   "metadata": {},
   "outputs": [],
   "source": [
    "embedding = static_embedding(static_feat_num_dict, 72, 24, emb_dim=4)"
   ]
  },
  {
   "cell_type": "code",
   "execution_count": 338,
   "metadata": {},
   "outputs": [
    {
     "data": {
      "text/plain": [
       "TensorShape([134, 72, 4])"
      ]
     },
     "execution_count": 338,
     "metadata": {},
     "output_type": "execute_result"
    }
   ],
   "source": [
    "embedding.shape"
   ]
  },
  {
   "cell_type": "code",
   "execution_count": 339,
   "metadata": {},
   "outputs": [
    {
     "data": {
      "text/plain": [
       "<tf.Tensor: shape=(134, 72, 4), dtype=float32, numpy=\n",
       "array([[[-0.04002235, -0.02827703, -0.00982635,  0.02503194],\n",
       "        [-0.04002235, -0.02827703, -0.00982635,  0.02503194],\n",
       "        [-0.04002235, -0.02827703, -0.00982635,  0.02503194],\n",
       "        ...,\n",
       "        [-0.04002235, -0.02827703, -0.00982635,  0.02503194],\n",
       "        [-0.04002235, -0.02827703, -0.00982635,  0.02503194],\n",
       "        [-0.04002235, -0.02827703, -0.00982635,  0.02503194]],\n",
       "\n",
       "       [[-0.04002235, -0.02827703, -0.00982635,  0.02503194],\n",
       "        [-0.04002235, -0.02827703, -0.00982635,  0.02503194],\n",
       "        [-0.04002235, -0.02827703, -0.00982635,  0.02503194],\n",
       "        ...,\n",
       "        [-0.04002235, -0.02827703, -0.00982635,  0.02503194],\n",
       "        [-0.04002235, -0.02827703, -0.00982635,  0.02503194],\n",
       "        [-0.04002235, -0.02827703, -0.00982635,  0.02503194]],\n",
       "\n",
       "       [[-0.04002235, -0.02827703, -0.00982635,  0.02503194],\n",
       "        [-0.04002235, -0.02827703, -0.00982635,  0.02503194],\n",
       "        [-0.04002235, -0.02827703, -0.00982635,  0.02503194],\n",
       "        ...,\n",
       "        [-0.04002235, -0.02827703, -0.00982635,  0.02503194],\n",
       "        [-0.04002235, -0.02827703, -0.00982635,  0.02503194],\n",
       "        [-0.04002235, -0.02827703, -0.00982635,  0.02503194]],\n",
       "\n",
       "       ...,\n",
       "\n",
       "       [[-0.00983524,  0.01260981, -0.03105854,  0.0204536 ],\n",
       "        [-0.00983524,  0.01260981, -0.03105854,  0.0204536 ],\n",
       "        [-0.00983524,  0.01260981, -0.03105854,  0.0204536 ],\n",
       "        ...,\n",
       "        [-0.00983524,  0.01260981, -0.03105854,  0.0204536 ],\n",
       "        [-0.00983524,  0.01260981, -0.03105854,  0.0204536 ],\n",
       "        [-0.00983524,  0.01260981, -0.03105854,  0.0204536 ]],\n",
       "\n",
       "       [[-0.00983524,  0.01260981, -0.03105854,  0.0204536 ],\n",
       "        [-0.00983524,  0.01260981, -0.03105854,  0.0204536 ],\n",
       "        [-0.00983524,  0.01260981, -0.03105854,  0.0204536 ],\n",
       "        ...,\n",
       "        [-0.00983524,  0.01260981, -0.03105854,  0.0204536 ],\n",
       "        [-0.00983524,  0.01260981, -0.03105854,  0.0204536 ],\n",
       "        [-0.00983524,  0.01260981, -0.03105854,  0.0204536 ]],\n",
       "\n",
       "       [[-0.00983524,  0.01260981, -0.03105854,  0.0204536 ],\n",
       "        [-0.00983524,  0.01260981, -0.03105854,  0.0204536 ],\n",
       "        [-0.00983524,  0.01260981, -0.03105854,  0.0204536 ],\n",
       "        ...,\n",
       "        [-0.00983524,  0.01260981, -0.03105854,  0.0204536 ],\n",
       "        [-0.00983524,  0.01260981, -0.03105854,  0.0204536 ],\n",
       "        [-0.00983524,  0.01260981, -0.03105854,  0.0204536 ]]],\n",
       "      dtype=float32)>"
      ]
     },
     "execution_count": 339,
     "metadata": {},
     "output_type": "execute_result"
    }
   ],
   "source": [
    "embedding"
   ]
  },
  {
   "cell_type": "code",
   "execution_count": 346,
   "metadata": {
    "scrolled": true
   },
   "outputs": [],
   "source": [
    "dynamic_feature_cat = tsdataset.get_dynamic_feature_cat('backward')"
   ]
  },
  {
   "cell_type": "code",
   "execution_count": 347,
   "metadata": {},
   "outputs": [
    {
     "data": {
      "text/plain": [
       "array([[2021, 2021, 2021, ..., 2021, 2021, 2021],\n",
       "       [2021, 2021, 2021, ..., 2021, 2021, 2021],\n",
       "       [2021, 2021, 2021, ..., 2021, 2021, 2021],\n",
       "       ...,\n",
       "       [2020, 2020, 2020, ..., 2020, 2020, 2020],\n",
       "       [2020, 2020, 2020, ..., 2020, 2020, 2020],\n",
       "       [2020, 2020, 2020, ..., 2020, 2020, 2020]])"
      ]
     },
     "execution_count": 347,
     "metadata": {},
     "output_type": "execute_result"
    }
   ],
   "source": [
    "dynamic_feature_cat[:, :, 0]"
   ]
  },
  {
   "cell_type": "code",
   "execution_count": 357,
   "metadata": {},
   "outputs": [
    {
     "data": {
      "text/plain": [
       "3"
      ]
     },
     "execution_count": 357,
     "metadata": {},
     "output_type": "execute_result"
    }
   ],
   "source": [
    "len(np.unique([2,1,1,2,2,2,3]))"
   ]
  },
  {
   "cell_type": "code",
   "execution_count": 355,
   "metadata": {},
   "outputs": [],
   "source": [
    "np.unique?"
   ]
  },
  {
   "cell_type": "code",
   "execution_count": 350,
   "metadata": {},
   "outputs": [
    {
     "data": {
      "text/plain": [
       "(array([ 1,  2,  5, 25]),)"
      ]
     },
     "execution_count": 350,
     "metadata": {},
     "output_type": "execute_result"
    }
   ],
   "source": [
    "import numpy as np\n",
    "x = np.array([1,1,1,2,2,2,5,25,1,1])\n",
    "y = np.bincount(x)\n",
    "np.nonzero(y)"
   ]
  },
  {
   "cell_type": "code",
   "execution_count": 349,
   "metadata": {},
   "outputs": [
    {
     "data": {
      "text/plain": [
       "array([ 1,  2,  5, 25])"
      ]
     },
     "execution_count": 349,
     "metadata": {},
     "output_type": "execute_result"
    }
   ],
   "source": [
    "ii"
   ]
  },
  {
   "cell_type": "code",
   "execution_count": 299,
   "metadata": {},
   "outputs": [],
   "source": [
    "np.repeat?"
   ]
  },
  {
   "cell_type": "code",
   "execution_count": 310,
   "metadata": {},
   "outputs": [],
   "source": [
    "da = np.zeros((4,3))"
   ]
  },
  {
   "cell_type": "code",
   "execution_count": 311,
   "metadata": {},
   "outputs": [],
   "source": [
    "da[:2] = np.tile([1], [2,3])"
   ]
  },
  {
   "cell_type": "code",
   "execution_count": 315,
   "metadata": {},
   "outputs": [],
   "source": [
    "dic = {\n",
    "    'a': [1,2,3],\n",
    "    'b': [2,3,4]\n",
    "}"
   ]
  },
  {
   "cell_type": "code",
   "execution_count": 317,
   "metadata": {},
   "outputs": [
    {
     "data": {
      "text/plain": [
       "['a', 'b']"
      ]
     },
     "execution_count": 317,
     "metadata": {},
     "output_type": "execute_result"
    }
   ],
   "source": [
    "list(dic.keys())"
   ]
  },
  {
   "cell_type": "code",
   "execution_count": 316,
   "metadata": {},
   "outputs": [
    {
     "data": {
      "text/plain": [
       "2"
      ]
     },
     "execution_count": 316,
     "metadata": {},
     "output_type": "execute_result"
    }
   ],
   "source": [
    "len(dic.keys())"
   ]
  },
  {
   "cell_type": "code",
   "execution_count": 321,
   "metadata": {},
   "outputs": [
    {
     "data": {
      "text/plain": [
       "array([0, 1])"
      ]
     },
     "execution_count": 321,
     "metadata": {},
     "output_type": "execute_result"
    }
   ],
   "source": [
    "data['static'].unique()"
   ]
  },
  {
   "cell_type": "code",
   "execution_count": 318,
   "metadata": {
    "scrolled": false
   },
   "outputs": [
    {
     "data": {
      "text/plain": [
       "<tf.Tensor: shape=(2, 2, 3), dtype=float32, numpy=\n",
       "array([[[0., 0., 1.],\n",
       "        [0., 0., 0.]],\n",
       "\n",
       "       [[0., 1., 0.],\n",
       "        [0., 0., 1.]]], dtype=float32)>"
      ]
     },
     "execution_count": 318,
     "metadata": {},
     "output_type": "execute_result"
    }
   ],
   "source": [
    "tf.one_hot(np.array([[2,3], [1,2]]), 3)"
   ]
  },
  {
   "cell_type": "code",
   "execution_count": 296,
   "metadata": {
    "scrolled": true
   },
   "outputs": [
    {
     "data": {
      "text/plain": [
       "array([[0., 0., 0.],\n",
       "       [0., 0., 0.]])"
      ]
     },
     "execution_count": 296,
     "metadata": {},
     "output_type": "execute_result"
    }
   ],
   "source": [
    "np.zeros((2,3))"
   ]
  },
  {
   "cell_type": "code",
   "execution_count": 294,
   "metadata": {
    "scrolled": true
   },
   "outputs": [
    {
     "data": {
      "text/plain": [
       "(134, 72, 4)"
      ]
     },
     "execution_count": 294,
     "metadata": {},
     "output_type": "execute_result"
    }
   ],
   "source": [
    "tsdataset.get_dynamic_feature_real('backward').shape"
   ]
  },
  {
   "cell_type": "code",
   "execution_count": 241,
   "metadata": {
    "scrolled": false
   },
   "outputs": [
    {
     "data": {
      "text/plain": [
       "(134, 96)"
      ]
     },
     "execution_count": 241,
     "metadata": {},
     "output_type": "execute_result"
    }
   ],
   "source": [
    "tsdataset.get_time_series('all').shape"
   ]
  },
  {
   "cell_type": "code",
   "execution_count": 251,
   "metadata": {},
   "outputs": [],
   "source": [
    "ts = tsdataset.get_time_series('all')"
   ]
  },
  {
   "cell_type": "code",
   "execution_count": 242,
   "metadata": {},
   "outputs": [
    {
     "data": {
      "text/plain": [
       "(3360, 8)"
      ]
     },
     "execution_count": 242,
     "metadata": {},
     "output_type": "execute_result"
    }
   ],
   "source": [
    "data.shape"
   ]
  },
  {
   "cell_type": "code",
   "execution_count": 212,
   "metadata": {
    "scrolled": true
   },
   "outputs": [
    {
     "data": {
      "text/plain": [
       "<__main__.TSDataset at 0x7fb4299de7f0>"
      ]
     },
     "execution_count": 212,
     "metadata": {},
     "output_type": "execute_result"
    }
   ],
   "source": [
    "tsdataset"
   ]
  },
  {
   "cell_type": "code",
   "execution_count": 259,
   "metadata": {},
   "outputs": [],
   "source": [
    "import pickle"
   ]
  },
  {
   "cell_type": "code",
   "execution_count": 260,
   "metadata": {},
   "outputs": [],
   "source": [
    "pickle.dump?"
   ]
  },
  {
   "cell_type": "code",
   "execution_count": 272,
   "metadata": {},
   "outputs": [],
   "source": [
    "def get_sequence_features(ts, lag):\n",
    "    ts = pd.Series(ts)\n",
    "    columns=['lag_'+str(i) for i in range(lag)]\n",
    "    sequence_feature = pd.DataFrame(columns=columns)\n",
    "    for i in range(lag):\n",
    "        sequence_feature['lag_'+str(i)] = ts.shift(i, fill_value=0.0)\n",
    "    sequence_feature.shift(1, fill_value=0.0)\n",
    "    return sequence_feature, columns"
   ]
  },
  {
   "cell_type": "code",
   "execution_count": 269,
   "metadata": {},
   "outputs": [],
   "source": [
    "Y = pd.Series([1,2,3,4,5,6])"
   ]
  },
  {
   "cell_type": "code",
   "execution_count": 273,
   "metadata": {},
   "outputs": [
    {
     "data": {
      "text/plain": [
       "(   lag_0  lag_1  lag_2\n",
       " 0      1    0.0    0.0\n",
       " 1      2    1.0    0.0\n",
       " 2      3    2.0    1.0\n",
       " 3      4    3.0    2.0\n",
       " 4      5    4.0    3.0\n",
       " 5      6    5.0    4.0,\n",
       " ['lag_0', 'lag_1', 'lag_2'])"
      ]
     },
     "execution_count": 273,
     "metadata": {},
     "output_type": "execute_result"
    }
   ],
   "source": [
    "get_sequence_features([1,2,3,4,5,6], 3)"
   ]
  },
  {
   "cell_type": "code",
   "execution_count": 274,
   "metadata": {},
   "outputs": [],
   "source": [
    "a = pd.DataFrame({'a': [1,2,3],\n",
    "                 'b': [2,3,4]})"
   ]
  },
  {
   "cell_type": "code",
   "execution_count": 275,
   "metadata": {},
   "outputs": [],
   "source": [
    "b = pd.DataFrame({'c': [3,4,5]})"
   ]
  },
  {
   "cell_type": "code",
   "execution_count": 283,
   "metadata": {},
   "outputs": [],
   "source": [
    "pd.merge?"
   ]
  },
  {
   "cell_type": "code",
   "execution_count": 287,
   "metadata": {},
   "outputs": [
    {
     "data": {
      "text/html": [
       "<div>\n",
       "<style scoped>\n",
       "    .dataframe tbody tr th:only-of-type {\n",
       "        vertical-align: middle;\n",
       "    }\n",
       "\n",
       "    .dataframe tbody tr th {\n",
       "        vertical-align: top;\n",
       "    }\n",
       "\n",
       "    .dataframe thead th {\n",
       "        text-align: right;\n",
       "    }\n",
       "</style>\n",
       "<table border=\"1\" class=\"dataframe\">\n",
       "  <thead>\n",
       "    <tr style=\"text-align: right;\">\n",
       "      <th></th>\n",
       "      <th>a</th>\n",
       "      <th>b</th>\n",
       "      <th>c</th>\n",
       "    </tr>\n",
       "  </thead>\n",
       "  <tbody>\n",
       "    <tr>\n",
       "      <th>0</th>\n",
       "      <td>1</td>\n",
       "      <td>2</td>\n",
       "      <td>3</td>\n",
       "    </tr>\n",
       "    <tr>\n",
       "      <th>1</th>\n",
       "      <td>2</td>\n",
       "      <td>3</td>\n",
       "      <td>4</td>\n",
       "    </tr>\n",
       "    <tr>\n",
       "      <th>2</th>\n",
       "      <td>3</td>\n",
       "      <td>4</td>\n",
       "      <td>5</td>\n",
       "    </tr>\n",
       "  </tbody>\n",
       "</table>\n",
       "</div>"
      ],
      "text/plain": [
       "   a  b  c\n",
       "0  1  2  3\n",
       "1  2  3  4\n",
       "2  3  4  5"
      ]
     },
     "execution_count": 287,
     "metadata": {},
     "output_type": "execute_result"
    }
   ],
   "source": [
    "pd.concat([a, b], axis=1)"
   ]
  },
  {
   "cell_type": "code",
   "execution_count": 491,
   "metadata": {},
   "outputs": [],
   "source": [
    "res_df = pd.DataFrame()"
   ]
  },
  {
   "cell_type": "code",
   "execution_count": 498,
   "metadata": {},
   "outputs": [],
   "source": [
    "res_df = res_df.append({'a': 2, 'b': 3, 'c': 3, 'd': 3}, ignore_index=True)"
   ]
  },
  {
   "cell_type": "code",
   "execution_count": 499,
   "metadata": {},
   "outputs": [
    {
     "data": {
      "text/html": [
       "<div>\n",
       "<style scoped>\n",
       "    .dataframe tbody tr th:only-of-type {\n",
       "        vertical-align: middle;\n",
       "    }\n",
       "\n",
       "    .dataframe tbody tr th {\n",
       "        vertical-align: top;\n",
       "    }\n",
       "\n",
       "    .dataframe thead th {\n",
       "        text-align: right;\n",
       "    }\n",
       "</style>\n",
       "<table border=\"1\" class=\"dataframe\">\n",
       "  <thead>\n",
       "    <tr style=\"text-align: right;\">\n",
       "      <th></th>\n",
       "      <th>a</th>\n",
       "      <th>b</th>\n",
       "      <th>c</th>\n",
       "      <th>d</th>\n",
       "    </tr>\n",
       "  </thead>\n",
       "  <tbody>\n",
       "    <tr>\n",
       "      <th>0</th>\n",
       "      <td>2.0</td>\n",
       "      <td>3.0</td>\n",
       "      <td>3.0</td>\n",
       "      <td>3.0</td>\n",
       "    </tr>\n",
       "    <tr>\n",
       "      <th>1</th>\n",
       "      <td>2.0</td>\n",
       "      <td>3.0</td>\n",
       "      <td>3.0</td>\n",
       "      <td>3.0</td>\n",
       "    </tr>\n",
       "    <tr>\n",
       "      <th>2</th>\n",
       "      <td>2.0</td>\n",
       "      <td>3.0</td>\n",
       "      <td>3.0</td>\n",
       "      <td>3.0</td>\n",
       "    </tr>\n",
       "    <tr>\n",
       "      <th>3</th>\n",
       "      <td>2.0</td>\n",
       "      <td>3.0</td>\n",
       "      <td>3.0</td>\n",
       "      <td>3.0</td>\n",
       "    </tr>\n",
       "  </tbody>\n",
       "</table>\n",
       "</div>"
      ],
      "text/plain": [
       "     a    b    c    d\n",
       "0  2.0  3.0  3.0  3.0\n",
       "1  2.0  3.0  3.0  3.0\n",
       "2  2.0  3.0  3.0  3.0\n",
       "3  2.0  3.0  3.0  3.0"
      ]
     },
     "execution_count": 499,
     "metadata": {},
     "output_type": "execute_result"
    }
   ],
   "source": [
    "res_df"
   ]
  },
  {
   "cell_type": "code",
   "execution_count": 500,
   "metadata": {
    "scrolled": true
   },
   "outputs": [],
   "source": [
    "dic.update({'c': 2})"
   ]
  },
  {
   "cell_type": "code",
   "execution_count": 501,
   "metadata": {},
   "outputs": [
    {
     "data": {
      "text/plain": [
       "{'b': [2, 3, 4], 'c': 2}"
      ]
     },
     "execution_count": 501,
     "metadata": {},
     "output_type": "execute_result"
    }
   ],
   "source": [
    "dic"
   ]
  },
  {
   "cell_type": "code",
   "execution_count": 439,
   "metadata": {},
   "outputs": [
    {
     "data": {
      "text/plain": [
       "[1, 2, 3]"
      ]
     },
     "execution_count": 439,
     "metadata": {},
     "output_type": "execute_result"
    }
   ],
   "source": [
    "dic.pop('a')"
   ]
  },
  {
   "cell_type": "code",
   "execution_count": 455,
   "metadata": {},
   "outputs": [],
   "source": [
    "with open(\"../examples/results/DeepTCN2_bike_hour_2021_02_28_22_13_45.pkl\", 'rb') as f:\n",
    "    res = pickle.load(f)"
   ]
  },
  {
   "cell_type": "code",
   "execution_count": 457,
   "metadata": {},
   "outputs": [
    {
     "name": "stdout",
     "output_type": "stream",
     "text": [
      "(145, 48)\n",
      "(145, 24)\n",
      "(145, 24)\n"
     ]
    }
   ],
   "source": [
    "for k,v in res.items():\n",
    "    print(v.shape)"
   ]
  },
  {
   "cell_type": "code",
   "execution_count": 467,
   "metadata": {},
   "outputs": [],
   "source": [
    "from deepts.metrics import MASE, ND, NRMSE"
   ]
  },
  {
   "cell_type": "code",
   "execution_count": 468,
   "metadata": {},
   "outputs": [],
   "source": [
    "nd = ND()\n",
    "nrmse = NRMSE()"
   ]
  },
  {
   "cell_type": "code",
   "execution_count": 469,
   "metadata": {},
   "outputs": [],
   "source": [
    "res_nd = nd(res['y_true'], res['y_pred'])"
   ]
  },
  {
   "cell_type": "code",
   "execution_count": 471,
   "metadata": {},
   "outputs": [],
   "source": [
    "res_nrmse = nrmse(res['y_true'], res['y_pred'])"
   ]
  },
  {
   "cell_type": "code",
   "execution_count": 474,
   "metadata": {},
   "outputs": [
    {
     "name": "stdout",
     "output_type": "stream",
     "text": [
      "0.5569209 0.8135447\n"
     ]
    }
   ],
   "source": [
    "print(res_nd.numpy(), res_nrmse.numpy())"
   ]
  },
  {
   "cell_type": "code",
   "execution_count": 461,
   "metadata": {},
   "outputs": [],
   "source": [
    "import sys, os"
   ]
  },
  {
   "cell_type": "code",
   "execution_count": 463,
   "metadata": {},
   "outputs": [
    {
     "data": {
      "text/plain": [
       "'/home/haohy/TSF/deepts'"
      ]
     },
     "execution_count": 463,
     "metadata": {},
     "output_type": "execute_result"
    }
   ],
   "source": [
    "os.path.abspath('..')"
   ]
  },
  {
   "cell_type": "code",
   "execution_count": 462,
   "metadata": {},
   "outputs": [
    {
     "data": {
      "text/plain": [
       "'/home/haohy/TSF/deepts/notebooks'"
      ]
     },
     "execution_count": 462,
     "metadata": {},
     "output_type": "execute_result"
    }
   ],
   "source": [
    "os.getcwd()"
   ]
  },
  {
   "cell_type": "code",
   "execution_count": 460,
   "metadata": {},
   "outputs": [
    {
     "name": "stdout",
     "output_type": "stream",
     "text": [
      "/home/haohy/TSF/deepts/notebooks\r\n"
     ]
    }
   ],
   "source": [
    "!pwd"
   ]
  },
  {
   "cell_type": "code",
   "execution_count": 464,
   "metadata": {},
   "outputs": [],
   "source": [
    "sys.path += [os.path.abspath('..')]"
   ]
  },
  {
   "cell_type": "code",
   "execution_count": 450,
   "metadata": {},
   "outputs": [
    {
     "data": {
      "text/plain": [
       "(134, 96, 4)"
      ]
     },
     "execution_count": 450,
     "metadata": {},
     "output_type": "execute_result"
    }
   ],
   "source": [
    "res['dynamic_feature_cat'][:, : 200, :].shape"
   ]
  },
  {
   "cell_type": "code",
   "execution_count": 451,
   "metadata": {},
   "outputs": [
    {
     "data": {
      "text/plain": [
       "TensorShape([134, 96])"
      ]
     },
     "execution_count": 451,
     "metadata": {},
     "output_type": "execute_result"
    }
   ],
   "source": [
    "res['time_series'].shape"
   ]
  },
  {
   "cell_type": "code",
   "execution_count": 429,
   "metadata": {},
   "outputs": [
    {
     "data": {
      "text/plain": [
       "array([ 0.08966588,  0.21893725,  0.34446034,  0.464086  ,  0.5757664 ,\n",
       "        0.67758936,  0.7678117 ,  0.8448887 ,  0.90750086,  0.95457625,\n",
       "        0.9853089 ,  0.99917245,  0.99592984,  0.9756365 ,  0.93863964,\n",
       "        0.885573  ,  0.81734496,  0.7351236 ,  0.6403164 ,  0.5345469 ,\n",
       "        0.41962558,  0.29752025,  0.17032109,  0.04020607, -0.09059738,\n",
       "       -0.21984974, -0.3453382 , -0.46491426, -0.5765308 , -0.6782769 ,\n",
       "       -0.76841056, -0.84538865, -0.90789336, -0.95485455, -0.98546815,\n",
       "       -0.9992101 , -0.99584514, -0.9754308 , -0.9383167 , -0.88513815,\n",
       "       -0.8168057 , -0.73448914, -0.6395978 , -0.5337562 , -0.4187765 ,\n",
       "       -0.2966272 , -0.16939943, -0.03927147,  0.09152877,  0.22076198,\n",
       "        0.3462158 ,  0.46574217,  0.57729477,  0.67896384,  0.7690088 ,\n",
       "        0.8458879 ,  0.908285  ,  0.955132  ,  0.9856266 ,  0.99924684,\n",
       "        0.9957595 ,  0.9752244 ,  0.93799293,  0.88470256,  0.81626576,\n",
       "        0.7338541 ,  0.6388785 ,  0.5329651 ,  0.41792697,  0.2957339 ,\n",
       "        0.16847764,  0.03833687], dtype=float32)"
      ]
     },
     "execution_count": 429,
     "metadata": {},
     "output_type": "execute_result"
    }
   ],
   "source": [
    "res['y_back'][0]"
   ]
  },
  {
   "cell_type": "code",
   "execution_count": 430,
   "metadata": {},
   "outputs": [
    {
     "data": {
      "text/plain": [
       "array([-0.09246009, -0.22167417, -0.34709308, -0.46656954, -0.5780582 ,\n",
       "       -0.6796502 , -0.7696063 , -0.8463863 , -0.9086759 , -0.9554086 ,\n",
       "       -0.9857842 , -0.99928266, -0.99567306, -0.975017  , -0.93766826,\n",
       "       -0.8842662 , -0.81572515, -0.7332185 , -0.63815874, -0.53217345,\n",
       "       -0.41707712, -0.2948403 , -0.16755562, -0.03740233], dtype=float32)"
      ]
     },
     "execution_count": 430,
     "metadata": {},
     "output_type": "execute_result"
    }
   ],
   "source": [
    "res['y_true'][0]"
   ]
  },
  {
   "cell_type": "code",
   "execution_count": 431,
   "metadata": {},
   "outputs": [
    {
     "data": {
      "text/plain": [
       "array([0., 0., 0., 0., 0., 0., 0., 0., 0., 0., 0., 0., 0., 0., 0., 0., 0.,\n",
       "       0., 0., 0., 0., 0., 0., 0.], dtype=float32)"
      ]
     },
     "execution_count": 431,
     "metadata": {},
     "output_type": "execute_result"
    }
   ],
   "source": [
    "res['y_pred'][0]"
   ]
  },
  {
   "cell_type": "code",
   "execution_count": 436,
   "metadata": {},
   "outputs": [
    {
     "data": {
      "text/plain": [
       "array([0.7987077, 0.7987077, 0.7987077, 0.7987077, 0.7987077, 0.7987077,\n",
       "       0.7987077, 0.7987077, 0.7987077, 0.7987077, 0.7987077, 0.7987077,\n",
       "       0.7987077, 0.7987077, 0.7987077, 0.7987077, 0.7987077, 0.7987077,\n",
       "       0.7987077, 0.7987077, 0.7987077, 0.7987077, 0.7987077, 0.7987077],\n",
       "      dtype=float32)"
      ]
     },
     "execution_count": 436,
     "metadata": {},
     "output_type": "execute_result"
    }
   ],
   "source": [
    "res['y_pred'][5]"
   ]
  },
  {
   "cell_type": "code",
   "execution_count": null,
   "metadata": {},
   "outputs": [],
   "source": []
  },
  {
   "cell_type": "code",
   "execution_count": null,
   "metadata": {},
   "outputs": [],
   "source": []
  },
  {
   "cell_type": "code",
   "execution_count": null,
   "metadata": {},
   "outputs": [],
   "source": []
  }
 ],
 "metadata": {
  "kernelspec": {
   "display_name": "Python 3",
   "language": "python",
   "name": "python3"
  },
  "language_info": {
   "codemirror_mode": {
    "name": "ipython",
    "version": 3
   },
   "file_extension": ".py",
   "mimetype": "text/x-python",
   "name": "python",
   "nbconvert_exporter": "python",
   "pygments_lexer": "ipython3",
   "version": "3.6.10"
  }
 },
 "nbformat": 4,
 "nbformat_minor": 4
}
